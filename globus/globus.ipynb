{
 "cells": [
  {
   "cell_type": "markdown",
   "metadata": {},
   "source": [
    "## Globus (CLI)"
   ]
  },
  {
   "cell_type": "markdown",
   "metadata": {},
   "source": [
    "Run this notebook in the conda environment that can be build using [environment_globus.yml](./environment_globus.yml):\n",
    "\n",
    "```\n",
    "conda env create -f environment_globus.yml\n",
    "conda activate globus_environment\n",
    "```"
   ]
  },
  {
   "cell_type": "code",
   "execution_count": null,
   "metadata": {},
   "outputs": [],
   "source": [
    "# follow steps here\n",
    "# https://docs.datacore.vib.be/data-transfer/globus/\n",
    "\n",
    "# and also install local globus personal endpoint\n",
    "# follow installation guide for personal localglobus\n",
    "# https://docs.globus.org/globus-connect-personal/\n",
    "import subprocess\n",
    "\n",
    "from globus_sdk import LocalGlobusConnectPersonal\n",
    "endpoint_id = LocalGlobusConnectPersonal().endpoint_id\n",
    "print( endpoint_id )"
   ]
  },
  {
   "cell_type": "code",
   "execution_count": 31,
   "metadata": {},
   "outputs": [
    {
     "name": "stdout",
     "output_type": "stream",
     "text": [
      "Contents local folder:\n",
      "some_test/\n",
      "baysor.pdf\n",
      "mesmer_2022.pdf\n",
      "\n",
      "\n",
      "Leuven staging:\n",
      "conda_environments/\n",
      "globus_test_directory/\n",
      "merscope/\n",
      "\n",
      "\n",
      "VSC_DATA on Ugent:\n",
      "\n",
      "VSC_DATA_VO_USER on Ugent:\n",
      "VIB/\n",
      "baysor_exec/\n",
      "julia-1.10.0/\n",
      "miniconda3/\n",
      "LICENSE\n",
      "Miniconda3-latest-Linux-x86_64.sh\n",
      "README.md\n",
      "julia-1.10.0-linux-x86_64.tar.gz\n"
     ]
    }
   ],
   "source": [
    "EP_OBJST_ID=\"000dc6b9-71f1-4f16-8c70-9a920a3f1c10\" # this is UUID of VIB object storage.\n",
    "EP_VIB_ID=\"2819387e-16fc-487e-b1f7-c077457c2310\" # this is UUID of active storage on VIB compute.\n",
    "EP_PERS_ID=\"4fc8d164-6e75-11ef-b75f-0f922496edc5\" # change this to personal UUID.\n",
    "\n",
    "EP_VSC_Tier2_ugent_ID=\"e9247cdf-2c76-42ef-81d4-1c3f772ce719\"\n",
    "\n",
    "EP_VSC_Tier2_leuven_scratch_ID=\"82c495cc-aef8-40ad-88df-f9c92bee82d3\"\n",
    "\n",
    "# check local folder\n",
    "print( \"Contents local folder:\" )\n",
    "!globus ls $EP_PERS_ID:/Users/arnedf/VIB/globus_scripts/data_to_transfer/\n",
    "print( \"\\n\" )\n",
    "\n",
    "print( \"Leuven staging:\" )\n",
    "# available collections on VSC:\n",
    "# https://docs.vscentrum.be/globus/collections.html#globus-available-collections\n",
    "# check if buckets can be accessed\n",
    "!globus ls $EP_VSC_Tier2_leuven_scratch_ID:/project/stg_00143/spatial_data_training/\n",
    "print( \"\\n\" )\n",
    "\n",
    "print( \"VSC_DATA on Ugent:\" ) # change path to your VSC_DATA (e.g. echo $VSC_DATA on login nodes)\n",
    "!globus ls $EP_VSC_Tier2_ugent_ID:/data/gent/405/vsc40523/\n",
    "\n",
    "print( \"VSC_DATA_VO_USER on Ugent:\" ) # change path to your VSC_DATA_VO_USER (e.g. echo $VSC_DATA_VO_USER on login nodes)\n",
    "!globus ls $EP_VSC_Tier2_ugent_ID:/data/gent/vo/001/gvo00163/vsc40523/"
   ]
  },
  {
   "cell_type": "markdown",
   "metadata": {},
   "source": [
    "### Copy from VSC to local"
   ]
  },
  {
   "cell_type": "code",
   "execution_count": 21,
   "metadata": {},
   "outputs": [
    {
     "name": "stdout",
     "output_type": "stream",
     "text": [
      "Message: The transfer has been accepted and a task has been created and queued for execution\n",
      "Task ID: 03fa196c-9d02-11ef-9b68-8fdec6a61c4f\n"
     ]
    }
   ],
   "source": [
    "SOURCE_DIR_NAME = \"/project/stg_00143/spatial_data_training/globus_test_directory/\"\n",
    "TARGET_DIR_NAME =  \"/Users/arnedf/Downloads/globus_test_directory/\"\n",
    "\n",
    "command = [\n",
    "    \"globus\", \"transfer\",\n",
    "    \"-v\", \n",
    "    \"--label\", \"test_transfer\",\n",
    "    \"--notify\", \"succeeded\",\n",
    "    \"-r\", \n",
    "    \"--encrypt\",\n",
    "    \"--fail-on-quota-errors\",\n",
    "    f\"{EP_VSC_Tier2_leuven_scratch_ID}:{SOURCE_DIR_NAME}\",\n",
    "    f\"{EP_PERS_ID}:{TARGET_DIR_NAME}\",\n",
    "    \"--recursive\"\n",
    "]\n",
    "\n",
    "# Run the command\n",
    "try:\n",
    "    subprocess.run(command, check=True)\n",
    "except subprocess.CalledProcessError as e:\n",
    "    print(f\"Error: {e}\")"
   ]
  },
  {
   "cell_type": "code",
   "execution_count": 22,
   "metadata": {},
   "outputs": [
    {
     "name": "stdout",
     "output_type": "stream",
     "text": [
      "Label:                        test_transfer\n",
      "Task ID:                      03fa196c-9d02-11ef-9b68-8fdec6a61c4f\n",
      "Is Paused:                    False\n",
      "Type:                         TRANSFER\n",
      "Directories:                  1\n",
      "Files:                        1\n",
      "Status:                       SUCCEEDED\n",
      "Request Time:                 2024-11-07T12:15:46+00:00\n",
      "Faults:                       0\n",
      "Total Subtasks:               3\n",
      "Subtasks Succeeded:           3\n",
      "Subtasks Pending:             0\n",
      "Subtasks Retrying:            0\n",
      "Subtasks Failed:              0\n",
      "Subtasks Canceled:            0\n",
      "Subtasks Expired:             0\n",
      "Subtasks with Skipped Errors: 0\n",
      "Completion Time:              2024-11-07T12:15:51+00:00\n",
      "Source Endpoint:              VSC KU Leuven tier2 scratch\n",
      "Source Endpoint ID:           82c495cc-aef8-40ad-88df-f9c92bee82d3\n",
      "Destination Endpoint:         Globus connect personal Arne\n",
      "Destination Endpoint ID:      4fc8d164-6e75-11ef-b75f-0f922496edc5\n",
      "Bytes Transferred:            10\n",
      "Bytes Per Second:             2\n"
     ]
    }
   ],
   "source": [
    "# show info related to the task\n",
    "!globus task show 03fa196c-9d02-11ef-9b68-8fdec6a61c4f"
   ]
  },
  {
   "cell_type": "markdown",
   "metadata": {},
   "source": [
    "### Copy from local to VSC"
   ]
  },
  {
   "cell_type": "code",
   "execution_count": 24,
   "metadata": {},
   "outputs": [
    {
     "name": "stdout",
     "output_type": "stream",
     "text": [
      "Message: The transfer has been accepted and a task has been created and queued for execution\n",
      "Task ID: 656a3056-9d02-11ef-866b-73df88a31e54\n"
     ]
    }
   ],
   "source": [
    "SOURCE_DIR_NAME = \"/Users/arnedf/Downloads/globus_test_directory/\"\n",
    "TARGET_DIR_NAME =  \"/project/stg_00143/spatial_data_training/globus_test_directory/\"\n",
    "\n",
    "command = [\n",
    "    \"globus\", \"transfer\",\n",
    "    \"-v\", \n",
    "    \"--label\", \"test_transfer\",\n",
    "    \"--notify\", \"succeeded\",\n",
    "    \"-r\", \n",
    "    \"--encrypt\",\n",
    "    \"--fail-on-quota-errors\",\n",
    "    f\"{EP_PERS_ID}:{SOURCE_DIR_NAME}\",\n",
    "    f\"{EP_VSC_Tier2_leuven_scratch_ID}:{TARGET_DIR_NAME}\",\n",
    "    \"--recursive\"\n",
    "]\n",
    "\n",
    "# Run the command\n",
    "try:\n",
    "    subprocess.run(command, check=True)\n",
    "except subprocess.CalledProcessError as e:\n",
    "    print(f\"Error: {e}\")"
   ]
  }
 ],
 "metadata": {
  "kernelspec": {
   "display_name": "globus_environment",
   "language": "python",
   "name": "python3"
  },
  "language_info": {
   "codemirror_mode": {
    "name": "ipython",
    "version": 3
   },
   "file_extension": ".py",
   "mimetype": "text/x-python",
   "name": "python",
   "nbconvert_exporter": "python",
   "pygments_lexer": "ipython3",
   "version": "3.12.5"
  }
 },
 "nbformat": 4,
 "nbformat_minor": 2
}
