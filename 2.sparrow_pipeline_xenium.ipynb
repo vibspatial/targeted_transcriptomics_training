{
 "cells": [
  {
   "cell_type": "code",
   "execution_count": null,
   "metadata": {},
   "outputs": [],
   "source": [
    "import sparrow as sp"
   ]
  },
  {
   "cell_type": "code",
   "execution_count": null,
   "metadata": {},
   "outputs": [],
   "source": [
    "import os\n",
    "import pooch\n",
    "from sparrow.datasets.registry import get_registry\n",
    "\n",
    "registry = get_registry( path = None) # on Windows, set path (e.g. to symlink of default cache of os)\n",
    "path_unzipped = registry.fetch(\n",
    "    \"transcriptomics/xenium/Xenium_V1_humanLung_Cancer_FFPE/Xenium_V1_humanLung_Cancer_FFPE_outs.zip\",\n",
    "    processor=pooch.Unzip(extract_dir=\".\"),\n",
    ")\n",
    "_ = registry.fetch(\n",
    "    \"transcriptomics/xenium/Xenium_V1_humanLung_Cancer_FFPE/Xenium_V1_humanLung_Cancer_FFPE_he_image.ome.tif\"\n",
    ")\n",
    "_ = registry.fetch(\n",
    "    \"transcriptomics/xenium/Xenium_V1_humanLung_Cancer_FFPE/Xenium_V1_humanLung_Cancer_FFPE_he_imagealignment.csv\"\n",
    ")\n",
    "input_path = os.path.commonpath(path_unzipped)"
   ]
  },
  {
   "cell_type": "code",
   "execution_count": null,
   "metadata": {},
   "outputs": [],
   "source": [
    "import tempfile\n",
    "import uuid\n",
    "\n",
    "OUTPUT_DIR =  tempfile.gettempdir()\n",
    "\n",
    "sdata = sp.io.xenium(\n",
    "    input_path,\n",
    "    to_coordinate_system=\"global\",\n",
    "    aligned_images=True,\n",
    "    cells_table=True,\n",
    "    nucleus_labels=True,\n",
    "    cells_labels=True,\n",
    "    filter_gene_names=['Unassigned','NegControl'],\n",
    "    output= os.path.join( OUTPUT_DIR, f\"sdata_{uuid.uuid4()}.zarr\" ),\n",
    ")\n"
   ]
  },
  {
   "cell_type": "code",
   "execution_count": null,
   "metadata": {},
   "outputs": [],
   "source": [
    "from spatialdata.transformations import get_transformation\n",
    "\n",
    "get_transformation( sdata[ \"morphology_focus_global\" ], get_all=True )"
   ]
  },
  {
   "cell_type": "code",
   "execution_count": null,
   "metadata": {},
   "outputs": [],
   "source": [
    "get_transformation( sdata[ \"cell_labels_global\" ], get_all=True )"
   ]
  },
  {
   "cell_type": "code",
   "execution_count": null,
   "metadata": {},
   "outputs": [],
   "source": [
    "sdata"
   ]
  },
  {
   "cell_type": "markdown",
   "metadata": {},
   "source": [
    "Excercise:\n",
    "\n",
    "- Use napari-spatialdata to visualize the image layer 'morphology_focus_global'.\n",
    "- Next visualize the cell segmentation mask provided by Xenium, 'cell_labels_global'.\n",
    "- Visualize the gene expression of 'ACE2'"
   ]
  },
  {
   "cell_type": "code",
   "execution_count": null,
   "metadata": {},
   "outputs": [],
   "source": [
    "#from napari_spatialdata import Interactive\n",
    "\n",
    "#Interactive( sdata )"
   ]
  },
  {
   "cell_type": "markdown",
   "metadata": {},
   "source": [
    "Vectorize the labels layer"
   ]
  },
  {
   "cell_type": "code",
   "execution_count": null,
   "metadata": {},
   "outputs": [],
   "source": [
    "import dask\n",
    "from spatialdata.transformations import get_transformation\n",
    "from sparrow.image._image import _get_spatial_element\n",
    "\n",
    "se = _get_spatial_element( sdata, layer = \"cell_labels_global\" )\n",
    "transformations=get_transformation( sdata[ \"cell_labels_global\" ], get_all=True )\n",
    "with dask.config.set(scheduler=\"processes\"):\n",
    "    sdata=sp.sh.vectorize( sdata, labels_layer=\"cell_labels_global\", output_layer=\"cell_labels_boundaries_global\", overwrite=True )"
   ]
  },
  {
   "cell_type": "code",
   "execution_count": null,
   "metadata": {},
   "outputs": [],
   "source": [
    "sdata[ \"cell_labels_boundaries_global\" ].head()"
   ]
  },
  {
   "cell_type": "code",
   "execution_count": null,
   "metadata": {},
   "outputs": [],
   "source": [
    "sp.pl.plot_shapes(\n",
    "    sdata,\n",
    "    img_layer=\"morphology_focus_global\",\n",
    "    shapes_layer=[None, \"cell_labels_boundaries_global\"],\n",
    "    crd = [ 8000, 10000, 8000, 10000 ],\n",
    "    channel= [ 'DAPI', 'ATP1A1/CD45/E-Cadherin', '18S', 'AlphaSMA/Vimentin' ],\n",
    "    alpha = 0.4,\n",
    "    linewidth=1.5,\n",
    "      )"
   ]
  },
  {
   "cell_type": "markdown",
   "metadata": {},
   "source": [
    "Excercise.\n",
    "\n",
    "- Which spatial element annotates the table `table_global`?\n",
    "- Can you visualize gene expression of gene `ACE2` using the sparrow function `sp.pl.plot_shapes`?"
   ]
  },
  {
   "cell_type": "code",
   "execution_count": null,
   "metadata": {},
   "outputs": [],
   "source": [
    "# solution\n",
    "\n",
    "from IPython.display import display\n",
    "\n",
    "display( sdata[ \"table_global\" ] )\n",
    "\n",
    "display( sdata[ \"table_global\" ].uns[ \"spatialdata_attrs\" ] )\n",
    "\n",
    "display( sdata[ \"table_global\" ].var.head() )\n",
    "\n",
    "sp.pl.plot_shapes(\n",
    "    sdata,\n",
    "    img_layer=\"morphology_focus_global\",\n",
    "    shapes_layer=\"cell_labels_boundaries_global\", # boundaries of table layer \"cell_labels_global\" obtained via sp.sh.vectorize(...)\n",
    "    table_layer=\"table_global\",\n",
    "    column=\"ACE2\",\n",
    "    crd =[ 8000,10000, 8000, 10000 ],\n",
    "    channel=\"DAPI\",\n",
    "    linewidth=0,\n",
    "    figsize=(5,5),\n",
    "      )"
   ]
  },
  {
   "cell_type": "markdown",
   "metadata": {},
   "source": [
    "We want to obtain segmentation masks using `SPArroW`. First thing we do is image preprocessing. We do this on a crop."
   ]
  },
  {
   "cell_type": "code",
   "execution_count": null,
   "metadata": {},
   "outputs": [],
   "source": [
    "sdata=sp.im.min_max_filtering(\n",
    "    sdata,\n",
    "    img_layer=\"morphology_focus_global\",\n",
    "    output_layer=\"min_max_filtered\",\n",
    "    size_min_max_filter=51,\n",
    "    crd = [ 8000,10000,8000,10000 ],\n",
    "    overwrite=True,\n",
    "      )\n",
    "sdata=sp.im.enhance_contrast(\n",
    "    sdata,\n",
    "    img_layer=\"min_max_filtered\",\n",
    "    output_layer=\"clahe\",\n",
    "    contrast_clip=3.5,\n",
    "    overwrite=True,\n",
    "      )"
   ]
  },
  {
   "cell_type": "code",
   "execution_count": null,
   "metadata": {},
   "outputs": [],
   "source": [
    "sp.pl.plot_image( sdata, img_layer=[ \"morphology_focus_global\" , \"clahe\" ], crd = [ 8000,10000,8000,10000 ], channel= [ 'DAPI', 'ATP1A1/CD45/E-Cadherin', '18S', 'AlphaSMA/Vimentin' ] )"
   ]
  },
  {
   "cell_type": "markdown",
   "metadata": {},
   "source": [
    "Excercise.\n",
    "\n",
    "Change the parameters of the `SPArrOW` functions `sp.im.min_max_filtering` and `sp.im.enhance_contrast`, and see what the effect is on the resulting preprocessed image."
   ]
  },
  {
   "cell_type": "code",
   "execution_count": null,
   "metadata": {},
   "outputs": [],
   "source": [
    "sp.pl.plot_shapes(\n",
    "    sdata,\n",
    "    img_layer=\"morphology_focus_global\",\n",
    "    shapes_layer=[None, \"cell_labels_boundaries_global\"],\n",
    "    crd = [ 8000, 10000, 8000, 10000 ],\n",
    "    channel= [ 'DAPI', 'ATP1A1/CD45/E-Cadherin', '18S', 'AlphaSMA/Vimentin' ],\n",
    "    alpha = 0.4,\n",
    "    linewidth=1.5,\n",
    "      )"
   ]
  },
  {
   "cell_type": "code",
   "execution_count": null,
   "metadata": {},
   "outputs": [],
   "source": [
    "import torch\n",
    "from cellpose import models\n",
    "\n",
    "from sparrow.image import cellpose_callable\n",
    "\n",
    "gpu = False\n",
    "device = \"cpu\"  # mps broken in cellpose (macOS), see https://github.com/MouseLand/cellpose/issues/1063\n",
    "model=models.CellposeModel( gpu=gpu, pretrained_model='cyto3', device = torch.device(device ) )\n",
    "\n",
    "sdata = sp.im.segment(\n",
    "    sdata,\n",
    "    img_layer=\"morphology_focus_global\",\n",
    "    chunks=2048,\n",
    "    depth=200,\n",
    "    model=cellpose_callable,\n",
    "    # parameters that will be passed to the callable _cellpose\n",
    "    pretrained_model = model,\n",
    "    diameter=50,\n",
    "    flow_threshold=0.9,\n",
    "    cellprob_threshold=-4,\n",
    "    channels=[ 2,1 ],\n",
    "    output_labels_layer=\"segmentation_mask\",\n",
    "    output_shapes_layer=\"segmentation_mask_boundaries\",\n",
    "    crd= [8000, 10000, 8000, 10000],  # region to segment [x_min, xmax, y_min, y_max],\n",
    "    overwrite=True,\n",
    ")"
   ]
  },
  {
   "cell_type": "code",
   "execution_count": null,
   "metadata": {},
   "outputs": [],
   "source": [
    "sp.pl.plot_shapes(\n",
    "    sdata,\n",
    "    img_layer=\"morphology_focus_global\",\n",
    "    shapes_layer=[ \"cell_labels_boundaries_global\", \"segmentation_mask_boundaries\",],\n",
    "    crd = [ 8000, 10000, 8000, 10000 ],\n",
    "    channel= [ 'DAPI', 'ATP1A1/CD45/E-Cadherin', '18S', 'AlphaSMA/Vimentin' ],\n",
    "    alpha = 0.4,\n",
    "    linewidth=1.5,\n",
    "      )"
   ]
  },
  {
   "cell_type": "markdown",
   "metadata": {},
   "source": [
    "We create a new table. One could also skip this step, and use the table provided by xenium (\"table_global\"), but we recommend recalculating the table....see below"
   ]
  },
  {
   "cell_type": "code",
   "execution_count": null,
   "metadata": {},
   "outputs": [],
   "source": [
    "sdata = sp.tb.allocate(\n",
    "    sdata=sdata,\n",
    "    labels_layer=\"cell_labels_global\", # we use the segmentation mask from Xenium\n",
    "    points_layer=\"transcripts_global\",\n",
    "    output_layer=\"table_global_redo\",\n",
    "    update_shapes_layers=False,\n",
    "    overwrite=True,\n",
    ")\n",
    "\n",
    "# If you would like to remove some genes from the anndata table, you can still do it, uncomment the following code:\n",
    "\n",
    "#adata = sdata[ \"table_global_redo\" ]\n",
    "\n",
    "#pattern = 'Unassigned|NegControl'\n",
    "\n",
    "#mask = ~adata.var.reset_index().astypes(str).apply(\n",
    "#    lambda row: row.str.contains(pattern, case=False, na=False)\n",
    "#).any(axis=1)\n",
    "\n",
    "#sdata=sp.tb.add_table_layer( sdata, adata = adata[:, mask ].copy(), output_layer=\"table_global_redo\", region=[\"cell_labels_global\"], overwrite=True )"
   ]
  },
  {
   "cell_type": "code",
   "execution_count": null,
   "metadata": {},
   "outputs": [],
   "source": [
    "sdata[ \"table_global\" ].obs.head()"
   ]
  },
  {
   "cell_type": "code",
   "execution_count": null,
   "metadata": {},
   "outputs": [],
   "source": [
    "sdata[ \"table_global_redo\" ].obs.head()"
   ]
  },
  {
   "cell_type": "code",
   "execution_count": null,
   "metadata": {},
   "outputs": [],
   "source": [
    "print(sdata[ \"table_global_redo\" ].X[0].sum())\n",
    "print(sdata[ \"table_global\" ].X[1].sum())"
   ]
  },
  {
   "cell_type": "code",
   "execution_count": null,
   "metadata": {},
   "outputs": [],
   "source": [
    "sdata[ \"table_global_redo\" ][ :, sdata[ \"table_global_redo\" ].X[0].toarray() !=0].to_df().iloc[0]"
   ]
  },
  {
   "cell_type": "code",
   "execution_count": null,
   "metadata": {},
   "outputs": [],
   "source": [
    "sdata[ \"table_global\" ][ :, sdata[ \"table_global\" ].X[1].toarray() !=0].to_df().iloc[1]"
   ]
  },
  {
   "cell_type": "markdown",
   "metadata": {},
   "source": [
    "For cell with `Cell_ID=2`, the count for PTPRC is 3 (see below). Using the `SPArrOW` function `sp.tb.allocate` this is correctly calculated, while table provided by Xenium only has count equal to 2 for PTPRC for cell with `cell_ID=2`.\n",
    "\n",
    "Conclusion. We advice to recalculate the table layer."
   ]
  },
  {
   "cell_type": "code",
   "execution_count": null,
   "metadata": {},
   "outputs": [],
   "source": [
    "sp.pl.sanity_plot_transcripts_matrix(\n",
    "    sdata,\n",
    "    img_layer=\"morphology_focus_global\",\n",
    "    shapes_layer = \"cell_labels_boundaries_global\",\n",
    "    points_layer= \"transcripts_global\",\n",
    "    plot_cell_number=True,\n",
    "    gene=\"PTPRC\",\n",
    "    crd = [ 947-50, 947.49+50, 8540-50, 8540+50 ],\n",
    "    figsize=(5,5),\n",
    ")"
   ]
  },
  {
   "cell_type": "markdown",
   "metadata": {},
   "source": [
    "Excercise:\n",
    "\n",
    "Use segmentation mask generated by `SPArrOW`, and create the table layer."
   ]
  },
  {
   "cell_type": "code",
   "execution_count": null,
   "metadata": {},
   "outputs": [],
   "source": [
    "# solution\n",
    "\n",
    "sdata = sp.tb.allocate(\n",
    "    sdata=sdata,\n",
    "    labels_layer=\"segmentation_mask\",\n",
    "    points_layer=\"transcripts_global\",\n",
    "    output_layer=\"table_transcriptomics\",\n",
    "    update_shapes_layers=False,\n",
    "    overwrite=True,\n",
    ")"
   ]
  },
  {
   "cell_type": "code",
   "execution_count": null,
   "metadata": {},
   "outputs": [],
   "source": [
    "sdata[ \"table_transcriptomics\" ]"
   ]
  },
  {
   "cell_type": "code",
   "execution_count": null,
   "metadata": {},
   "outputs": [],
   "source": [
    "from sparrow.utils._keys import _REGION_KEY\n",
    "\n",
    "sdata[ \"table_transcriptomics\" ].obs[ _REGION_KEY ].cat.categories.to_list()"
   ]
  },
  {
   "cell_type": "code",
   "execution_count": null,
   "metadata": {},
   "outputs": [],
   "source": [
    "sdata[ \"table_transcriptomics\" ].to_df().head( 10 )"
   ]
  },
  {
   "cell_type": "code",
   "execution_count": null,
   "metadata": {},
   "outputs": [],
   "source": [
    "sdata[ \"table_transcriptomics\" ]"
   ]
  },
  {
   "cell_type": "code",
   "execution_count": null,
   "metadata": {},
   "outputs": [],
   "source": [
    "sdata = sp.im.transcript_density(\n",
    "    sdata,\n",
    "    img_layer=\"morphology_focus_global\",\n",
    "    points_layer=\"transcripts_global\",\n",
    "    output_layer=\"transcript_density\",\n",
    "    overwrite=True,\n",
    ")"
   ]
  },
  {
   "cell_type": "code",
   "execution_count": null,
   "metadata": {},
   "outputs": [],
   "source": [
    "sp.pl.plot_image( sdata, img_layer= \"transcript_density\" , crd = [ 35000,52000,3000,20000 ] )"
   ]
  },
  {
   "cell_type": "code",
   "execution_count": null,
   "metadata": {},
   "outputs": [],
   "source": [
    "sp.pl.plot_image( sdata, img_layer= \"morphology_focus_global\" , crd = [ 35000,52000,3000,20000 ], channel= \"DAPI\" )"
   ]
  },
  {
   "cell_type": "code",
   "execution_count": null,
   "metadata": {},
   "outputs": [],
   "source": [
    "df = sp.pl.analyse_genes_left_out(\n",
    "    sdata,\n",
    "    labels_layer=\"segmentation_mask\",\n",
    "    table_layer=\"table_transcriptomics\",\n",
    "    points_layer=\"transcripts_global\",\n",
    ")"
   ]
  },
  {
   "cell_type": "code",
   "execution_count": null,
   "metadata": {},
   "outputs": [],
   "source": [
    "# Perform preprocessing.\n",
    "sdata = sp.tb.preprocess_transcriptomics(\n",
    "    sdata,\n",
    "    labels_layer=\"segmentation_mask\",\n",
    "    table_layer=\"table_transcriptomics\",\n",
    "    output_layer=\"table_transcriptomics_preprocessed\",  # write results to a new slot, we could also write to the same slot (when passing overwrite==True).\n",
    "    min_counts=10,\n",
    "    min_cells=5,\n",
    "    size_norm=True,\n",
    "    n_comps=50,\n",
    "    overwrite=True,\n",
    "    update_shapes_layers=False,\n",
    ")"
   ]
  },
  {
   "cell_type": "code",
   "execution_count": null,
   "metadata": {},
   "outputs": [],
   "source": [
    "sdata[ \"table_transcriptomics\" ]"
   ]
  },
  {
   "cell_type": "code",
   "execution_count": null,
   "metadata": {},
   "outputs": [],
   "source": [
    "sp.pl.preprocess_transcriptomics(\n",
    "    sdata,\n",
    "    table_layer=\"table_transcriptomics_preprocessed\",\n",
    ")"
   ]
  },
  {
   "cell_type": "code",
   "execution_count": null,
   "metadata": {},
   "outputs": [],
   "source": [
    "sdata[ \"table_transcriptomics_preprocessed\" ]"
   ]
  },
  {
   "cell_type": "code",
   "execution_count": null,
   "metadata": {},
   "outputs": [],
   "source": [
    "sdata[ \"table_transcriptomics\" ].to_df().sum( axis=1 ).mean()  # mean total count per cell"
   ]
  },
  {
   "cell_type": "code",
   "execution_count": null,
   "metadata": {},
   "outputs": [],
   "source": [
    "sdata[ \"table_transcriptomics\" ].to_df().sum( axis=1 ).std() # std total count per cell"
   ]
  },
  {
   "cell_type": "code",
   "execution_count": null,
   "metadata": {},
   "outputs": [],
   "source": [
    "sdata = sp.tb.filter_on_size(\n",
    "    sdata,\n",
    "    labels_layer=\"segmentation_mask\",\n",
    "    table_layer=\"table_transcriptomics_preprocessed\",\n",
    "    output_layer=\"table_transcriptomics_filter\",\n",
    "    min_size=500,\n",
    "    max_size=100000,\n",
    "    update_shapes_layers=False,\n",
    "    overwrite=True,\n",
    ")"
   ]
  },
  {
   "cell_type": "markdown",
   "metadata": {},
   "source": [
    "Excercise.\n",
    "\n",
    "Use the `SPArrOW` function `sp.tb.leiden` to perform leiden clustering."
   ]
  },
  {
   "cell_type": "code",
   "execution_count": null,
   "metadata": {},
   "outputs": [],
   "source": [
    "# solution\n",
    "\n",
    "\n",
    "import scanpy as sc\n",
    "\n",
    "sdata = sp.tb.leiden(\n",
    "    sdata,\n",
    "    labels_layer=\"segmentation_mask\",\n",
    "    table_layer=\"table_transcriptomics_filter\",\n",
    "    output_layer=\"table_transcriptomics_clustered\",\n",
    "    calculate_umap=True,\n",
    "    calculate_neighbors=True,\n",
    "    n_pcs=17,\n",
    "    n_neighbors=35,\n",
    "    resolution=0.8,\n",
    "    rank_genes=True,\n",
    "    key_added=\"leiden\",\n",
    "    overwrite=True,\n",
    ")\n",
    "\n",
    "sc.pl.umap(sdata.tables[\"table_transcriptomics_clustered\"], color=[\"leiden\"], show=True)\n",
    "sc.pl.rank_genes_groups(sdata.tables[\"table_transcriptomics_clustered\"], n_genes=8, sharey=False, show=True)"
   ]
  },
  {
   "cell_type": "code",
   "execution_count": null,
   "metadata": {},
   "outputs": [],
   "source": [
    "sp.pl.plot_shapes(\n",
    "    sdata,\n",
    "    img_layer=\"clahe\",\n",
    "    table_layer=\"table_transcriptomics_clustered\",\n",
    "    column=\"leiden\",\n",
    "    shapes_layer=\"segmentation_mask_boundaries\",\n",
    "    alpha=1,\n",
    "    linewidth=0,\n",
    "    channel=\"DAPI\",\n",
    ")"
   ]
  },
  {
   "cell_type": "code",
   "execution_count": null,
   "metadata": {},
   "outputs": [],
   "source": [
    "sdata[ \"table_transcriptomics_clustered\"].obs[ sdata[ \"table_transcriptomics_clustered\"].obs[ \"cell_ID\" ] == 321]"
   ]
  },
  {
   "cell_type": "code",
   "execution_count": null,
   "metadata": {},
   "outputs": [],
   "source": [
    "sdata[ \"table_transcriptomics_clustered\"].obsm[\"spatial\" ][ sdata[ \"table_transcriptomics_clustered\"].obs[ \"cell_ID\" ] == 321] # x y"
   ]
  },
  {
   "cell_type": "code",
   "execution_count": null,
   "metadata": {},
   "outputs": [],
   "source": [
    "#from napari_spatialdata import Interactive\n",
    "\n",
    "#Interactive( sdata )"
   ]
  }
 ],
 "metadata": {
  "kernelspec": {
   "display_name": "training_env",
   "language": "python",
   "name": "python3"
  },
  "language_info": {
   "codemirror_mode": {
    "name": "ipython",
    "version": 3
   },
   "file_extension": ".py",
   "mimetype": "text/x-python",
   "name": "python",
   "nbconvert_exporter": "python",
   "pygments_lexer": "ipython3",
   "version": "3.10.8"
  }
 },
 "nbformat": 4,
 "nbformat_minor": 2
}
