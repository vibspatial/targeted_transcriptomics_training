{
 "cells": [
  {
   "cell_type": "code",
   "execution_count": null,
   "metadata": {},
   "outputs": [],
   "source": [
    "# Sanity check to confirm that the Jupyter Notebook renderer works.\n",
    "# Execute this cell. If it yields an error, click the Extensions icon in Visual Studio Code (4 squares on the left hand side),\n",
    "# select the \"Jupyter\" extension, press \"Uninstall\" and then \"Reload Window\". Then install the extension again,\n",
    "# for example via \"Select Kernel\" then \"Install/Enable suggested extensions\".\n",
    "print('Hello Harpy')"
   ]
  },
  {
   "cell_type": "code",
   "execution_count": 2,
   "metadata": {},
   "outputs": [],
   "source": [
    "import harpy as hp"
   ]
  },
  {
   "cell_type": "code",
   "execution_count": null,
   "metadata": {},
   "outputs": [],
   "source": [
    "import os\n",
    "import uuid\n",
    "import tempfile\n",
    "from harpy.datasets.registry import get_registry\n",
    "\n",
    "registry = get_registry(path = \"/staging/leuven/stg_00143/spatial_data_training/merscope\")\n",
    "# On the VSC cluster, we set path to \"/staging/leuven/stg_00143/spatial_data_training/merscope\", as the datasets are already there.\n",
    "# On Windows, set path (e.g. to r\"c:\\tmp\").\n",
    "\n",
    "_ = registry.fetch(\"transcriptomics/vizgen/mouse/Liver1Slice1/images/mosaic_DAPI_z3.tif\")\n",
    "_ = registry.fetch(\"transcriptomics/vizgen/mouse/Liver1Slice1/images/mosaic_PolyT_z3.tif\")\n",
    "_ = registry.fetch(\"transcriptomics/vizgen/mouse/Liver1Slice1/images/micron_to_mosaic_pixel_transform.csv\")\n",
    "path_transcripts = registry.fetch(\"transcriptomics/vizgen/mouse/Liver1Slice1/detected_transcripts.csv\")\n",
    "\n",
    "input_path = os.path.dirname(path_transcripts)\n",
    "OUTPUT_DIR =  tempfile.gettempdir()\n",
    "\n",
    "# Takes around 7 min on Mac M2; around 18 min on VSC.\n",
    "sdata = hp.io.merscope(\n",
    "    path=input_path,\n",
    "    to_coordinate_system=\"global\",\n",
    "    z_layers=[\n",
    "        3,\n",
    "    ],\n",
    "    backend=None,\n",
    "    transcripts=True,\n",
    "    mosaic_images=True,\n",
    "    do_3D=False,\n",
    "    z_projection=False,\n",
    "    image_models_kwargs={\"scale_factors\": None},\n",
    "    output=os.path.join( OUTPUT_DIR, f\"sdata_merscope_{uuid.uuid4()}.zarr\"),\n",
    "    filter_gene_names=[ \"blank\" ]\n",
    ")"
   ]
  },
  {
   "cell_type": "code",
   "execution_count": null,
   "metadata": {},
   "outputs": [],
   "source": [
    "sdata  # The image has 2 channels, a DAPI and polyT"
   ]
  },
  {
   "cell_type": "code",
   "execution_count": 5,
   "metadata": {},
   "outputs": [],
   "source": [
    "# Alternatively: read already analyzed data from a shared .zarr store,\n",
    "# and save it to our own store (so we can modify our own copies).\n",
    "\n",
    "# from spatialdata import read_zarr\n",
    "# sdata = read_zarr(\"/staging/leuven/stg_00143/spatial_data_training/merscope/sdata_merscope_full.zarr\")  # takes 3 min 30 s on the VSC\n",
    "# sdata.write(\"/staging/leuven/stg_00143/YOURNAME/merscope/sdata_merscope_full.zarr\")  # takes about 3 min on the VSC"
   ]
  },
  {
   "cell_type": "code",
   "execution_count": null,
   "metadata": {},
   "outputs": [],
   "source": [
    "sdata=hp.im.min_max_filtering(\n",
    "    sdata,\n",
    "    img_layer=\"mouse_Liver1Slice1_z3_global\",\n",
    "    output_layer=\"min_max_filtered\",\n",
    "    size_min_max_filter=[ 85, 135 ],\n",
    "    crd = [ 20000, 25000, 20000, 25000 ],\n",
    "    overwrite=True,\n",
    "      )\n",
    "sdata=hp.im.enhance_contrast(\n",
    "    sdata,\n",
    "    img_layer=\"min_max_filtered\",\n",
    "    output_layer=\"clahe\",\n",
    "    contrast_clip=[13.5, 18.5 ],\n",
    "    crd = [ 20000, 25000, 20000, 25000 ],\n",
    "    overwrite=True,\n",
    "      )"
   ]
  },
  {
   "cell_type": "code",
   "execution_count": null,
   "metadata": {},
   "outputs": [],
   "source": [
    "hp.pl.plot_shapes( \n",
    "    sdata,\n",
    "    img_layer=[\"mouse_Liver1Slice1_z3_global\", \"clahe\"],\n",
    "    crd = [ 20000,25000, 20000,25000 ],\n",
    "    figsize=(10,10),\n",
    "     )"
   ]
  },
  {
   "cell_type": "code",
   "execution_count": null,
   "metadata": {},
   "outputs": [],
   "source": [
    "sdata[ \"clahe\" ].c.data"
   ]
  },
  {
   "cell_type": "code",
   "execution_count": null,
   "metadata": {},
   "outputs": [],
   "source": [
    "# rechunk on disk\n",
    "\n",
    "from spatialdata.transformations import get_transformation\n",
    "\n",
    "sdata = hp.im.add_image_layer(\n",
    "    sdata,\n",
    "    arr =sdata[ \"clahe\" ].data.rechunk( 2048 ),\n",
    "    transformations=get_transformation( sdata[ \"clahe\"], get_all=True ),\n",
    "    output_layer = \"clahe\",\n",
    "    c_coords=sdata[ \"clahe\" ].c.data,\n",
    "    overwrite=True,\n",
    "     )"
   ]
  },
  {
   "cell_type": "code",
   "execution_count": null,
   "metadata": {},
   "outputs": [],
   "source": [
    "from dask.distributed import Client, LocalCluster\n",
    "\n",
    "cluster = LocalCluster(\n",
    "    n_workers=8,\n",
    "    threads_per_worker=1,\n",
    "    processes=True,\n",
    "    memory_limit=\"32GB\",\n",
    ")\n",
    "\n",
    "client = Client(cluster)\n",
    "\n",
    "print(client.dashboard_link)"
   ]
  },
  {
   "cell_type": "code",
   "execution_count": null,
   "metadata": {},
   "outputs": [],
   "source": [
    "import torch\n",
    "from cellpose import models\n",
    "\n",
    "from harpy.image import cellpose_callable\n",
    "\n",
    "from harpy.image._image import _get_spatial_element\n",
    "\n",
    "se = _get_spatial_element( sdata, layer = \"clahe\" )\n",
    "\n",
    "sdata = hp.im.segment(\n",
    "    sdata,\n",
    "    img_layer=\"clahe\",\n",
    "    chunks=None,\n",
    "    depth=200,\n",
    "    model=cellpose_callable,\n",
    "    device=\"cpu\",\n",
    "    # parameters that will be passed to the callable _cellpose\n",
    "    pretrained_model = \"cyto3\",\n",
    "    diameter=100,\n",
    "    flow_threshold=0.85,\n",
    "    cellprob_threshold=-4,\n",
    "    channels = [ se.c.data.tolist().index(\"PolyT\" )+1  ,se.c.data.tolist().index(\"DAPI\" )+1 ],\n",
    "    output_labels_layer=\"segmentation_mask_crop\",\n",
    "    output_shapes_layer=\"segmentation_mask_boundaries_crop\",\n",
    "    crd= [20000, 25000, 20000, 25000],  # region to segment [x_min, xmax, y_min, y_max],\n",
    "    overwrite=True,\n",
    ")\n",
    "\n",
    "client.close()\n",
    "\n",
    "# Took 19 minutes on the VSC"
   ]
  },
  {
   "cell_type": "code",
   "execution_count": null,
   "metadata": {},
   "outputs": [],
   "source": [
    "hp.pl.plot_shapes( sdata, shapes_layer=\"segmentation_mask_boundaries_crop\" , img_layer=[\"clahe\"], crd = [ 20000,25000,20000,25000 ], figsize=( 10,10 ) )"
   ]
  },
  {
   "cell_type": "code",
   "execution_count": null,
   "metadata": {},
   "outputs": [],
   "source": [
    "sdata = hp.tb.allocate(\n",
    "    sdata=sdata,\n",
    "    labels_layer=\"segmentation_mask_crop\",\n",
    "    points_layer=\"transcripts_global\",\n",
    "    output_layer=\"table_transcriptomics_crop\",\n",
    "    update_shapes_layers=False,\n",
    "    overwrite=True,\n",
    ")"
   ]
  },
  {
   "cell_type": "code",
   "execution_count": null,
   "metadata": {},
   "outputs": [],
   "source": [
    "hp.pl.sanity(\n",
    "    sdata,\n",
    "    img_layer=\"clahe\",\n",
    "    shapes_layer = \"segmentation_mask_boundaries_crop\",\n",
    "    points_layer= \"transcripts_global\",\n",
    "    plot_cell_number=True,\n",
    "    gene=\"Vwf\",\n",
    "    crd = [ 20500, 20500+500, 21000, 21500 ],\n",
    "    figsize=(5,5),\n",
    ")"
   ]
  },
  {
   "cell_type": "code",
   "execution_count": null,
   "metadata": {},
   "outputs": [],
   "source": [
    "# Look-up a the number of transcripts for the Vwf gene in a cell shown above (using the cell ID),\n",
    "# it should be the same number as transcripts plotted above.\n",
    "sdata[ \"table_transcriptomics_crop\" ][sdata[ \"table_transcriptomics_crop\" ].obs[ \"cell_ID\" ] == 1360].to_df()[\"Vwf\"]"
   ]
  },
  {
   "cell_type": "code",
   "execution_count": null,
   "metadata": {},
   "outputs": [],
   "source": [
    "hp.pl.plot_shapes(\n",
    "    sdata,\n",
    "    img_layer=\"clahe\",\n",
    "    shapes_layer=\"segmentation_mask_boundaries_crop\",\n",
    "    figsize=( 10,10 ),\n",
    "    crd = [  20000, 22000, 20000, 22000  ],\n",
    "    table_layer=\"table_transcriptomics_crop\",\n",
    "    column = \"Vwf\",\n",
    "      )"
   ]
  },
  {
   "cell_type": "code",
   "execution_count": null,
   "metadata": {},
   "outputs": [],
   "source": [
    "df = hp.pl.analyse_genes_left_out(\n",
    "    sdata,\n",
    "    labels_layer=\"segmentation_mask_crop\",\n",
    "    table_layer=\"table_transcriptomics_crop\",\n",
    "    points_layer=\"transcripts_global\",\n",
    ")"
   ]
  },
  {
   "cell_type": "code",
   "execution_count": null,
   "metadata": {},
   "outputs": [],
   "source": [
    "# Perform preprocessing.\n",
    "sdata = hp.tb.preprocess_transcriptomics(\n",
    "    sdata,\n",
    "    labels_layer=\"segmentation_mask_crop\",\n",
    "    table_layer=\"table_transcriptomics_crop\",\n",
    "    output_layer=\"table_transcriptomics_preprocessed_crop\",  # write results to a new slot, we could also write to the same slot (when passing overwrite==True).\n",
    "    min_counts=10,\n",
    "    min_cells=5,\n",
    "    size_norm=True,\n",
    "    n_comps=50,\n",
    "    overwrite=True,\n",
    "    update_shapes_layers=False,\n",
    ")"
   ]
  },
  {
   "cell_type": "code",
   "execution_count": null,
   "metadata": {},
   "outputs": [],
   "source": [
    "hp.pl.preprocess_transcriptomics(\n",
    "    sdata,\n",
    "    table_layer=\"table_transcriptomics_preprocessed_crop\",\n",
    ")"
   ]
  },
  {
   "cell_type": "code",
   "execution_count": null,
   "metadata": {},
   "outputs": [],
   "source": [
    "sdata = hp.tb.filter_on_size(\n",
    "    sdata,\n",
    "    labels_layer=\"segmentation_mask_crop\",\n",
    "    table_layer=\"table_transcriptomics_preprocessed_crop\",\n",
    "    output_layer=\"table_transcriptomics_filter_crop\",\n",
    "    min_size=500,\n",
    "    max_size=100000,\n",
    "    update_shapes_layers=False,\n",
    "    overwrite=True,\n",
    ")"
   ]
  },
  {
   "cell_type": "code",
   "execution_count": null,
   "metadata": {},
   "outputs": [],
   "source": [
    "import scanpy as sc\n",
    "\n",
    "sdata = hp.tb.leiden(\n",
    "    sdata,\n",
    "    labels_layer=\"segmentation_mask_crop\",\n",
    "    table_layer=\"table_transcriptomics_filter_crop\",\n",
    "    output_layer=\"table_transcriptomics_clustered_crop\",\n",
    "    calculate_umap=True,\n",
    "    calculate_neighbors=True,\n",
    "    n_pcs=17,\n",
    "    n_neighbors=35,\n",
    "    resolution=1.0,\n",
    "    rank_genes=True,\n",
    "    key_added=\"leiden\",\n",
    "    overwrite=True,\n",
    ")\n",
    "\n",
    "sc.pl.umap(sdata.tables[\"table_transcriptomics_clustered_crop\"], color=[\"leiden\"], show=True)\n",
    "sc.pl.rank_genes_groups(sdata.tables[\"table_transcriptomics_clustered_crop\"], n_genes=8, sharey=False, show=True)"
   ]
  },
  {
   "cell_type": "code",
   "execution_count": null,
   "metadata": {},
   "outputs": [],
   "source": [
    "hp.pl.plot_shapes(\n",
    "    sdata,\n",
    "    img_layer=\"clahe\",\n",
    "    table_layer=\"table_transcriptomics_clustered_crop\",\n",
    "    column=\"leiden\",\n",
    "    shapes_layer=\"segmentation_mask_boundaries_crop\",\n",
    "    alpha=1,\n",
    "    linewidth=0,\n",
    "    channel=\"DAPI\",\n",
    "    crd = [ 20000,25000,20000,25000 ],\n",
    ")"
   ]
  },
  {
   "cell_type": "code",
   "execution_count": 29,
   "metadata": {},
   "outputs": [],
   "source": [
    "# from napari_spatialdata import Interactive\n",
    "\n",
    "#del sdata[ \"table_transcriptomics_clustered\"].uns[ \"leiden_colors\" ]\n",
    "\n",
    "# Interactive( sdata )"
   ]
  },
  {
   "cell_type": "code",
   "execution_count": null,
   "metadata": {},
   "outputs": [],
   "source": []
  }
 ],
 "metadata": {
  "kernelspec": {
   "display_name": "training_env_11_12",
   "language": "python",
   "name": "python3"
  },
  "language_info": {
   "codemirror_mode": {
    "name": "ipython",
    "version": 3
   },
   "file_extension": ".py",
   "mimetype": "text/x-python",
   "name": "python",
   "nbconvert_exporter": "python",
   "pygments_lexer": "ipython3",
   "version": "3.11.13"
  }
 },
 "nbformat": 4,
 "nbformat_minor": 2
}
