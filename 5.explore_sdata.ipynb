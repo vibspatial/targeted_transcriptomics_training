{
 "cells": [
  {
   "cell_type": "code",
   "execution_count": 1,
   "metadata": {},
   "outputs": [],
   "source": [
    "import sparrow as sp"
   ]
  },
  {
   "cell_type": "code",
   "execution_count": 2,
   "metadata": {},
   "outputs": [
    {
     "name": "stderr",
     "output_type": "stream",
     "text": [
      "/Users/arnedf/miniconda3/envs/training_env/lib/python3.10/site-packages/zarr/creation.py:300: UserWarning: ignoring keyword argument 'read_only'\n",
      "  warn(f\"ignoring keyword argument {k!r}\")\n"
     ]
    },
    {
     "name": "stdout",
     "output_type": "stream",
     "text": [
      "\u001b[34mINFO    \u001b[0m The SpatialData object is not self-contained \u001b[1m(\u001b[0mi.e. it contains some elements that are Dask-backed from    \n",
      "         locations outside                                                                                         \n",
      "         \u001b[35m/var/folders/q5/7yhs0l6d0x771g7qdbhvkvmr0000gp/T/\u001b[0m\u001b[95msdata_85b099b4-159b-473f-bb79-057e54338c32.zarr\u001b[0m\u001b[1m)\u001b[0m. Please \n",
      "         see the documentation of `\u001b[1;35mis_self_contained\u001b[0m\u001b[1m(\u001b[0m\u001b[1m)\u001b[0m` to understand the implications of working with SpatialData \n",
      "         objects that are not self-contained.                                                                      \n",
      "\u001b[34mINFO    \u001b[0m The Zarr backing store has been changed from \u001b[3;35mNone\u001b[0m the new file path:                                      \n",
      "         \u001b[35m/var/folders/q5/7yhs0l6d0x771g7qdbhvkvmr0000gp/T/\u001b[0m\u001b[95msdata_85b099b4-159b-473f-bb79-057e54338c32.zarr\u001b[0m          \n"
     ]
    },
    {
     "name": "stderr",
     "output_type": "stream",
     "text": [
      "/Users/arnedf/miniconda3/envs/training_env/lib/python3.10/site-packages/zarr/creation.py:300: UserWarning: ignoring keyword argument 'read_only'\n",
      "  warn(f\"ignoring keyword argument {k!r}\")\n"
     ]
    }
   ],
   "source": [
    "import os\n",
    "import tempfile\n",
    "import uuid\n",
    "\n",
    "from datasets import sdata_resolve\n",
    "\n",
    "OUTPUT_DIR =  tempfile.gettempdir()\n",
    "\n",
    "sdata=sdata_resolve( path = None, output=os.path.join( OUTPUT_DIR, f\"sdata_{uuid.uuid4()}.zarr\" ) )"
   ]
  },
  {
   "cell_type": "code",
   "execution_count": 3,
   "metadata": {},
   "outputs": [
    {
     "data": {
      "text/plain": [
       "SpatialData object, with associated Zarr store: /private/var/folders/q5/7yhs0l6d0x771g7qdbhvkvmr0000gp/T/sdata_85b099b4-159b-473f-bb79-057e54338c32.zarr\n",
       "├── Images\n",
       "│     ├── 'clahe': DataArray[cyx] (1, 6432, 6432)\n",
       "│     ├── 'dummy_image': DataArray[cyx] (1, 12864, 10720)\n",
       "│     ├── 'min_max_filtered': DataArray[cyx] (1, 6432, 6432)\n",
       "│     ├── 'raw_image': DataTree[cyx] (1, 12864, 10720), (1, 6432, 5360), (1, 3216, 2680), (1, 1608, 1340), (1, 804, 670)\n",
       "│     ├── 'tiling_correction': DataArray[cyx] (1, 6432, 6432)\n",
       "│     └── 'transcript_density': DataArray[cyx] (1, 6432, 6432)\n",
       "├── Labels\n",
       "│     ├── 'segmentation_mask': DataArray[yx] (6432, 6432)\n",
       "│     └── 'segmentation_mask_expanded': DataArray[yx] (6432, 6432)\n",
       "├── Points\n",
       "│     └── 'transcripts': DataFrame with shape: (<Delayed>, 3) (2D points)\n",
       "├── Shapes\n",
       "│     ├── 'segmentation_mask_boundaries': GeoDataFrame shape: (3377, 1) (2D shapes)\n",
       "│     └── 'segmentation_mask_expanded_boundaries': GeoDataFrame shape: (3377, 1) (2D shapes)\n",
       "└── Tables\n",
       "      ├── 'table_transcriptomics': AnnData (3358, 99)\n",
       "      ├── 'table_transcriptomics_clustered': AnnData (3186, 98)\n",
       "      ├── 'table_transcriptomics_filter': AnnData (3186, 98)\n",
       "      ├── 'table_transcriptomics_preprocessed': AnnData (3258, 98)\n",
       "      ├── 'table_transcriptomics_score_genes': AnnData (3186, 98)\n",
       "      └── 'table_transcriptomics_squidpy': AnnData (3186, 98)\n",
       "with coordinate systems:\n",
       "    ▸ 'global', with elements:\n",
       "        clahe (Images), dummy_image (Images), min_max_filtered (Images), raw_image (Images), tiling_correction (Images), transcript_density (Images), segmentation_mask (Labels), segmentation_mask_expanded (Labels), transcripts (Points), segmentation_mask_boundaries (Shapes), segmentation_mask_expanded_boundaries (Shapes)"
      ]
     },
     "execution_count": 3,
     "metadata": {},
     "output_type": "execute_result"
    }
   ],
   "source": [
    "sdata"
   ]
  },
  {
   "cell_type": "code",
   "execution_count": null,
   "metadata": {},
   "outputs": [],
   "source": [
    "print( sdata.is_backed() )\n",
    "print( sdata.path )"
   ]
  },
  {
   "cell_type": "code",
   "execution_count": null,
   "metadata": {},
   "outputs": [],
   "source": [
    "print( f\"Content of {sdata.path}:\" )\n",
    "! ls {sdata.path}\n",
    "print( \"\\n\" )\n",
    "\n",
    "print( f\"Content of {sdata.path}/images:\" )\n",
    "! ls {sdata.path}/images"
   ]
  },
  {
   "cell_type": "markdown",
   "metadata": {},
   "source": [
    "Note: you can remove an element from the zarr store (e.g. on the command line with `rm -r dummy_image`), without 'breaking' the `SpatialData` object. After reloading it from the `.zarr` store, the element that was removed will no longer be an element of the `SpatialData` object.\n",
    "\n",
    "If the `SpatialData` object is not backed by a `.zarr` store, elements can be removed in the Python shell via `del ...`."
   ]
  },
  {
   "cell_type": "markdown",
   "metadata": {},
   "source": [
    "Excercise:\n",
    "\n",
    "Try removing `dummy_image` from the `.zarr` store.\n",
    "Next reload the `SpatialData` object."
   ]
  },
  {
   "cell_type": "markdown",
   "metadata": {},
   "source": [
    "### Images\n",
    "\n",
    "DAPI, PolyT, multiplex,..."
   ]
  },
  {
   "cell_type": "code",
   "execution_count": null,
   "metadata": {},
   "outputs": [],
   "source": [
    "sdata[ \"clahe\" ] # -> xarray.DataArray (or datatree.DataTree for multiscale )\n",
    "sdata[ \"clahe\" ].data # -> Dask array\n",
    "sdata[ \"clahe\" ].data.compute() # -> numpy array"
   ]
  },
  {
   "cell_type": "code",
   "execution_count": null,
   "metadata": {},
   "outputs": [],
   "source": [
    "sdata[ \"clahe\" ]"
   ]
  },
  {
   "cell_type": "markdown",
   "metadata": {},
   "source": [
    "Image layers have c,(z),y,x dimension. z dimension is optional."
   ]
  },
  {
   "cell_type": "code",
   "execution_count": null,
   "metadata": {},
   "outputs": [],
   "source": [
    "sdata[ \"clahe\" ].data.dtype"
   ]
  },
  {
   "cell_type": "markdown",
   "metadata": {},
   "source": [
    "The data type of an image layer can be integer or float."
   ]
  },
  {
   "cell_type": "code",
   "execution_count": null,
   "metadata": {},
   "outputs": [],
   "source": [
    "from sparrow.image._image import _get_spatial_element\n",
    "sdata[ \"raw_image\" ] # -> datatree.DataTree\n",
    "se=_get_spatial_element( sdata, layer=\"raw_image\" )  # gets scale0 in case it is multiscale\n",
    "se # ->xarray.DataArray\n",
    "se.data # -> Dask array"
   ]
  },
  {
   "cell_type": "markdown",
   "metadata": {},
   "source": [
    "Images, Labels and Points are lazy if the `SpatialData` object is backed by a `.zarr` store. Lazy means they will not be 'pulled' into RAM, unless you ask for it (e.g. calling `.compute()`, `.persist()` on the Dask objects).\n",
    "\n",
    "[Dask](https://www.dask.org/) enables out-of-core computation, allowing you to process datasets that exceed the available RAM, and also facilitates parallelized computations.\n",
    "\n",
    "Note that currently Tables and Shapes are not lazy, and will be loaded into memory when you load a `SpatialData` object. In the future shapes will probably also be lazy, https://github.com/scverse/spatialdata/issues/359.\n",
    "\n",
    "Support for lazy Tables should also be coming soon in `SpatialData`, but note that there is limited `Dask` support in e.g. `Scanpy` https://scanpy-tutorials.readthedocs.io/en/latest/dask.html, which would mean Tables need to be pulled in memory when `Scanpy` functions are applied on it."
   ]
  },
  {
   "cell_type": "markdown",
   "metadata": {},
   "source": [
    "We can visualize the images:"
   ]
  },
  {
   "cell_type": "markdown",
   "metadata": {},
   "source": [
    "Using SPArrOW:"
   ]
  },
  {
   "cell_type": "code",
   "execution_count": null,
   "metadata": {},
   "outputs": [],
   "source": [
    "sp.pl.plot_image( sdata, img_layer=\"clahe\", figsize=( 5,5 ), colorbar=True )"
   ]
  },
  {
   "cell_type": "markdown",
   "metadata": {},
   "source": [
    "Via `spatialdata-plot` (https://github.com/scverse/spatialdata-plot):"
   ]
  },
  {
   "cell_type": "code",
   "execution_count": null,
   "metadata": {},
   "outputs": [],
   "source": [
    "import spatialdata_plot\n",
    "\n",
    "sdata.pl.render_images( \"clahe\" ).pl.show()"
   ]
  },
  {
   "cell_type": "markdown",
   "metadata": {},
   "source": [
    "Excercise: use matplotlib to visualize the image layer with name `min_max_filtered`."
   ]
  },
  {
   "cell_type": "code",
   "execution_count": null,
   "metadata": {},
   "outputs": [],
   "source": [
    "# solution\n",
    "\n",
    "import matplotlib.pyplot as plt\n",
    "\n",
    "plt.imshow( sdata[ \"min_max_filtered\" ].data[0].compute() )"
   ]
  },
  {
   "cell_type": "markdown",
   "metadata": {},
   "source": [
    "Interactive exploration of `SpatialData` object:"
   ]
  },
  {
   "cell_type": "code",
   "execution_count": null,
   "metadata": {},
   "outputs": [],
   "source": [
    "from napari_spatialdata import Interactive\n",
    "\n",
    "#Interactive( sdata )"
   ]
  },
  {
   "cell_type": "markdown",
   "metadata": {},
   "source": [
    "Images can have multiple channels:"
   ]
  },
  {
   "cell_type": "code",
   "execution_count": null,
   "metadata": {},
   "outputs": [],
   "source": [
    "sdata_macsima=sp.datasets.macsima_example()\n",
    "sdata_macsima.images[ \"HumanLiverH35\" ]"
   ]
  },
  {
   "cell_type": "code",
   "execution_count": null,
   "metadata": {},
   "outputs": [],
   "source": [
    "#Interactive( sdata_macsima )"
   ]
  },
  {
   "cell_type": "code",
   "execution_count": null,
   "metadata": {},
   "outputs": [],
   "source": [
    "sdata_macsima[ \"HumanLiverH35\" ]\n",
    "\n",
    "sp.pl.plot_image( sdata_macsima, img_layer=\"HumanLiverH35\", channel=\"R0 DAPI\", figsize = (5,5,) )"
   ]
  },
  {
   "cell_type": "markdown",
   "metadata": {},
   "source": [
    "### Labels\n",
    "\n",
    "Typically representing a segmentation mask\n",
    "\n",
    "Labels and images are sometimes referred to as `raster` data."
   ]
  },
  {
   "cell_type": "code",
   "execution_count": null,
   "metadata": {},
   "outputs": [],
   "source": [
    "sdata[ \"segmentation_mask\" ]"
   ]
  },
  {
   "cell_type": "code",
   "execution_count": null,
   "metadata": {},
   "outputs": [],
   "source": [
    "sdata[ \"segmentation_mask\" ].data.compute()"
   ]
  },
  {
   "cell_type": "code",
   "execution_count": null,
   "metadata": {},
   "outputs": [],
   "source": [
    "sdata[ \"segmentation_mask\" ].data.compute().dtype"
   ]
  },
  {
   "cell_type": "markdown",
   "metadata": {},
   "source": [
    "Data type of labels is always int."
   ]
  },
  {
   "cell_type": "code",
   "execution_count": null,
   "metadata": {},
   "outputs": [],
   "source": [
    "sdata.pl.render_images( \"clahe\" ).pl.render_labels( \"segmentation_mask\" ).pl.show()"
   ]
  },
  {
   "cell_type": "markdown",
   "metadata": {},
   "source": [
    "Excercise:\n",
    "\n",
    "Calculate the total number of cells (based on the segmentation mask provided).\n",
    "\n",
    "Bonus: try not to load the segmentation mask in memory."
   ]
  },
  {
   "cell_type": "code",
   "execution_count": null,
   "metadata": {},
   "outputs": [],
   "source": [
    "# Solution:\n",
    "\n",
    "import dask.array as da\n",
    "\n",
    "da.unique( sdata[ \"segmentation_mask\" ].data ).compute().shape"
   ]
  },
  {
   "cell_type": "markdown",
   "metadata": {},
   "source": [
    "### Shapes\n",
    "\n",
    "Shapes either represent the boundaries of a segmentation mask, or an annotation (e.g. tumor region)."
   ]
  },
  {
   "cell_type": "code",
   "execution_count": null,
   "metadata": {},
   "outputs": [],
   "source": [
    "sdata.shapes[ \"segmentation_mask_boundaries\" ]"
   ]
  },
  {
   "cell_type": "code",
   "execution_count": null,
   "metadata": {},
   "outputs": [],
   "source": [
    "print(type(sdata.shapes[ \"segmentation_mask_boundaries\" ]))"
   ]
  },
  {
   "cell_type": "markdown",
   "metadata": {},
   "source": [
    "Shapes are of type GeoDataFrame.\n",
    "\n",
    "They can be manipulated using the [geopandas](https://geopandas.org/en/stable/) library"
   ]
  },
  {
   "cell_type": "code",
   "execution_count": null,
   "metadata": {},
   "outputs": [],
   "source": [
    "sdata.shapes[ \"segmentation_mask_boundaries\" ].geometry.head()"
   ]
  },
  {
   "cell_type": "markdown",
   "metadata": {},
   "source": [
    "When using `SPArrOW` to generate shapes (via e.g. `sp.im.segment` or `sp.sh.vectorize`), the index of the shapes layer holds the cell id (its name is 'cell_ID') and corresponds to the labels in the corresponding labels layer."
   ]
  },
  {
   "cell_type": "code",
   "execution_count": null,
   "metadata": {},
   "outputs": [],
   "source": [
    "sdata.shapes[ \"segmentation_mask_boundaries\" ].index.name"
   ]
  },
  {
   "cell_type": "markdown",
   "metadata": {},
   "source": [
    "Plot the shapes using `SPArrOW`"
   ]
  },
  {
   "cell_type": "code",
   "execution_count": null,
   "metadata": {},
   "outputs": [],
   "source": [
    "sp.pl.plot_shapes(\n",
    "    sdata,\n",
    "    img_layer=\"clahe\",\n",
    "    shapes_layer=\"segmentation_mask_boundaries\",\n",
    "    crd = [ 2000,4000, 2000,4000 ],\n",
    "    figsize=(5,5,),\n",
    "      )"
   ]
  },
  {
   "cell_type": "markdown",
   "metadata": {},
   "source": [
    "Or using `spatialdata-plot`."
   ]
  },
  {
   "cell_type": "code",
   "execution_count": null,
   "metadata": {},
   "outputs": [],
   "source": [
    "sdata_small = sdata.query.bounding_box(\n",
    "    min_coordinate=[0, 1000], max_coordinate=[3000, 3000], axes=(\"x\", \"y\"), target_coordinate_system=\"global\"\n",
    ")\n",
    "\n",
    "sdata_small.pl.render_images( \"clahe\" ).pl.render_shapes( \"segmentation_mask_boundaries\", fill_alpha=0.5  ).pl.show()"
   ]
  },
  {
   "cell_type": "markdown",
   "metadata": {},
   "source": [
    "## Points\n",
    "\n",
    "Points are DaskDataFrame objects."
   ]
  },
  {
   "cell_type": "code",
   "execution_count": null,
   "metadata": {},
   "outputs": [],
   "source": [
    "sdata[ \"transcripts\" ]"
   ]
  },
  {
   "cell_type": "code",
   "execution_count": null,
   "metadata": {},
   "outputs": [],
   "source": [
    "sdata[ \"transcripts\" ].compute().head() # -> pandas.DataFrame "
   ]
  },
  {
   "cell_type": "markdown",
   "metadata": {},
   "source": [
    "Points represent the spatial location of a feature. In our case this will almost always be a gene."
   ]
  },
  {
   "cell_type": "markdown",
   "metadata": {},
   "source": [
    "Exercise: Use the points layer `transcripts` to estimate how many unique genes were measured."
   ]
  },
  {
   "cell_type": "code",
   "execution_count": null,
   "metadata": {},
   "outputs": [],
   "source": [
    "# solution:\n",
    "\n",
    "sdata[ \"transcripts\" ][ \"gene\" ].nunique().compute()"
   ]
  },
  {
   "cell_type": "markdown",
   "metadata": {},
   "source": [
    "## Tables\n",
    "\n",
    "Tables are [AnnData](https://anndata.readthedocs.io/en/latest/) objects."
   ]
  },
  {
   "cell_type": "code",
   "execution_count": null,
   "metadata": {},
   "outputs": [],
   "source": [
    "sdata[ \"table_transcriptomics\" ]"
   ]
  },
  {
   "cell_type": "markdown",
   "metadata": {},
   "source": [
    "An `AnnData` object (say `adata`) contains following attributes:\n",
    "\n",
    "- `adata.X`:  The main data matrix (cells x genes).\n",
    "- `adata.obs`: Metadata for each cell (e.g., cell type, cluster ID, ...)\n",
    "- `adata.var`: Metadata for each variable (gene/feature).\n",
    "- `adata.uns`:  Unstructured information, like color schemes or settings.\n",
    "- `adata.obsm`: Embeddings or reduced dimensions (e.g., PCA or UMAP coordinates)."
   ]
  },
  {
   "cell_type": "markdown",
   "metadata": {},
   "source": [
    "### `adata.X`\n",
    "\n",
    "- This is the core data matrix of the AnnData object, typically an m×n matrix, where m is the number of observations (cells), and n is the number of variables (genes or features).\n",
    "- Often a sparse or dense NumPy array or SciPy sparse matrix.\n",
    "- Stores the primary quantitative data for each cell/gene pair, such as raw counts, normalized expression values, or any transformed measurements."
   ]
  },
  {
   "cell_type": "code",
   "execution_count": null,
   "metadata": {},
   "outputs": [],
   "source": [
    "sdata[ \"table_transcriptomics\" ].X"
   ]
  },
  {
   "cell_type": "code",
   "execution_count": null,
   "metadata": {},
   "outputs": [],
   "source": [
    "sdata[ \"table_transcriptomics\" ].X.toarray().shape"
   ]
  },
  {
   "cell_type": "code",
   "execution_count": null,
   "metadata": {},
   "outputs": [],
   "source": [
    "sdata[ \"table_transcriptomics\" ].to_df().head()"
   ]
  },
  {
   "cell_type": "markdown",
   "metadata": {},
   "source": [
    "### `adata.obs`\n",
    "\n",
    "- This is a DataFrame-like structure where each row corresponds to an observation in adata.X, typically cells or samples.\n",
    "- Data type is a `pandas.DataFrame`.\n",
    "- Stores metadata about each cell, such as cell type labels, sample IDs, batch information, or cluster ID's, cell annotation..."
   ]
  },
  {
   "cell_type": "code",
   "execution_count": null,
   "metadata": {},
   "outputs": [],
   "source": [
    "sdata[ \"table_transcriptomics\" ].obs.head()"
   ]
  },
  {
   "cell_type": "code",
   "execution_count": null,
   "metadata": {},
   "outputs": [],
   "source": [
    "sdata[ \"table_transcriptomics_clustered\" ].obs.head()"
   ]
  },
  {
   "cell_type": "markdown",
   "metadata": {},
   "source": [
    "### `adata.var`\n",
    "\n",
    "- This is a DataFrame-like structure where each row corresponds to a variable in adata.X, typically representing individual genes or features.\n",
    "- Data type is a `pandas.DataFrame`.\n",
    "- Stores metadata about each variable (e.g. gene), such as quality metrics, counts,..."
   ]
  },
  {
   "cell_type": "code",
   "execution_count": null,
   "metadata": {},
   "outputs": [],
   "source": [
    "sdata[ \"table_transcriptomics\" ].var.head()"
   ]
  },
  {
   "cell_type": "code",
   "execution_count": null,
   "metadata": {},
   "outputs": [],
   "source": [
    "sdata[ \"table_transcriptomics_clustered\" ].var.head()"
   ]
  },
  {
   "cell_type": "markdown",
   "metadata": {},
   "source": [
    "### `adata.uns`\n",
    "\n",
    "- `.uns` (unstructured data) is a dictionary for storing additional, often unstructured, information relevant to the dataset.\n",
    "- Data type is a dictionary where you can store various data types, such as strings, arrays, or even nested dictionaries.\n",
    "- Typically used for storing global dataset information, annotations, and visualization settings, like color palettes for clusters or parameter settings for computational methods"
   ]
  },
  {
   "cell_type": "code",
   "execution_count": null,
   "metadata": {},
   "outputs": [],
   "source": [
    "sdata[ \"table_transcriptomics\" ].uns"
   ]
  },
  {
   "cell_type": "markdown",
   "metadata": {},
   "source": [
    "### `adata.obsm`\n",
    "\n",
    "- `.obsm` is a mapping of additional multi-dimensional arrays associated with each observation (cell).\n",
    "- Data type is a dictionary-like structure where each entry is typically a matrix or array of coordinates.\n",
    "- Stores embeddings, dimensional reductions, or other coordinate-based data associated with cells"
   ]
  },
  {
   "cell_type": "code",
   "execution_count": null,
   "metadata": {},
   "outputs": [],
   "source": [
    "sdata[ \"table_transcriptomics\" ].obsm"
   ]
  },
  {
   "cell_type": "code",
   "execution_count": null,
   "metadata": {},
   "outputs": [],
   "source": [
    "sdata[ \"table_transcriptomics\" ].obsm[ \"spatial\" ][:5] # -> cell center"
   ]
  },
  {
   "cell_type": "code",
   "execution_count": null,
   "metadata": {},
   "outputs": [],
   "source": [
    "sdata[ \"table_transcriptomics_clustered\" ].obsm"
   ]
  },
  {
   "cell_type": "markdown",
   "metadata": {},
   "source": [
    "Region key and Instance key.\n",
    "\n",
    "An AnnData object can be annotated by a spatial element (`labels`, `shapes`, `points`).\n",
    "\n",
    "AnnData objects generated using `SPArrOW` will be annotated by a `labels` layer."
   ]
  },
  {
   "cell_type": "code",
   "execution_count": null,
   "metadata": {},
   "outputs": [],
   "source": [
    "from spatialdata.models import TableModel\n",
    "\n",
    "sdata[ \"table_transcriptomics\" ].uns[ TableModel.ATTRS_KEY ]"
   ]
  },
  {
   "cell_type": "code",
   "execution_count": null,
   "metadata": {},
   "outputs": [],
   "source": [
    "from sparrow.utils._keys import _INSTANCE_KEY, _REGION_KEY\n",
    "\n",
    "print( _INSTANCE_KEY ) # -> column in .obs that will be used for cell_ID\n",
    "print( _REGION_KEY ) # column in .obs that will be used for linking AnnData object to spatial element (a labels layer, e.g. a segmentation mask)."
   ]
  },
  {
   "cell_type": "code",
   "execution_count": null,
   "metadata": {},
   "outputs": [],
   "source": [
    "sdata[ \"table_transcriptomics_clustered\" ].obs.head()"
   ]
  },
  {
   "cell_type": "code",
   "execution_count": null,
   "metadata": {},
   "outputs": [],
   "source": [
    "da.unique(sdata[ \"segmentation_mask\" ].data).compute()[:5]"
   ]
  },
  {
   "cell_type": "markdown",
   "metadata": {},
   "source": [
    "Via correct use of this instance and region key, we can visualize a column in `adata.obs` using `spatialdata-plot`:"
   ]
  },
  {
   "cell_type": "code",
   "execution_count": null,
   "metadata": {},
   "outputs": [],
   "source": [
    "plt.figure(figsize=(5, 5))\n",
    "ax = plt.gca()\n",
    "\n",
    "column = \"shapeSize\"\n",
    "\n",
    "sdata.pl.render_images( \"clahe\" ).pl.render_labels(\"segmentation_mask\", color=column, method=\"datashader\", fill_alpha=1).pl.show(\n",
    "    coordinate_systems=\"global\", ax=ax, colorbar=False)"
   ]
  },
  {
   "cell_type": "markdown",
   "metadata": {},
   "source": [
    "Or via `SPArrOW`:"
   ]
  },
  {
   "cell_type": "code",
   "execution_count": null,
   "metadata": {},
   "outputs": [],
   "source": [
    "sp.pl.plot_shapes(\n",
    "    sdata,\n",
    "    img_layer=\"clahe\",\n",
    "    shapes_layer=\"segmentation_mask_boundaries\", # segmentation_mask_boundaries is linked to table layer 'table_transcriptomics_clustered' through cell_ID.\n",
    "    table_layer=\"table_transcriptomics_clustered\",\n",
    "    region = \"segmentation_mask\", # can be set to None in this example, as AnnData is only annotated by one labels layer (single sample).\n",
    "    column=\"shapeSize\",\n",
    "    crd = [ 2000,4000,2000,4000 ],\n",
    "    figsize=(5,5,),\n",
    "    fig_kwargs={ \"dpi\": 100 },\n",
    "     )"
   ]
  },
  {
   "cell_type": "markdown",
   "metadata": {},
   "source": [
    "Interactive visualization"
   ]
  },
  {
   "cell_type": "code",
   "execution_count": null,
   "metadata": {},
   "outputs": [],
   "source": [
    "from napari_spatialdata import Interactive\n",
    "\n",
    "#Interactive( sdata )\n",
    "\n",
    "# note this issue in napari-spatialdata when plotting categorical data: https://github.com/scverse/napari-spatialdata/issues/328"
   ]
  },
  {
   "cell_type": "markdown",
   "metadata": {},
   "source": [
    "Excercise: visualize the gene expression of the gene \"Acta2\"."
   ]
  },
  {
   "cell_type": "code",
   "execution_count": null,
   "metadata": {},
   "outputs": [],
   "source": [
    "sp.pl.plot_shapes(\n",
    "    sdata,\n",
    "    img_layer=\"clahe\",\n",
    "    shapes_layer=\"segmentation_mask_boundaries\", # segmentation_mask_boundaries is linked to table layer 'table_transcriptomics_clustered' through cell_ID.\n",
    "    table_layer=\"table_transcriptomics\",\n",
    "    region = \"segmentation_mask\", # can be set to None in this example, as AnnData is only annotated by one labels layer (single sample).\n",
    "    column=\"Vwf\",\n",
    "    crd = [ 2000,4000,2000,4000 ],\n",
    "    figsize=(5,5,),\n",
    "    fig_kwargs={ \"dpi\": 100 },\n",
    "     )"
   ]
  },
  {
   "cell_type": "markdown",
   "metadata": {},
   "source": [
    "## Vectorization and Rasterization\n",
    "\n",
    "We can go back and forth between labels and shapes using `SPArrOW`. \n",
    "\n",
    "Note: `spatialdata` also implements vectorization (`spatialdata.to_polygons`) and rasterization ( `spatialdata.rasterize` ), but these implementations are slower, and require much more RAM."
   ]
  },
  {
   "cell_type": "code",
   "execution_count": null,
   "metadata": {},
   "outputs": [],
   "source": [
    "# conversion between labels and shapes using sparrow\n",
    "sdata=sp.sh.vectorize(\n",
    "    sdata,\n",
    "    labels_layer=\"segmentation_mask\",\n",
    "    output_layer=\"segmentation_mask_boundaries_redo\",\n",
    "    overwrite=True,\n",
    "        )"
   ]
  },
  {
   "cell_type": "code",
   "execution_count": null,
   "metadata": {},
   "outputs": [],
   "source": [
    "sdata[ \"segmentation_mask_boundaries_redo\" ]"
   ]
  },
  {
   "cell_type": "code",
   "execution_count": null,
   "metadata": {},
   "outputs": [],
   "source": [
    "sdata=sp.im.rasterize(\n",
    "    sdata,\n",
    "    shapes_layer=\"segmentation_mask_boundaries_redo\",\n",
    "    output_layer=\"segmentation_mask_redo\",\n",
    "    chunks = 5000,\n",
    "    overwrite=True,\n",
    "                 )"
   ]
  },
  {
   "cell_type": "markdown",
   "metadata": {},
   "source": [
    "Excercise:\n",
    "\n",
    "Are the labels layers `segmentation_mask` and `segmentation_mask_redo` equal? Do you expect them to be equal?"
   ]
  },
  {
   "cell_type": "code",
   "execution_count": null,
   "metadata": {},
   "outputs": [],
   "source": [
    "# solution:\n",
    "\n",
    "from napari_spatialdata import Interactive\n",
    "\n",
    "import numpy as np\n",
    "\n",
    "pixels_not_equal=(~ np.equal( sdata[ \"segmentation_mask_redo\" ].data.compute(), sdata[ \"segmentation_mask\" ].data.compute() )).sum() \n",
    "\n",
    "print( f\"After roundtrip vectorization and rasterization, {pixels_not_equal} pixels are not equal.\" )\n",
    "\n",
    "#Interactive( sdata )"
   ]
  },
  {
   "cell_type": "code",
   "execution_count": null,
   "metadata": {},
   "outputs": [],
   "source": [
    "print(da.unique( sdata[ \"segmentation_mask_redo\" ].data ).compute().shape)\n",
    "print(da.unique( sdata[ \"segmentation_mask\" ].data ).compute().shape)"
   ]
  },
  {
   "cell_type": "markdown",
   "metadata": {},
   "source": [
    "### Coordinate systems\n",
    "\n",
    "All elements in a `SpatialData` object are assigned to one or more coordinate systems, which allows for storing multiple samples in the same `SpatialData` object.\n",
    "\n",
    "We refer to [this notebook](https://harpy.readthedocs.io/en/latest/tutorials/advanced/coordinate_systems.html) for more information"
   ]
  },
  {
   "cell_type": "code",
   "execution_count": null,
   "metadata": {},
   "outputs": [],
   "source": [
    "from spatialdata.transformations import get_transformation\n",
    "\n",
    "get_transformation( sdata[ \"clahe\" ], get_all=True )"
   ]
  },
  {
   "cell_type": "code",
   "execution_count": null,
   "metadata": {},
   "outputs": [],
   "source": [
    "get_transformation( sdata[ \"transcripts\" ], get_all=True )"
   ]
  }
 ],
 "metadata": {
  "kernelspec": {
   "display_name": "training_env",
   "language": "python",
   "name": "python3"
  },
  "language_info": {
   "codemirror_mode": {
    "name": "ipython",
    "version": 3
   },
   "file_extension": ".py",
   "mimetype": "text/x-python",
   "name": "python",
   "nbconvert_exporter": "python",
   "pygments_lexer": "ipython3",
   "version": "3.10.8"
  }
 },
 "nbformat": 4,
 "nbformat_minor": 2
}
