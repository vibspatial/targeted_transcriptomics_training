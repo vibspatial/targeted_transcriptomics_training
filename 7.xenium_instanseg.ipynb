{
 "cells": [
  {
   "cell_type": "code",
   "execution_count": null,
   "metadata": {},
   "outputs": [],
   "source": [
    "import os\n",
    "import tempfile\n",
    "import uuid\n",
    "\n",
    "from training_datasets import sdata_xenium\n",
    "\n",
    "# The OUTPUT_DIR is the directory where the SpatialData .zarr will be saved. Change it to your output directory of choice.\n",
    "OUTPUT_DIR =  tempfile.gettempdir()\n",
    "\n",
    "sdata=sdata_xenium( path = None, output= os.path.join( OUTPUT_DIR, f\"sdata_{uuid.uuid4()}.zarr\" ) ) # on Windows, set path (e.g. to r\"c:\\tmp\")\n",
    "sdata"
   ]
  },
  {
   "cell_type": "markdown",
   "metadata": {},
   "source": [
    "Download an `instanseg` model.\n",
    "\n",
    "Make sure to install `instanseg`:\n",
    "\n",
    "`pip install git+https://github.com/instanseg/instanseg.git@main`\n"
   ]
  },
  {
   "cell_type": "code",
   "execution_count": null,
   "metadata": {},
   "outputs": [],
   "source": [
    "import os\n",
    "\n",
    "import torch\n",
    "from instanseg import InstanSeg\n",
    "\n",
    "# Call the function to download and extract the models\n",
    "instanseg_brightfield = InstanSeg(\"brightfield_nuclei\", verbosity=1,  device=\"cpu\")\n",
    "instanseg_fluorescence = InstanSeg(\"fluorescence_nuclei_and_cells\", verbosity=1 ,device=\"cpu\")\n",
    "\n",
    "# or load the model from a path\n",
    "path_model = os.path.join( os.environ.get( \"INSTANSEG_BIOIMAGEIO_PATH\" ), \"fluorescence_nuclei_and_cells/0.1.0/instanseg.pt\" )\n",
    "instanseg_fluorescence= torch.load( path_model )\n",
    "instanseg_fluorescence=InstanSeg( model_type=instanseg_fluorescence, device=\"cpu\" )"
   ]
  },
  {
   "cell_type": "markdown",
   "metadata": {},
   "source": [
    "Distributed segmentation using `harpy.im.segment`."
   ]
  },
  {
   "cell_type": "code",
   "execution_count": null,
   "metadata": {},
   "outputs": [],
   "source": [
    "import harpy as hp\n",
    "\n",
    "crd = [10000,15000,10000,15000]\n",
    "\n",
    "sdata=hp.im.segment(\n",
    "    sdata,\n",
    "    img_layer=\"morphology_focus_global\",\n",
    "    output_labels_layer=[  \"masks_nuclei_iou_harpy\", \"masks_cells_iou_harpy\" ],\n",
    "    output_shapes_layer=[  \"shapes_nuclei_harpy\", \"shapes_cells_harpy\" ],\n",
    "    labels_layer_align=\"masks_cells_iou_harpy\",\n",
    "    model=hp.im.instanseg_callable,\n",
    "    output=\"all_outputs\",\n",
    "    chunks=(1000,1000),\n",
    "    depth=300,\n",
    "    crd = crd,\n",
    "    device=\"cpu\",\n",
    "    #instanseg_model = instanseg_fluorescence,\n",
    "    instanseg_model = path_model, # load it in every worker, because torchscript model not serializable\n",
    "    overwrite=True,\n",
    "    pixel_size = 0.2125,\n",
    "          )"
   ]
  },
  {
   "cell_type": "markdown",
   "metadata": {},
   "source": [
    "Visualization"
   ]
  },
  {
   "cell_type": "code",
   "execution_count": null,
   "metadata": {},
   "outputs": [],
   "source": [
    "hp.pl.plot_shapes(\n",
    "    sdata,\n",
    "    img_layer=\"morphology_focus_global\",\n",
    "    shapes_layer=\"shapes_cells_harpy\",\n",
    "    crd = [ 11000,12000,11000,12000 ],\n",
    "    figsize=( 5,5, ),\n",
    "    channel=\"DAPI\",\n",
    "        )"
   ]
  }
 ],
 "metadata": {
  "kernelspec": {
   "display_name": "harpy_instanseg",
   "language": "python",
   "name": "python3"
  },
  "language_info": {
   "codemirror_mode": {
    "name": "ipython",
    "version": 3
   },
   "file_extension": ".py",
   "mimetype": "text/x-python",
   "name": "python",
   "nbconvert_exporter": "python",
   "pygments_lexer": "ipython3",
   "version": "3.11.11"
  }
 },
 "nbformat": 4,
 "nbformat_minor": 2
}
