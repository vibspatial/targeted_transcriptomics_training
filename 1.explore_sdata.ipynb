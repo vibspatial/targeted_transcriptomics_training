{
 "cells": [
  {
   "cell_type": "markdown",
   "metadata": {},
   "source": [
    "# Explore sdata"
   ]
  },
  {
   "cell_type": "markdown",
   "metadata": {},
   "source": [
    "In this notebook, we will explore the SpatialData data format using a Molecular Cartography ([Resolve Biosciences](https://resolvebiosciences.com/)) mouse liver WT dataset that has been analyzed by the SPArrOW pipeline. \n",
    "\n",
    "For more information on the SpatialData package, see: https://spatialdata.scverse.org/en/latest/."
   ]
  },
  {
   "cell_type": "code",
   "execution_count": null,
   "metadata": {},
   "outputs": [],
   "source": [
    "import harpy as hp"
   ]
  },
  {
   "cell_type": "markdown",
   "metadata": {},
   "source": [
    "## 1. Read in the data"
   ]
  },
  {
   "cell_type": "code",
   "execution_count": null,
   "metadata": {},
   "outputs": [],
   "source": [
    "# If path is set to None, example data will be downloaded in the default cache folder of your os. Set this to a custom path to change this behaviour.\n",
    "path = None\n",
    "# path = r\"c:\\tmp\" # Recommended on Windows\n",
    "# path = \"/staging/leuven/stg_00143/spatial_data_training\" # e.g. on HPC"
   ]
  },
  {
   "cell_type": "code",
   "execution_count": null,
   "metadata": {},
   "outputs": [],
   "source": [
    "# Read in example data as sdata\n",
    "import os\n",
    "import tempfile\n",
    "import uuid\n",
    "\n",
    "from training_datasets import sdata_resolve\n",
    "\n",
    "OUTPUT_DIR = tempfile.gettempdir() # The OUTPUT_DIR is the directory where the SpatialData .zarr will be saved. Change it to your output directory of choice.\n",
    "#OUTPUT_DIR = \"/staging/leuven/stg_00143/spatial_data_training/output_dir\" # e.g. on HPC\n",
    "\n",
    "sdata = sdata_resolve(path=path, output=os.path.join(OUTPUT_DIR, f\"sdata_{uuid.uuid4()}.zarr\"))"
   ]
  },
  {
   "cell_type": "code",
   "execution_count": null,
   "metadata": {},
   "outputs": [],
   "source": [
    "# Inspect SpatialData object\n",
    "sdata"
   ]
  },
  {
   "cell_type": "code",
   "execution_count": null,
   "metadata": {},
   "outputs": [],
   "source": [
    "# Check if the sdata is backed by a Zarr store\n",
    "print(\"Check if sdata is backed by a Zarr store: \", sdata.is_backed())\n",
    "print(\"Path to associated Zarr store: \", sdata.path)"
   ]
  },
  {
   "cell_type": "code",
   "execution_count": null,
   "metadata": {},
   "outputs": [],
   "source": [
    "# Check contents of Zarr store\n",
    "print( f\"Content of {sdata.path}:\" )\n",
    "! dir {sdata.path} # On windows, use 'dir' instead of 'ls'\n",
    "print( \"\\n\" )\n",
    "\n",
    "# Check contents of images directory in Zarr store\n",
    "images_dir = os.path.join(sdata.path, \"images\")\n",
    "print( f\"Content of {images_dir}:\" )\n",
    "! dir {images_dir} # On windows, use 'dir' instead of 'ls'"
   ]
  },
  {
   "cell_type": "markdown",
   "metadata": {},
   "source": [
    "Note: you can remove an element from the zarr store (e.g. on the command line with `rm -r dummy_image`), without 'breaking' the `SpatialData` object. After reloading it from the `.zarr` store, the element that was removed will no longer be an element of the `SpatialData` object.\n",
    "\n",
    "If the `SpatialData` object is not backed by a `.zarr` store, elements can be removed in the Python shell via `del ...`."
   ]
  },
  {
   "cell_type": "code",
   "execution_count": null,
   "metadata": {},
   "outputs": [],
   "source": [
    "# Delete tiling_correction from sdata\n",
    "del sdata.images[\"dummy_image\"] # This deletes the element from memory, but does not remove the directory in the Zarr store.\n",
    "\n",
    "# Inspect sdata\n",
    "sdata"
   ]
  },
  {
   "cell_type": "code",
   "execution_count": null,
   "metadata": {},
   "outputs": [],
   "source": [
    "# Reload the Zarr data back as a SpatialData\n",
    "from spatialdata import read_zarr\n",
    "sdata = read_zarr(sdata.path)\n",
    "\n",
    "# Inspect sdata\n",
    "sdata"
   ]
  },
  {
   "cell_type": "code",
   "execution_count": null,
   "metadata": {},
   "outputs": [],
   "source": [
    "# Remove dummy_image directory from Zarr store\n",
    "import shutil\n",
    "shutil.rmtree(os.path.join(sdata.path, \"images/dummy_image\")) # shutil.rmtree can be used to remove a directory recursivelly. This will remove the sdata element from disk.\n",
    "\n",
    "# Inspect sdata\n",
    "sdata"
   ]
  },
  {
   "cell_type": "code",
   "execution_count": null,
   "metadata": {},
   "outputs": [],
   "source": [
    "# Reload the Zarr data back as a SpatialData\n",
    "from spatialdata import read_zarr\n",
    "sdata = read_zarr(sdata.path)\n",
    "\n",
    "# Inspect sdata\n",
    "sdata"
   ]
  },
  {
   "cell_type": "markdown",
   "metadata": {},
   "source": [
    "## 2. Layers"
   ]
  },
  {
   "cell_type": "markdown",
   "metadata": {},
   "source": [
    "Images, Labels and Points are lazy if the `SpatialData` object is backed by a `.zarr` store. Lazy means they will not be 'pulled' into RAM, unless you ask for it (e.g. calling `.compute()`, `.persist()` on the Dask objects).\n",
    "\n",
    "[Dask](https://www.dask.org/) enables out-of-core computation, allowing you to process datasets that exceed the available RAM, and also facilitates parallelized computations.\n",
    "\n",
    "Note that currently Tables and Shapes are not lazy, and will be loaded into memory when you load a `SpatialData` object. In the future shapes will probably also be lazy, https://github.com/scverse/spatialdata/issues/359.\n",
    "\n",
    "Support for lazy Tables should also be coming soon in `SpatialData`, but note that there is limited `Dask` support in e.g. `Scanpy` https://scanpy-tutorials.readthedocs.io/en/latest/dask.html, which would mean Tables need to be pulled in memory when `Scanpy` functions are applied on it."
   ]
  },
  {
   "cell_type": "markdown",
   "metadata": {},
   "source": [
    "## 2.1 Images"
   ]
  },
  {
   "cell_type": "code",
   "execution_count": null,
   "metadata": {},
   "outputs": [],
   "source": [
    "# Inspect image layer\n",
    "sdata.images[\"clahe\"] # This is an xarray.DataArray (or datatree.DataTree for multiscale images)"
   ]
  },
  {
   "cell_type": "code",
   "execution_count": null,
   "metadata": {},
   "outputs": [],
   "source": [
    "# Inspect the .data attribute of the image layer\n",
    "sdata.images[\"clahe\"].data # This is a Dask array"
   ]
  },
  {
   "cell_type": "code",
   "execution_count": null,
   "metadata": {},
   "outputs": [],
   "source": [
    "# Compute the image array\n",
    "sdata.images[\"clahe\"].data.compute() # This is a numpy array"
   ]
  },
  {
   "cell_type": "code",
   "execution_count": null,
   "metadata": {},
   "outputs": [],
   "source": [
    "# Inspect image dimensions\n",
    "print('Image dimensions: ', sdata.images[\"clahe\"].dims) # Image layers have c,(z),y,x dimension. z dimension is optional\n",
    "print('Image shape: ', sdata.images[\"clahe\"].shape)"
   ]
  },
  {
   "cell_type": "code",
   "execution_count": null,
   "metadata": {},
   "outputs": [],
   "source": [
    "# Inspect data type\n",
    "print('Image dtype: ', sdata.images[\"clahe\"].data.dtype) # The data type of an image layer can be integer or float: uint8, uint16, float32, ..."
   ]
  },
  {
   "cell_type": "code",
   "execution_count": null,
   "metadata": {},
   "outputs": [],
   "source": [
    "sdata"
   ]
  },
  {
   "cell_type": "code",
   "execution_count": null,
   "metadata": {},
   "outputs": [],
   "source": [
    "# Inspect multiscale image layer\n",
    "sdata.images[\"raw_image\"] # This is a multiscale image so it is a datatree.DataTree"
   ]
  },
  {
   "cell_type": "code",
   "execution_count": null,
   "metadata": {},
   "outputs": [],
   "source": [
    "# Get spatial element using _get_spatial_element function\n",
    "from harpy.image._image import _get_spatial_element\n",
    "\n",
    "se = _get_spatial_element(sdata, layer=\"raw_image\")  # Gets scale0 if it is a multiscale image\n",
    "se # This is an xarray.DataArray\n",
    "se.data # This is a Dask array"
   ]
  },
  {
   "cell_type": "code",
   "execution_count": null,
   "metadata": {},
   "outputs": [],
   "source": [
    "# Visualize images using SPArrOW plotting function\n",
    "hp.pl.plot_image(sdata, img_layer=\"clahe\", figsize=(5,5), colorbar=True)"
   ]
  },
  {
   "cell_type": "code",
   "execution_count": null,
   "metadata": {},
   "outputs": [],
   "source": [
    "# Visualize images using spatialdata-plot (https://github.com/scverse/spatialdata-plot)\n",
    "import spatialdata_plot\n",
    "\n",
    "sdata.pl.render_images(\"clahe\").pl.show()"
   ]
  },
  {
   "cell_type": "markdown",
   "metadata": {},
   "source": [
    "<b>Excercise</b>:\n",
    "- Using the SPArrOW and spatialdata-plot plotting functions, plot the 'transcript_density' image layer.\n",
    "- How can you use matplotlib to create a plot of the 'transcript_density' image?\n",
    "\n",
    "<details>\n",
    "<summary>Click to reveal the solution</summary>\n",
    "\n",
    "```python\n",
    "import matplotlib.pyplot as plt\n",
    "\n",
    "plt.imshow(sdata[\"transcript_density\"].data[0].compute())"
   ]
  },
  {
   "cell_type": "code",
   "execution_count": null,
   "metadata": {},
   "outputs": [],
   "source": [
    "# Explore MACSima dataset\n",
    "sdata_macsima = hp.datasets.macsima_example()\n",
    "sdata_macsima.images[\"HumanLiverH35\"] # Images can have multiple channels"
   ]
  },
  {
   "cell_type": "code",
   "execution_count": null,
   "metadata": {},
   "outputs": [],
   "source": [
    "# Inspect channel names\n",
    "sdata_macsima.images['HumanLiverH35'].c"
   ]
  },
  {
   "cell_type": "code",
   "execution_count": null,
   "metadata": {},
   "outputs": [],
   "source": [
    "# Plot image from MACSima dataset\n",
    "hp.pl.plot_image(sdata_macsima, img_layer=\"HumanLiverH35\", channel=\"R0 DAPI\", figsize = (5,5,)) # We use the channel argument to specify which channel to plot"
   ]
  },
  {
   "cell_type": "code",
   "execution_count": null,
   "metadata": {},
   "outputs": [],
   "source": [
    "# Interactive exploration using Napari spatialdata (https://spatialdata.scverse.org/projects/napari/en/latest/index.html)\n",
    "from napari_spatialdata import Interactive\n",
    "\n",
    "#Interactive(sdata_macsima)"
   ]
  },
  {
   "cell_type": "markdown",
   "metadata": {},
   "source": [
    "<b>Excercise</b>:\n",
    "- Use Napari to interactively explore both the sdata and sdata_macsima SpatialData objects. Try plotting different image layers, multiple channels and changing the contrast and opacity of the images."
   ]
  },
  {
   "cell_type": "markdown",
   "metadata": {},
   "source": [
    "## 2.2 Labels\n",
    "\n",
    "Typically representing a segmentation mask\n",
    "\n",
    "Labels and images are sometimes referred to as `raster` data."
   ]
  },
  {
   "cell_type": "code",
   "execution_count": null,
   "metadata": {},
   "outputs": [],
   "source": [
    "# Inspect labels layer\n",
    "sdata.labels[\"segmentation_mask\"]"
   ]
  },
  {
   "cell_type": "code",
   "execution_count": null,
   "metadata": {},
   "outputs": [],
   "source": [
    "# Compute the numpy array of the labels layer\n",
    "sdata.labels[\"segmentation_mask\"].data.compute()"
   ]
  },
  {
   "cell_type": "code",
   "execution_count": null,
   "metadata": {},
   "outputs": [],
   "source": [
    "# Inspect data type\n",
    "sdata.labels[\"segmentation_mask\"].data.compute().dtype # Data type of labels is always int (i.e.: float is not allowed)."
   ]
  },
  {
   "cell_type": "code",
   "execution_count": null,
   "metadata": {},
   "outputs": [],
   "source": [
    "# Plot using spatialdata-plot\n",
    "sdata.pl.render_images(\"clahe\").pl.render_labels(\"segmentation_mask\", outline_alpha=1.0, fill_alpha=0.8, seg_boundaries=True).pl.show()"
   ]
  },
  {
   "cell_type": "code",
   "execution_count": null,
   "metadata": {},
   "outputs": [],
   "source": [
    "# or a subset\n",
    "from spatialdata import bounding_box_query\n",
    "\n",
    "sdata_query=bounding_box_query( sdata, axes = ( \"y\", \"x\" ), min_coordinate=[ 1500, 0 ] , max_coordinate=[ 2000,500 ], target_coordinate_system=\"global\" )\n",
    "sdata_query.pl.render_images(\"clahe\").pl.render_labels(\"segmentation_mask\", outline_alpha=1.0, fill_alpha=0.5, seg_boundaries=True, ).pl.show()"
   ]
  },
  {
   "cell_type": "markdown",
   "metadata": {},
   "source": [
    "<b>Excercise</b>:\n",
    "\n",
    "- Calculate the total number of cells (based on the segmentation mask provided).\n",
    "- Bonus: try not to load the segmentation mask in memory.\n",
    "\n",
    "<details>\n",
    "<summary>Click to reveal the solution</summary>\n",
    "\n",
    "```python\n",
    "import dask.array as da\n",
    "len(da.unique(sdata.labels[\"segmentation_mask\"].data).compute())\n",
    "\n",
    "# Alternatively:\n",
    "import numpy as np\n",
    "len(np.unique(sdata.labels[\"segmentation_mask\"].data.compute())) # But this will load the full array into memory"
   ]
  },
  {
   "cell_type": "markdown",
   "metadata": {},
   "source": [
    "## 2.3 Shapes\n",
    "Shapes either represent the boundaries of a segmentation mask, or region annotations (e.g. artifacts, tumor regions, ...). \n",
    "\n",
    "Shapes are of type GeoDataFrame. They can be manipulated using the [geopandas](https://geopandas.org/en/stable/) library."
   ]
  },
  {
   "cell_type": "code",
   "execution_count": null,
   "metadata": {},
   "outputs": [],
   "source": [
    "# Inspect shapes layer\n",
    "sdata.shapes[\"segmentation_mask_boundaries\"]"
   ]
  },
  {
   "cell_type": "code",
   "execution_count": null,
   "metadata": {},
   "outputs": [],
   "source": [
    "# Inspect data type\n",
    "print(type(sdata.shapes[\"segmentation_mask_boundaries\"])) # Shapes are of type GeoDataFrame and we can use geopandas to manipulate them."
   ]
  },
  {
   "cell_type": "code",
   "execution_count": null,
   "metadata": {},
   "outputs": [],
   "source": [
    "# Inspect geometry\n",
    "sdata.shapes[\"segmentation_mask_boundaries\"].geometry.head()"
   ]
  },
  {
   "cell_type": "markdown",
   "metadata": {},
   "source": [
    "When using `SPArrOW` to generate shapes (via e.g. `hp.im.segment` or `hp.sh.vectorize`), the index of the shapes layer holds the cell id (its name is 'cell_ID') and corresponds to the labels in the corresponding labels layer."
   ]
  },
  {
   "cell_type": "code",
   "execution_count": null,
   "metadata": {},
   "outputs": [],
   "source": [
    "# Inspect index\n",
    "sdata.shapes[\"segmentation_mask_boundaries\"].index.name"
   ]
  },
  {
   "cell_type": "code",
   "execution_count": null,
   "metadata": {},
   "outputs": [],
   "source": [
    "# Plot the shapes using SPArrOW\n",
    "hp.pl.plot_shapes(\n",
    "    sdata,\n",
    "    img_layer=\"clahe\",\n",
    "    shapes_layer=\"segmentation_mask_boundaries\",\n",
    "    crd=[2000,4000, 2000,4000], # Can be used to crop the image to xmin, xmax, ymin, ymax\n",
    "    figsize=(5,5,),\n",
    ")"
   ]
  },
  {
   "cell_type": "code",
   "execution_count": null,
   "metadata": {},
   "outputs": [],
   "source": [
    "# Plot the shapes using spatialdata-plot\n",
    "sdata_small = sdata.query.bounding_box(\n",
    "    min_coordinate=[2000, 2000], max_coordinate=[4000, 4000], axes=(\"x\", \"y\"), target_coordinate_system=\"global\"\n",
    ") # To crop in spatialdata-plot, we need to do a bounding_box query first\n",
    "\n",
    "sdata_small.pl.render_images(\"clahe\").pl.render_shapes(\"segmentation_mask_boundaries\", fill_alpha=0.5).pl.show()"
   ]
  },
  {
   "cell_type": "markdown",
   "metadata": {},
   "source": [
    "## 2.4 Points\n",
    "\n",
    "Points are DaskDataFrame object (see https://docs.dask.org/en/stable/dataframe.html).\n",
    "\n",
    "Points represent the spatial location of a feature. In our case this will almost always be a gene."
   ]
  },
  {
   "cell_type": "code",
   "execution_count": null,
   "metadata": {},
   "outputs": [],
   "source": [
    "# Inspect points layer\n",
    "sdata.points[\"transcripts\"]"
   ]
  },
  {
   "cell_type": "code",
   "execution_count": null,
   "metadata": {},
   "outputs": [],
   "source": [
    "# Compute points layer as pandas dataframe\n",
    "sdata.points[\"transcripts\"].compute().head() # This is a pandas.DataFrame "
   ]
  },
  {
   "cell_type": "markdown",
   "metadata": {},
   "source": [
    "<b>Excercise</b>:\n",
    "- Use the points layer `transcripts` to determine how many unique genes were measured.\n",
    "\n",
    "<details>\n",
    "<summary>Click to reveal the solution</summary>\n",
    "\n",
    "```python\n",
    "sdata.points[\"transcripts\"][\"gene\"].nunique().compute()"
   ]
  },
  {
   "cell_type": "markdown",
   "metadata": {},
   "source": [
    "## 2.5 Tables\n",
    "\n",
    "Tables are [AnnData](https://anndata.readthedocs.io/en/latest/) objects."
   ]
  },
  {
   "cell_type": "code",
   "execution_count": null,
   "metadata": {},
   "outputs": [],
   "source": [
    "# Inspect tables layer\n",
    "sdata.tables[\"table_transcriptomics\"]"
   ]
  },
  {
   "cell_type": "markdown",
   "metadata": {},
   "source": [
    "An `AnnData` object (say `adata`) contains following attributes:\n",
    "\n",
    "- `adata.X`:  The main data matrix (cells x genes).\n",
    "- `adata.obs`: Metadata for each cell (e.g., cell type, cluster ID, ...)\n",
    "- `adata.var`: Metadata for each variable (gene/feature).\n",
    "- `adata.uns`:  Unstructured information, like color schemes or settings.\n",
    "- `adata.obsm`: Embeddings or reduced dimensions (e.g., PCA or UMAP coordinates)."
   ]
  },
  {
   "cell_type": "markdown",
   "metadata": {},
   "source": [
    "### `adata.X`\n",
    "\n",
    "- This is the core data matrix of the AnnData object, typically an m×n matrix, where m is the number of observations (cells), and n is the number of variables (genes or features).\n",
    "- Often a sparse or dense NumPy array or SciPy sparse matrix.\n",
    "- Stores the primary quantitative data for each cell/gene pair, such as raw counts, normalized expression values, or any transformed measurements."
   ]
  },
  {
   "cell_type": "code",
   "execution_count": null,
   "metadata": {},
   "outputs": [],
   "source": [
    "sdata.tables[\"table_transcriptomics\"].X"
   ]
  },
  {
   "cell_type": "code",
   "execution_count": null,
   "metadata": {},
   "outputs": [],
   "source": [
    "# Get shape of data matrix\n",
    "sdata.tables[\"table_transcriptomics\"].X.toarray().shape"
   ]
  },
  {
   "cell_type": "code",
   "execution_count": null,
   "metadata": {},
   "outputs": [],
   "source": [
    "# Get matrix as dataframe\n",
    "sdata.tables[\"table_transcriptomics\"].to_df().head()"
   ]
  },
  {
   "cell_type": "markdown",
   "metadata": {},
   "source": [
    "### `adata.obs`\n",
    "\n",
    "- This is a DataFrame-like structure where each row corresponds to an observation in adata.X, typically cells or samples.\n",
    "- Data type is a `pandas.DataFrame`.\n",
    "- Stores metadata about each cell, such as cell type labels, sample IDs, batch information, or cluster ID's, cell annotation..."
   ]
  },
  {
   "cell_type": "code",
   "execution_count": null,
   "metadata": {},
   "outputs": [],
   "source": [
    "sdata.tables[\"table_transcriptomics\"].obs.head()"
   ]
  },
  {
   "cell_type": "code",
   "execution_count": null,
   "metadata": {},
   "outputs": [],
   "source": [
    "sdata.tables[\"table_transcriptomics_clustered\"].obs.head()"
   ]
  },
  {
   "cell_type": "markdown",
   "metadata": {},
   "source": [
    "### `adata.var`\n",
    "\n",
    "- This is a DataFrame-like structure where each row corresponds to a variable in adata.X, typically representing individual genes or features.\n",
    "- Data type is a `pandas.DataFrame`.\n",
    "- Stores metadata about each variable (e.g. gene), such as quality metrics, counts,..."
   ]
  },
  {
   "cell_type": "code",
   "execution_count": null,
   "metadata": {},
   "outputs": [],
   "source": [
    "sdata.tables[\"table_transcriptomics\"].var.head()"
   ]
  },
  {
   "cell_type": "code",
   "execution_count": null,
   "metadata": {},
   "outputs": [],
   "source": [
    "sdata.tables[\"table_transcriptomics_clustered\"].var.head()"
   ]
  },
  {
   "cell_type": "markdown",
   "metadata": {},
   "source": [
    "### `adata.uns`\n",
    "\n",
    "- `.uns` (unstructured data) is a dictionary for storing additional, often unstructured, information relevant to the dataset.\n",
    "- Data type is a dictionary where you can store various data types, such as strings, arrays, or even nested dictionaries.\n",
    "- Typically used for storing global dataset information, annotations, and visualization settings, like color palettes for clusters or parameter settings for computational methods"
   ]
  },
  {
   "cell_type": "code",
   "execution_count": null,
   "metadata": {},
   "outputs": [],
   "source": [
    "sdata.tables[\"table_transcriptomics\"].uns"
   ]
  },
  {
   "cell_type": "markdown",
   "metadata": {},
   "source": [
    "### `adata.obsm`\n",
    "\n",
    "- `.obsm` is a mapping of additional multi-dimensional arrays associated with each observation (cell).\n",
    "- Data type is a dictionary-like structure where each entry is typically a matrix or array of coordinates.\n",
    "- Stores embeddings, dimensional reductions, or other coordinate-based data associated with cells"
   ]
  },
  {
   "cell_type": "code",
   "execution_count": null,
   "metadata": {},
   "outputs": [],
   "source": [
    "sdata.tables[\"table_transcriptomics\"].obsm"
   ]
  },
  {
   "cell_type": "code",
   "execution_count": null,
   "metadata": {},
   "outputs": [],
   "source": [
    "sdata.tables[\"table_transcriptomics\"].obsm[\"spatial\"][:5] # Contains centroid coordinates of cells"
   ]
  },
  {
   "cell_type": "code",
   "execution_count": null,
   "metadata": {},
   "outputs": [],
   "source": [
    "sdata.tables[\"table_transcriptomics_clustered\"].obsm"
   ]
  },
  {
   "cell_type": "markdown",
   "metadata": {},
   "source": [
    "## 3. Region key and Instance key\n",
    "\n",
    "An AnnData object can be annotated by a spatial element (`labels`, `shapes`, `points`), but AnnData objects generated using `SPArrOW` will be annotated by a `labels` layer."
   ]
  },
  {
   "cell_type": "code",
   "execution_count": null,
   "metadata": {},
   "outputs": [],
   "source": [
    "from spatialdata.models import TableModel\n",
    "\n",
    "sdata.tables[\"table_transcriptomics\"].uns[TableModel.ATTRS_KEY]"
   ]
  },
  {
   "cell_type": "code",
   "execution_count": null,
   "metadata": {},
   "outputs": [],
   "source": [
    "from harpy.utils._keys import _INSTANCE_KEY, _REGION_KEY\n",
    "\n",
    "print('Instance key column: ', _INSTANCE_KEY) # Column in .obs that will be used for cell_ID\n",
    "print('Region key column: ', _REGION_KEY) # Column in .obs that will be used for linking AnnData object to spatial element (a labels layer, e.g. a segmentation mask)."
   ]
  },
  {
   "cell_type": "code",
   "execution_count": null,
   "metadata": {},
   "outputs": [],
   "source": [
    "# Inspect instance and region keys in obs\n",
    "sdata.tables[\"table_transcriptomics_clustered\"].obs.head()"
   ]
  },
  {
   "cell_type": "code",
   "execution_count": null,
   "metadata": {},
   "outputs": [],
   "source": [
    "# Segmentation labels correspond to cell_ID values\n",
    "import dask.array as da\n",
    "da.unique(sdata.labels[\"segmentation_mask\"].data).compute()[:5] # 0 is not a cell_id, but the value of the background"
   ]
  },
  {
   "cell_type": "code",
   "execution_count": null,
   "metadata": {},
   "outputs": [],
   "source": [
    "# Shapes index correspond to cell_ID values\n",
    "sdata.shapes['segmentation_mask_boundaries'].index[:5]"
   ]
  },
  {
   "cell_type": "code",
   "execution_count": null,
   "metadata": {},
   "outputs": [],
   "source": [
    "# Plot column of adata.obs using spatialdata-plot (made possible by correct use of instance and region keys)\n",
    "\n",
    "from matplotlib import pyplot as plt\n",
    "plt.figure(figsize=(5, 5))\n",
    "ax = plt.gca()\n",
    "\n",
    "column = \"shapeSize\"\n",
    "\n",
    "sdata.pl.render_images(\"clahe\").pl.render_labels(\"segmentation_mask\", color=column, method=\"datashader\", fill_alpha=1).pl.show(\n",
    "    coordinate_systems=\"global\", ax=ax, colorbar=False)"
   ]
  },
  {
   "cell_type": "code",
   "execution_count": null,
   "metadata": {},
   "outputs": [],
   "source": [
    "# Plot column of adata.obs using SPArrOW\n",
    "hp.pl.plot_shapes(\n",
    "    sdata,\n",
    "    img_layer=\"clahe\",\n",
    "    shapes_layer=\"segmentation_mask_boundaries\", # segmentation_mask_boundaries is linked to table layer 'table_transcriptomics_clustered' through cell_ID.\n",
    "    table_layer=\"table_transcriptomics_clustered\",\n",
    "    region = \"segmentation_mask\", # can be set to None in this example, as AnnData is only annotated by one labels layer (single sample).\n",
    "    column=\"shapeSize\",\n",
    "    crd=[2000,4000,2000,4000],\n",
    "    figsize=(5,5,),\n",
    "    fig_kwargs={ \"dpi\": 100 },\n",
    ")"
   ]
  },
  {
   "cell_type": "code",
   "execution_count": null,
   "metadata": {},
   "outputs": [],
   "source": [
    "#Interactive visualization\n",
    "\n",
    "#Interactive(sdata)\n",
    "\n",
    "# note this issue in napari-spatialdata when plotting categorical data: https://github.com/scverse/napari-spatialdata/issues/328"
   ]
  },
  {
   "cell_type": "markdown",
   "metadata": {},
   "source": [
    "## 4. Vectorization and Rasterization\n",
    "\n",
    "We can go back and forth between labels and shapes using `SPArrOW`. \n",
    "\n",
    "Note: `spatialdata` also implements vectorization (`spatialdata.to_polygons`) and rasterization ( `spatialdata.rasterize` ), but these implementations are slower, and require much more RAM."
   ]
  },
  {
   "cell_type": "code",
   "execution_count": null,
   "metadata": {},
   "outputs": [],
   "source": [
    "# Convert labels to shapes layer using sparrow\n",
    "sdata = hp.sh.vectorize(\n",
    "    sdata,\n",
    "    labels_layer=\"segmentation_mask\",\n",
    "    output_layer=\"segmentation_mask_boundaries_redo\",\n",
    "    overwrite=True,\n",
    ")"
   ]
  },
  {
   "cell_type": "code",
   "execution_count": null,
   "metadata": {},
   "outputs": [],
   "source": [
    "# Inspect new shapes layer\n",
    "sdata.shapes[\"segmentation_mask_boundaries_redo\"]"
   ]
  },
  {
   "cell_type": "code",
   "execution_count": null,
   "metadata": {},
   "outputs": [],
   "source": [
    "# Convert shapes layer to labels layer\n",
    "sdata = hp.im.rasterize(\n",
    "    sdata,\n",
    "    shapes_layer=\"segmentation_mask_boundaries_redo\",\n",
    "    output_layer=\"segmentation_mask_redo\",\n",
    "    chunks=5000,\n",
    "    overwrite=True,\n",
    ")"
   ]
  },
  {
   "cell_type": "markdown",
   "metadata": {},
   "source": [
    "<b>Excercise</b>:\n",
    "\n",
    "- Are the labels layers `segmentation_mask` and `segmentation_mask_redo` equal? Do you expect them to be equal?\n",
    "\n",
    "<details>\n",
    "<summary>Click to reveal the solution</summary>\n",
    "\n",
    "```python\n",
    "import numpy as np\n",
    "\n",
    "pixels_not_equal = (~ np.equal(sdata.labels[\"segmentation_mask_redo\"].data.compute(), sdata.labels[\"segmentation_mask\"].data.compute())).sum() \n",
    "\n",
    "print(f\"After roundtrip vectorization and rasterization, {pixels_not_equal} pixels are not equal.\")\n",
    "\n",
    "print(len(da.unique(sdata.labels[\"segmentation_mask_redo\"].data).compute()))\n",
    "print(len(da.unique(sdata.labels[\"segmentation_mask\"].data).compute()))"
   ]
  },
  {
   "cell_type": "markdown",
   "metadata": {},
   "source": [
    "## 5. Coordinate systems\n",
    "\n",
    "All elements in a `SpatialData` object are assigned to one or more coordinate systems, which allows for storing multiple samples in the same `SpatialData` object.\n",
    "\n",
    "We refer to [this notebook](https://harpy.readthedocs.io/en/latest/tutorials/advanced/coordinate_systems.html) for more information"
   ]
  },
  {
   "cell_type": "code",
   "execution_count": null,
   "metadata": {},
   "outputs": [],
   "source": [
    "from spatialdata.transformations import get_transformation\n",
    "\n",
    "get_transformation(sdata.images[\"clahe\"], get_all=True)"
   ]
  },
  {
   "cell_type": "code",
   "execution_count": null,
   "metadata": {},
   "outputs": [],
   "source": [
    "get_transformation(sdata.points[\"transcripts\"], get_all=True)"
   ]
  }
 ],
 "metadata": {
  "kernelspec": {
   "display_name": "training_env",
   "language": "python",
   "name": "python3"
  },
  "language_info": {
   "codemirror_mode": {
    "name": "ipython",
    "version": 3
   },
   "file_extension": ".py",
   "mimetype": "text/x-python",
   "name": "python",
   "nbconvert_exporter": "python",
   "pygments_lexer": "ipython3",
   "version": "3.11.13"
  }
 },
 "nbformat": 4,
 "nbformat_minor": 2
}
