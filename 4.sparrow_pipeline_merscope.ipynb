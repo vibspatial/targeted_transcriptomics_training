{
 "cells": [
  {
   "cell_type": "code",
   "execution_count": null,
   "metadata": {},
   "outputs": [],
   "source": [
    "import sparrow as sp"
   ]
  },
  {
   "cell_type": "code",
   "execution_count": null,
   "metadata": {},
   "outputs": [],
   "source": [
    "import os\n",
    "import uuid\n",
    "import tempfile\n",
    "from sparrow.datasets.registry import get_registry\n",
    "\n",
    "registry = get_registry()  # on the cluster fetch the results in other path\n",
    "\n",
    "_ = registry.fetch(\"transcriptomics/vizgen/mouse/Liver1Slice1/images/mosaic_DAPI_z3.tif\")\n",
    "_ = registry.fetch(\"transcriptomics/vizgen/mouse/Liver1Slice1/images/mosaic_PolyT_z3.tif\")\n",
    "_ = registry.fetch(\"transcriptomics/vizgen/mouse/Liver1Slice1/images/micron_to_mosaic_pixel_transform.csv\")\n",
    "path_transcripts = registry.fetch(\"transcriptomics/vizgen/mouse/Liver1Slice1/detected_transcripts.csv\")\n",
    "\n",
    "input_path = os.path.dirname(path_transcripts)\n",
    "OUTPUT_DIR =  tempfile.gettempdir()\n",
    "\n",
    "# takes around 5m on mac M2\n",
    "sdata = sp.io.merscope(\n",
    "    path=input_path,\n",
    "    to_coordinate_system=\"global\",\n",
    "    z_layers=[\n",
    "        3,\n",
    "    ],\n",
    "    backend=None,\n",
    "    transcripts=True,\n",
    "    mosaic_images=True,\n",
    "    do_3D=False,\n",
    "    z_projection=False,\n",
    "    image_models_kwargs={\"scale_factors\": None},\n",
    "    output=os.path.join( OUTPUT_DIR, f\"sdata_merscope_{uuid.uuid4()}.zarr\"),\n",
    "    filter_gene_names=[ \"blank\" ]\n",
    ")"
   ]
  },
  {
   "cell_type": "code",
   "execution_count": null,
   "metadata": {},
   "outputs": [],
   "source": [
    "from spatialdata import read_zarr\n",
    "\n",
    "sdata=read_zarr(sdata.path)"
   ]
  },
  {
   "cell_type": "code",
   "execution_count": null,
   "metadata": {},
   "outputs": [],
   "source": [
    "sdata"
   ]
  },
  {
   "cell_type": "code",
   "execution_count": null,
   "metadata": {},
   "outputs": [],
   "source": [
    "sdata=sp.im.min_max_filtering(\n",
    "    sdata,\n",
    "    img_layer=\"mouse_Liver1Slice1_z3_global\",\n",
    "    output_layer=\"min_max_filtered\",\n",
    "    size_min_max_filter=[ 85, 135 ],\n",
    "    crd = [  20000, 25000, 20000, 25000 ],\n",
    "    overwrite=True,\n",
    "      )\n",
    "sdata=sp.im.enhance_contrast(\n",
    "    sdata,\n",
    "    img_layer=\"min_max_filtered\",\n",
    "    output_layer=\"clahe\",\n",
    "    contrast_clip=[13.5, 18.5 ],\n",
    "    crd = [  20000, 25000, 20000, 25000 ],\n",
    "    overwrite=True,\n",
    "      )"
   ]
  },
  {
   "cell_type": "code",
   "execution_count": null,
   "metadata": {},
   "outputs": [],
   "source": [
    "sp.pl.plot_shapes( sdata, img_layer=[\"mouse_Liver1Slice1_z3_global\", \"clahe\"], crd = [ 20000,25000,20000,25000 ], figsize=(10,10) )  # do some segmentation here. Test different settings on hpc"
   ]
  },
  {
   "cell_type": "code",
   "execution_count": null,
   "metadata": {},
   "outputs": [],
   "source": [
    "#from dask.distributed import Client, LocalCluster\n",
    "\n",
    "#cluster = LocalCluster(\n",
    "#    n_workers=8,\n",
    "#    threads_per_worker=1,\n",
    "#    processes=True,\n",
    "#    memory_limit=\"32GB\",\n",
    "#)\n",
    "\n",
    "#client = Client(cluster)\n",
    "\n",
    "#print(client.dashboard_link)"
   ]
  },
  {
   "cell_type": "code",
   "execution_count": null,
   "metadata": {},
   "outputs": [],
   "source": [
    "import torch\n",
    "from cellpose import models\n",
    "\n",
    "from sparrow.image import cellpose_callable\n",
    "\n",
    "from sparrow.image._image import _get_spatial_element\n",
    "\n",
    "if torch.backends.mps.is_available():\n",
    "    device = \"mps\"\n",
    "    gpu = True\n",
    "elif torch.cuda.is_available():\n",
    "    device = \"cuda\"\n",
    "    gpu = True\n",
    "else:\n",
    "    device = \"cpu\"\n",
    "    gpu = False\n",
    "\n",
    "model=models.CellposeModel( gpu=gpu, pretrained_model='cyto3', device = torch.device(device ) )\n",
    "\n",
    "#model = client.scatter(model) # pass a loaded model to _cellpose, but we scatter the model to avoid large task graph\n",
    "\n",
    "se = _get_spatial_element( sdata, layer = \"clahe\" )\n",
    "\n",
    "sdata = sp.im.segment(\n",
    "    sdata,\n",
    "    img_layer=\"clahe\",\n",
    "    chunks=2048,\n",
    "    depth=200,\n",
    "    model=cellpose_callable,\n",
    "    # parameters that will be passed to the callable _cellpose\n",
    "    pretrained_model = model,\n",
    "    diameter=100,\n",
    "    flow_threshold=0.85,\n",
    "    cellprob_threshold=-4,\n",
    "    channels = [ se.c.data.tolist().index(\"PolyT\" )+1  ,se.c.data.tolist().index(\"DAPI\" )+1 ],\n",
    "    output_labels_layer=\"segmentation_mask\",\n",
    "    output_shapes_layer=\"segmentation_mask_boundaries\",\n",
    "    crd= [20000, 25000, 20000, 25000],  # region to segment [x_min, xmax, y_min, y_max],\n",
    "    overwrite=True,\n",
    ")\n"
   ]
  },
  {
   "cell_type": "code",
   "execution_count": null,
   "metadata": {},
   "outputs": [],
   "source": [
    "sp.pl.plot_shapes( sdata, shapes_layer=\"segmentation_mask_boundaries\" , img_layer=[\"clahe\"], crd = [ 20000,25000,20000,25000 ], figsize=( 10,10 ) )"
   ]
  },
  {
   "cell_type": "code",
   "execution_count": null,
   "metadata": {},
   "outputs": [],
   "source": [
    "sdata = sp.tb.allocate(\n",
    "    sdata=sdata,\n",
    "    labels_layer=\"segmentation_mask\",\n",
    "    points_layer=\"transcripts_global\",\n",
    "    output_layer=\"table_transcriptomics\",\n",
    "    update_shapes_layers=False,\n",
    "    overwrite=True,\n",
    ")"
   ]
  },
  {
   "cell_type": "code",
   "execution_count": null,
   "metadata": {},
   "outputs": [],
   "source": [
    "sp.pl.sanity_plot_transcripts_matrix(\n",
    "    sdata,\n",
    "    img_layer=\"clahe\",\n",
    "    shapes_layer = \"segmentation_mask_boundaries\",\n",
    "    points_layer= \"transcripts_global\",\n",
    "    plot_cell_number=True,\n",
    "    gene=\"Vwf\",\n",
    "    crd = [ 20500, 20500+500, 21000, 21500 ],\n",
    "    figsize=(5,5),\n",
    ")"
   ]
  },
  {
   "cell_type": "code",
   "execution_count": null,
   "metadata": {},
   "outputs": [],
   "source": [
    "sp.pl.plot_shapes(\n",
    "    sdata,\n",
    "    img_layer=\"clahe\",\n",
    "    shapes_layer=\"segmentation_mask_boundaries\",\n",
    "    figsize=( 10,10 ),\n",
    "    crd = [  20000, 22000, 20000, 22000  ],\n",
    "    table_layer=\"table_transcriptomics\",\n",
    "    column = \"Vwf\",\n",
    "      )"
   ]
  },
  {
   "cell_type": "code",
   "execution_count": null,
   "metadata": {},
   "outputs": [],
   "source": [
    "df = sp.pl.analyse_genes_left_out(\n",
    "    sdata,\n",
    "    labels_layer=\"segmentation_mask\",\n",
    "    table_layer=\"table_transcriptomics\",\n",
    "    points_layer=\"transcripts_global\",\n",
    ")"
   ]
  },
  {
   "cell_type": "code",
   "execution_count": null,
   "metadata": {},
   "outputs": [],
   "source": [
    "# Perform preprocessing.\n",
    "sdata = sp.tb.preprocess_transcriptomics(\n",
    "    sdata,\n",
    "    labels_layer=\"segmentation_mask\",\n",
    "    table_layer=\"table_transcriptomics\",\n",
    "    output_layer=\"table_transcriptomics_preprocessed\",  # write results to a new slot, we could also write to the same slot (when passing overwrite==True).\n",
    "    min_counts=10,\n",
    "    min_cells=5,\n",
    "    size_norm=True,\n",
    "    n_comps=50,\n",
    "    overwrite=True,\n",
    "    update_shapes_layers=False,\n",
    ")"
   ]
  },
  {
   "cell_type": "code",
   "execution_count": null,
   "metadata": {},
   "outputs": [],
   "source": [
    "sdata[ \"table_transcriptomics_preprocessed\" ]"
   ]
  },
  {
   "cell_type": "code",
   "execution_count": null,
   "metadata": {},
   "outputs": [],
   "source": [
    "sp.pl.preprocess_transcriptomics(\n",
    "    sdata,\n",
    "    table_layer=\"table_transcriptomics_preprocessed\",\n",
    ")"
   ]
  },
  {
   "cell_type": "code",
   "execution_count": null,
   "metadata": {},
   "outputs": [],
   "source": [
    "sdata = sp.tb.filter_on_size(\n",
    "    sdata,\n",
    "    labels_layer=\"segmentation_mask\",\n",
    "    table_layer=\"table_transcriptomics_preprocessed\",\n",
    "    output_layer=\"table_transcriptomics_filter\",\n",
    "    min_size=500,\n",
    "    max_size=100000,\n",
    "    update_shapes_layers=False,\n",
    "    overwrite=True,\n",
    ")"
   ]
  },
  {
   "cell_type": "code",
   "execution_count": null,
   "metadata": {},
   "outputs": [],
   "source": [
    "import scanpy as sc\n",
    "\n",
    "sdata = sp.tb.leiden(\n",
    "    sdata,\n",
    "    labels_layer=\"segmentation_mask\",\n",
    "    table_layer=\"table_transcriptomics_filter\",\n",
    "    output_layer=\"table_transcriptomics_clustered\",\n",
    "    calculate_umap=True,\n",
    "    calculate_neighbors=True,\n",
    "    n_pcs=17,\n",
    "    n_neighbors=35,\n",
    "    resolution=1.0,\n",
    "    rank_genes=True,\n",
    "    key_added=\"leiden\",\n",
    "    overwrite=True,\n",
    ")\n",
    "\n",
    "sc.pl.umap(sdata.tables[\"table_transcriptomics_clustered\"], color=[\"leiden\"], show=True)\n",
    "sc.pl.rank_genes_groups(sdata.tables[\"table_transcriptomics_clustered\"], n_genes=8, sharey=False, show=True)"
   ]
  },
  {
   "cell_type": "code",
   "execution_count": null,
   "metadata": {},
   "outputs": [],
   "source": [
    "sp.pl.plot_shapes(\n",
    "    sdata,\n",
    "    img_layer=\"clahe\",\n",
    "    table_layer=\"table_transcriptomics_clustered\",\n",
    "    column=\"leiden\",\n",
    "    shapes_layer=\"segmentation_mask_boundaries\",\n",
    "    alpha=1,\n",
    "    linewidth=0,\n",
    "    channel=\"DAPI\",\n",
    "    crd = [ 20000,25000,20000,25000 ],\n",
    ")"
   ]
  }
 ],
 "metadata": {
  "kernelspec": {
   "display_name": "training_env",
   "language": "python",
   "name": "python3"
  },
  "language_info": {
   "codemirror_mode": {
    "name": "ipython",
    "version": 3
   },
   "file_extension": ".py",
   "mimetype": "text/x-python",
   "name": "python",
   "nbconvert_exporter": "python",
   "pygments_lexer": "ipython3",
   "version": "3.10.8"
  }
 },
 "nbformat": 4,
 "nbformat_minor": 2
}
