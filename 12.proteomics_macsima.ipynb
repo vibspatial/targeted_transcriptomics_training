{
 "cells": [
  {
   "cell_type": "code",
   "execution_count": null,
   "metadata": {},
   "outputs": [],
   "source": [
    "from spatialdata_io import macsima"
   ]
  },
  {
   "cell_type": "code",
   "execution_count": 4,
   "metadata": {},
   "outputs": [],
   "source": [
    "input_path =  \"/Users/arnedf/VIB/DATA/macsima_open_source/REAscreen_IO_CRC\"\n",
    "output_path = \"/Users/arnedf/VIB/DATA/macsima_open_source/output_dir\""
   ]
  },
  {
   "cell_type": "markdown",
   "metadata": {},
   "source": [
    "#### Read the data"
   ]
  },
  {
   "cell_type": "code",
   "execution_count": null,
   "metadata": {},
   "outputs": [],
   "source": [
    "sdata = macsima(\n",
    "    path = input_path,\n",
    "    split_threshold_nuclei_channel=1,\n",
    "    )"
   ]
  },
  {
   "cell_type": "code",
   "execution_count": null,
   "metadata": {},
   "outputs": [],
   "source": [
    "sdata.write( \"/Users/arnedf/VIB/DATA/macsima_open_source/output_dir/sdata.zarr\" )"
   ]
  },
  {
   "cell_type": "code",
   "execution_count": null,
   "metadata": {},
   "outputs": [],
   "source": [
    "from spatialdata import read_zarr\n",
    "\n",
    "sdata = read_zarr( \"/Users/arnedf/VIB/DATA/macsima_open_source/output_dir/sdata.zarr\" )"
   ]
  },
  {
   "cell_type": "markdown",
   "metadata": {},
   "source": [
    "Add a pixel coordinate system ('global')."
   ]
  },
  {
   "cell_type": "code",
   "execution_count": 8,
   "metadata": {},
   "outputs": [],
   "source": [
    "from spatialdata.transformations import Identity\n",
    "from spatialdata.transformations import get_transformation, set_transformation\n",
    "\n",
    "transformations=get_transformation( sdata[ \"REAscreen_IO_CRC_image\" ], get_all=True )\n",
    "transformations[ \"global\" ] = Identity()\n",
    "set_transformation( sdata[ \"REAscreen_IO_CRC_image\" ], transformation=transformations, set_all=True, write_to_sdata=sdata )\n",
    "\n",
    "transformations=get_transformation( sdata[ \"REAscreen_IO_CRC_nuclei_image\" ], get_all=True )\n",
    "transformations[ \"global\" ] = Identity()\n",
    "set_transformation( sdata[ \"REAscreen_IO_CRC_nuclei_image\" ], transformation=transformations, set_all=True, write_to_sdata=sdata )"
   ]
  },
  {
   "cell_type": "code",
   "execution_count": null,
   "metadata": {},
   "outputs": [],
   "source": [
    "get_transformation(\n",
    "    sdata[ \"REAscreen_IO_CRC_image\" ],\n",
    "    get_all=True,\n",
    "      )"
   ]
  },
  {
   "cell_type": "code",
   "execution_count": null,
   "metadata": {},
   "outputs": [],
   "source": [
    "sdata"
   ]
  },
  {
   "cell_type": "code",
   "execution_count": null,
   "metadata": {},
   "outputs": [],
   "source": [
    "from napari_spatialdata import Interactive\n",
    "\n",
    "Interactive( sdata )"
   ]
  },
  {
   "cell_type": "code",
   "execution_count": null,
   "metadata": {},
   "outputs": [],
   "source": [
    "channels = sdata[ \"REAscreen_IO_CRC_image\" ][ \"scale0\" ][ \"image\" ].c.data\n",
    "channels"
   ]
  },
  {
   "cell_type": "code",
   "execution_count": null,
   "metadata": {},
   "outputs": [],
   "source": [
    "import spatialdata_plot\n",
    "\n",
    "ax=sdata.pl.render_images(\n",
    "    \"REAscreen_IO_CRC_image\",\n",
    "    channel=\"DAPI (1)\",\n",
    "    cmap=\"grey\",\n",
    "    scale=\"scale4\",\n",
    "    norm=None,\n",
    "      ).pl.show(\n",
    "          coordinate_systems=\"global\",\n",
    "          figsize=( 6,6 ), dpi=100, colorbar=False,\n",
    "            )"
   ]
  },
  {
   "cell_type": "code",
   "execution_count": null,
   "metadata": {},
   "outputs": [],
   "source": [
    "from matplotlib.colors import Normalize\n",
    "\n",
    "vmax = 500\n",
    "vmin = 0\n",
    "\n",
    "norm = Normalize(vmax=vmax, vmin=vmin, clip=True)\n",
    "\n",
    "ax=sdata.pl.render_images(\n",
    "    \"REAscreen_IO_CRC_image\",\n",
    "    channel=\"CD45\",\n",
    "    cmap=\"grey\",\n",
    "    scale=\"scale4\",\n",
    "    norm=norm,\n",
    "      ).pl.show(\n",
    "          coordinate_systems=\"global\",\n",
    "          figsize=( 6,6 ), dpi=100, colorbar=False,\n",
    "            )"
   ]
  },
  {
   "cell_type": "code",
   "execution_count": null,
   "metadata": {},
   "outputs": [],
   "source": [
    "from matplotlib.colors import Normalize\n",
    "\n",
    "vmax = 500\n",
    "vmin = 0\n",
    "\n",
    "norm = Normalize(vmax=vmax, vmin=vmin, clip=True)\n",
    "\n",
    "ax=sdata.pl.render_images(\n",
    "    \"REAscreen_IO_CRC_image\",\n",
    "    channel=\"CD15\",\n",
    "    cmap=\"grey\",\n",
    "    scale=\"scale4\",\n",
    "    norm=norm,\n",
    "      ).pl.show(\n",
    "          coordinate_systems=\"global\",\n",
    "          figsize=( 6,6 ), dpi=100, colorbar=False,\n",
    "            )"
   ]
  },
  {
   "cell_type": "code",
   "execution_count": null,
   "metadata": {},
   "outputs": [],
   "source": [
    "from matplotlib.colors import Normalize\n",
    "\n",
    "vmax = 500\n",
    "vmin = 0\n",
    "\n",
    "norm = Normalize(vmax=vmax, vmin=vmin, clip=True)\n",
    "\n",
    "ax=sdata.pl.render_images(\n",
    "    \"REAscreen_IO_CRC_image\",\n",
    "    channel=\"CD66\",\n",
    "    cmap=\"grey\",\n",
    "    scale=\"scale4\",\n",
    "    norm=norm,\n",
    "      ).pl.show(\n",
    "          coordinate_systems=\"global\",\n",
    "          figsize=( 6,6 ), dpi=100, colorbar=False,\n",
    "            )"
   ]
  },
  {
   "cell_type": "code",
   "execution_count": null,
   "metadata": {},
   "outputs": [],
   "source": [
    "from matplotlib.colors import Normalize\n",
    "\n",
    "vmax = 500\n",
    "vmin = 0\n",
    "\n",
    "norm = Normalize(vmax=vmax, vmin=vmin, clip=True)\n",
    "\n",
    "ax=sdata.pl.render_images(\n",
    "    \"REAscreen_IO_CRC_image\",\n",
    "    channel=\"CD45RB\",\n",
    "    cmap=\"grey\",\n",
    "    scale=\"scale4\",\n",
    "    norm=norm,\n",
    "      ).pl.show(\n",
    "          coordinate_systems=\"global\",\n",
    "          figsize=( 6,6 ), dpi=100, colorbar=False,\n",
    "            )"
   ]
  },
  {
   "cell_type": "code",
   "execution_count": null,
   "metadata": {},
   "outputs": [],
   "source": [
    "from matplotlib.colors import Normalize\n",
    "\n",
    "vmax = 500\n",
    "vmin = 0\n",
    "\n",
    "norm = Normalize(vmax=vmax, vmin=vmin, clip=True)\n",
    "\n",
    "ax=sdata.pl.render_images(\n",
    "    \"REAscreen_IO_CRC_image\",\n",
    "    channel=\"CD4\",\n",
    "    cmap=\"grey\",\n",
    "    scale=\"scale4\",\n",
    "    norm=norm,\n",
    "      ).pl.show(\n",
    "          coordinate_systems=\"global\",\n",
    "          figsize=( 6,6 ), dpi=100, colorbar=False,\n",
    "            )"
   ]
  },
  {
   "cell_type": "code",
   "execution_count": null,
   "metadata": {},
   "outputs": [],
   "source": [
    "from matplotlib.colors import Normalize\n",
    "\n",
    "vmax = 500\n",
    "vmin = 0\n",
    "\n",
    "norm = Normalize(vmax=vmax, vmin=vmin, clip=True)\n",
    "\n",
    "ax=sdata.pl.render_images(\n",
    "    \"REAscreen_IO_CRC_image\",\n",
    "    channel=\"CD31\",\n",
    "    cmap=\"grey\",\n",
    "    scale=\"scale4\",\n",
    "    norm=norm,\n",
    "      ).pl.show(\n",
    "          coordinate_systems=\"global\",\n",
    "          figsize=( 6,6 ), dpi=100, colorbar=True,\n",
    "            )"
   ]
  },
  {
   "cell_type": "markdown",
   "metadata": {},
   "source": [
    "List all channels."
   ]
  },
  {
   "cell_type": "code",
   "execution_count": null,
   "metadata": {},
   "outputs": [],
   "source": [
    "sdata[ \"REAscreen_IO_CRC_image\" ][ \"scale0\" ][ \"image\" ].c.data"
   ]
  },
  {
   "cell_type": "code",
   "execution_count": 97,
   "metadata": {},
   "outputs": [],
   "source": [
    "# do segmentation,\n",
    "# i.e. subset the channels,\n",
    "# and then start segmentation..."
   ]
  },
  {
   "cell_type": "code",
   "execution_count": null,
   "metadata": {},
   "outputs": [],
   "source": [
    "labels = [ \"DAPI (1)\", \"CD15\", \"CD45RB\", \"CD4\", \"CD31\" ]\n",
    "\n",
    "array_channels = sdata[ \"REAscreen_IO_CRC_image\" ][ \"scale0\" ][ \"image\" ].c.data\n",
    "label_to_index = {label: idx for idx, label in enumerate(array_channels)}\n",
    "indices = [label_to_index[label] for label in labels]\n",
    "indices"
   ]
  },
  {
   "cell_type": "code",
   "execution_count": null,
   "metadata": {},
   "outputs": [],
   "source": [
    "import harpy as hp\n",
    "\n",
    "from spatialdata.transformations import get_transformation\n",
    "\n",
    "transformations = get_transformation( sdata[ \"REAscreen_IO_CRC_image\" ], get_all=True )\n",
    "\n",
    "sdata = hp.im.add_image_layer(\n",
    "    sdata,\n",
    "    arr = sdata[ \"REAscreen_IO_CRC_image\" ][\"scale0\"][\"image\"].data[ indices ],\n",
    "    output_layer = \"REAscreen_IO_CRC_image_subset\",\n",
    "    transformations=transformations,\n",
    "    c_coords = labels,\n",
    "    overwrite=True,\n",
    ")"
   ]
  },
  {
   "cell_type": "code",
   "execution_count": null,
   "metadata": {},
   "outputs": [],
   "source": [
    "sdata[  \"REAscreen_IO_CRC_image_subset\" ]"
   ]
  },
  {
   "cell_type": "code",
   "execution_count": null,
   "metadata": {},
   "outputs": [],
   "source": [
    "import os\n",
    "import requests\n",
    "import zipfile\n",
    "import tempfile\n",
    "\n",
    "OUTPUT_DIR =  tempfile.gettempdir()\n",
    "\n",
    "def download_and_unzip(url, extract_to):\n",
    "    try:\n",
    "        os.makedirs(extract_to, exist_ok=False)\n",
    "    except FileExistsError:\n",
    "        print(\"Model already downloaded.\")\n",
    "        return\n",
    "    local_zip_path = os.path.join(extract_to, 'downloaded.zip')\n",
    "    print(\"Downloading...\")\n",
    "    response = requests.get(url, stream=True)\n",
    "    response.raise_for_status()\n",
    "\n",
    "    with open(local_zip_path, 'wb') as f:\n",
    "        for chunk in response.iter_content(chunk_size=8192):\n",
    "            f.write(chunk)\n",
    "\n",
    "    print(\"Unzipping...\")\n",
    "    with zipfile.ZipFile(local_zip_path, 'r') as zip_ref:\n",
    "        zip_ref.extractall(extract_to)\n",
    "    os.remove(local_zip_path)\n",
    "    print(f\"Done! Files extracted to: {extract_to}\")\n",
    "\n",
    "url = \"https://github.com/instanseg/instanseg/releases/download/instanseg_models_v0.1.0/fluorescence_nuclei_and_cells.zip\"\n",
    "target_path = os.path.join(OUTPUT_DIR, \"fluorescence_nuclei_and_cells\" )\n",
    "download_and_unzip(url, target_path)"
   ]
  },
  {
   "cell_type": "code",
   "execution_count": null,
   "metadata": {},
   "outputs": [],
   "source": [
    "from dask.distributed import Client, LocalCluster\n",
    "\n",
    "# # Create a local Dask cluster\n",
    "cluster = LocalCluster(\n",
    "     n_workers=4,              # Number of worker processes. Possible to increase to more workers, depending on available memory/cores\n",
    "     threads_per_worker=1,    # Number of threads per worker\n",
    "     memory_limit=\"32GB\",      # Memory limit per worker\n",
    " )\n",
    "\n",
    "# # Connect a Client to the cluster\n",
    "client = Client(cluster)\n",
    "\n",
    "# # Print the Dask dashboard link\n",
    "print(client.dashboard_link)"
   ]
  },
  {
   "cell_type": "code",
   "execution_count": null,
   "metadata": {},
   "outputs": [],
   "source": [
    "import harpy as hp\n",
    "import os\n",
    "\n",
    "import torch\n",
    "from instanseg import InstanSeg\n",
    "\n",
    "# takes approx 6 minutes on macOS\n",
    "\n",
    "path_model = os.path.join( target_path, \"instanseg.pt\" )\n",
    "\n",
    "instanseg_fluorescence = torch.load( path_model, weights_only=False )\n",
    "instanseg_fluorescence = InstanSeg( model_type=instanseg_fluorescence, device=\"cpu\" )\n",
    "\n",
    "crd_segment = [ 0, 2000, 6000, 8000 ]\n",
    "\n",
    "sdata = hp.im.segment(\n",
    "    sdata,\n",
    "    img_layer=\"REAscreen_IO_CRC_image_subset\",\n",
    "    output_labels_layer=[\"labels_cells_instanseg\"],\n",
    "    output_shapes_layer=[\"shapes_cells_instanseg\"],\n",
    "    labels_layer_align=None,\n",
    "    depth=50,\n",
    "    model=hp.im.instanseg_callable,\n",
    "    # parameters passed to hp.im.instanseg_callable\n",
    "    output=\"cells\",\n",
    "    device=\"cpu\",\n",
    "    instanseg_model=path_model,  # load it in every worker, because torchscript model is not serializable\n",
    "    iou=True,\n",
    "    trim=False,\n",
    "    crd=crd_segment,\n",
    "    to_coordinate_system=\"global\",\n",
    "    overwrite=True,\n",
    ")\n",
    "\n",
    "client.close()"
   ]
  },
  {
   "cell_type": "code",
   "execution_count": null,
   "metadata": {},
   "outputs": [],
   "source": [
    "hp.pl.plot_shapes(\n",
    "    sdata,\n",
    "    img_layer = \"REAscreen_IO_CRC_image_subset\",\n",
    "    shapes_layer = \"shapes_cells_instanseg\",\n",
    "    crd = crd_segment,\n",
    "    figsize = ( 6*5,6*5 ),\n",
    "    to_coordinate_system=\"global\",\n",
    "      )"
   ]
  },
  {
   "cell_type": "code",
   "execution_count": null,
   "metadata": {},
   "outputs": [],
   "source": [
    "# we want to extract all channels\n",
    "from spatialdata.transformations import get_transformation\n",
    "from spatialdata.transformations import Translation\n",
    "\n",
    "if crd_segment is not None:\n",
    "\n",
    "    transformations = get_transformation( sdata[ \"REAscreen_IO_CRC_image\" ], get_all=True )\n",
    "    y_translation=transformations[ \"global\" ].to_affine_matrix( input_axes=(\"y\", \"x\" ), output_axes=( \"y\", \"x\" ) )[ 0, 2 ]\n",
    "    x_translation=transformations[ \"global\" ].to_affine_matrix( input_axes=(\"y\", \"x\" ), output_axes=( \"y\", \"x\" ) )[ 1, 2 ]\n",
    "    \n",
    "    array=sdata[ \"REAscreen_IO_CRC_image\" ][ \"scale0\" ][ \"image\" ].data[ :, crd_segment[ 2 ]-y_translation: crd_segment[3]-y_translation, crd_segment[0]-x_translation: crd_segment[1]-x_translation ]\n",
    "    \n",
    "    sdata = hp.im.add_image_layer(\n",
    "        sdata,\n",
    "        arr=array.rechunk( 2048 ),\n",
    "        output_layer=\"REAscreen_IO_CRC_image_crop\",\n",
    "        transformations={ \"global\": Translation( axes = ( \"y\", \"x\" ), translation=[ crd_segment[2], crd_segment[0] ] ) },\n",
    "        c_coords=sdata[ \"REAscreen_IO_CRC_image\" ][ \"scale0\" ][\"image\"].c.data,\n",
    "        overwrite=True,\n",
    "     )"
   ]
  },
  {
   "cell_type": "code",
   "execution_count": null,
   "metadata": {},
   "outputs": [],
   "source": [
    "from napari_spatialdata import Interactive\n",
    "\n",
    "Interactive( sdata )"
   ]
  },
  {
   "cell_type": "code",
   "execution_count": null,
   "metadata": {},
   "outputs": [],
   "source": [
    "sdata = hp.tb.allocate_intensity( \n",
    "    sdata,\n",
    "    img_layer= \"REAscreen_IO_CRC_image_crop\",\n",
    "    labels_layer=\"labels_cells_instanseg\",\n",
    "    output_layer=\"table_intensities\",\n",
    "    channels=channels,\n",
    "    mode= \"sum\",\n",
    "    to_coordinate_system=\"global\",\n",
    "    overwrite=True,\n",
    "        )"
   ]
  },
  {
   "cell_type": "code",
   "execution_count": null,
   "metadata": {},
   "outputs": [],
   "source": [
    "sdata[ \"table_intensities\" ]"
   ]
  },
  {
   "cell_type": "code",
   "execution_count": null,
   "metadata": {},
   "outputs": [],
   "source": [
    "sdata[ \"table_intensities\" ].obs.head()"
   ]
  },
  {
   "cell_type": "code",
   "execution_count": null,
   "metadata": {},
   "outputs": [],
   "source": [
    "sdata=hp.tb.preprocess_proteomics(\n",
    "    sdata,\n",
    "    labels_layer=\"labels_cells_instanseg\",\n",
    "    table_layer=\"table_intensities\",\n",
    "    output_layer=\"table_intensities_prepocessed\",\n",
    "    size_norm=True,\n",
    "    overwrite=True,\n",
    "      )"
   ]
  },
  {
   "cell_type": "code",
   "execution_count": null,
   "metadata": {},
   "outputs": [],
   "source": [
    "import scanpy as sc\n",
    "\n",
    "# Leiden clustering\n",
    "sdata = hp.tb.leiden(\n",
    "    sdata,\n",
    "    labels_layer=\"labels_cells_instanseg\",\n",
    "    table_layer=\"table_intensities_prepocessed\",\n",
    "    output_layer=\"table_intensities_leiden\",\n",
    "    calculate_umap=True,\n",
    "    calculate_neighbors=True,\n",
    "    n_pcs=17, # The number of principal components to use when calculating neighbors.\n",
    "    n_neighbors=35, # The number of neighbors to consider when calculating neighbors.\n",
    "    resolution=0.4,\n",
    "    rank_genes=True,\n",
    "    key_added=\"leiden\",\n",
    "    overwrite=True,\n",
    ")\n",
    "\n",
    "# Plot UMAP\n",
    "sc.pl.umap(sdata.tables[\"table_intensities_leiden\"], color=[\"leiden\"], show=True)\n",
    "\n",
    "sc.pl.rank_genes_groups(\n",
    "    sdata.tables[\"table_intensities_leiden\"],\n",
    "    n_genes=8,\n",
    "    sharey=False,\n",
    "    show=True,\n",
    "    )"
   ]
  },
  {
   "cell_type": "code",
   "execution_count": null,
   "metadata": {},
   "outputs": [],
   "source": [
    "hp.pl.plot_shapes( \n",
    "    sdata,\n",
    "    img_layer=\"REAscreen_IO_CRC_image_crop\",\n",
    "    table_layer=\"table_intensities_leiden\",\n",
    "    shapes_layer=\"shapes_cells_instanseg\",\n",
    "    column=\"leiden\",\n",
    "    channel=\"DAPI (1)\",\n",
    "    linewidth=0.2,\n",
    "    alpha=0.7,\n",
    "    figsize=( 8,8 ),\n",
    "    to_coordinate_system=\"global\",\n",
    " )"
   ]
  },
  {
   "cell_type": "code",
   "execution_count": null,
   "metadata": {},
   "outputs": [],
   "source": [
    "hp.pl.plot_shapes( \n",
    "    sdata,\n",
    "    img_layer=\"REAscreen_IO_CRC_image_crop\",\n",
    "    table_layer=\"table_intensities_leiden\",\n",
    "    shapes_layer=\"shapes_cells_instanseg\",\n",
    "    column=\"leiden\",\n",
    "    channel=\"CD44\",\n",
    "    linewidth=0.2,\n",
    "    alpha=0.7,\n",
    "    figsize=( 8,8 ),\n",
    "    to_coordinate_system=\"global\",\n",
    " )"
   ]
  },
  {
   "cell_type": "markdown",
   "metadata": {},
   "source": [
    "#### FlowSOM clustering"
   ]
  },
  {
   "cell_type": "markdown",
   "metadata": {},
   "source": [
    "First we create a crop."
   ]
  },
  {
   "cell_type": "code",
   "execution_count": null,
   "metadata": {},
   "outputs": [],
   "source": [
    "sdata[ \"REAscreen_IO_CRC_image_crop\"]"
   ]
  },
  {
   "cell_type": "code",
   "execution_count": null,
   "metadata": {},
   "outputs": [],
   "source": [
    "from spatialdata import read_zarr\n",
    "\n",
    "sdata=read_zarr( sdata.path )"
   ]
  },
  {
   "cell_type": "code",
   "execution_count": null,
   "metadata": {},
   "outputs": [],
   "source": [
    "from spatialdata import bounding_box_query\n",
    "\n",
    "se=bounding_box_query(\n",
    "    sdata[ \"REAscreen_IO_CRC_image\" ],\n",
    "    axes = ( \"y\", \"x\" ),\n",
    "    min_coordinate=[ 5000, 0 ],\n",
    "    max_coordinate=[ 10000, 5000 ],\n",
    "    target_coordinate_system = \"global\",\n",
    "        )\n",
    "\n",
    "sdata[ \"REAscreen_IO_CRC_image_flowsom_crop\" ] = se\n",
    "sdata.write_element(\n",
    "    \"REAscreen_IO_CRC_image_flowsom_crop\", overwrite=True\n",
    "      )"
   ]
  },
  {
   "cell_type": "markdown",
   "metadata": {},
   "source": [
    "#### Preprocessing before flowsom clustering."
   ]
  },
  {
   "cell_type": "code",
   "execution_count": null,
   "metadata": {},
   "outputs": [],
   "source": [
    "import numpy as np\n",
    "\n",
    "channels = sdata[ \"REAscreen_IO_CRC_image_flowsom_crop\" ][ \"scale0\" ][ \"image\" ].c.data\n",
    "dapi_channels = [\"DAPI (1)\", \"DAPI (2)\"]\n",
    "channels = channels[ ~np.isin( channels, dapi_channels ) ]  # DAPI 1 and 2 should be removed.\n",
    "channels"
   ]
  },
  {
   "cell_type": "code",
   "execution_count": null,
   "metadata": {},
   "outputs": [],
   "source": [
    "sdata = hp.im.pixel_clustering_preprocess(\n",
    "    sdata,\n",
    "    img_layer=\"REAscreen_IO_CRC_image_flowsom_crop\",\n",
    "    output_layer=\"REAscreen_IO_CRC_image_flowsom_preprocessed\",\n",
    "    channels=channels,\n",
    "    cap_max=1,\n",
    "    overwrite=True,\n",
    " )"
   ]
  },
  {
   "cell_type": "code",
   "execution_count": null,
   "metadata": {},
   "outputs": [],
   "source": [
    "channel = \"CD4\"\n",
    "\n",
    "hp.pl.histogram(\n",
    "    sdata,\n",
    "    img_layer=\"REAscreen_IO_CRC_image_flowsom_crop\",\n",
    "    channel=channel,\n",
    "    bins=100,\n",
    "    fig_kwargs={\n",
    "        \"figsize\": (4, 4),\n",
    "    },\n",
    ")\n",
    "\n",
    "# smoothing is applied\n",
    "\n",
    "hp.pl.histogram(\n",
    "    sdata,\n",
    "    img_layer=\"REAscreen_IO_CRC_image_flowsom_preprocessed\",\n",
    "    channel=channel,\n",
    "    bins=100,\n",
    "    fig_kwargs={\n",
    "        \"figsize\": (4, 4),\n",
    "    },\n",
    ")"
   ]
  },
  {
   "cell_type": "code",
   "execution_count": null,
   "metadata": {},
   "outputs": [],
   "source": [
    "import flowsom as fs\n",
    "from dask.distributed import Client, LocalCluster\n",
    "\n",
    "work_with_client = False\n",
    "\n",
    "if work_with_client:\n",
    "    # client example\n",
    "    cluster = LocalCluster(\n",
    "        n_workers=1,\n",
    "        threads_per_worker=10,\n",
    "    )\n",
    "\n",
    "    client = Client(cluster)\n",
    "else:\n",
    "    client = None\n",
    "\n",
    "batch_model = fs.models.BatchFlowSOMEstimator\n",
    "\n",
    "# takes 3 min on mac\n",
    "sdata, fsom, mapping = hp.im.flowsom(\n",
    "    sdata,\n",
    "    img_layer=[\"REAscreen_IO_CRC_image_flowsom_preprocessed\"],\n",
    "    output_layer_clusters=[\n",
    "        \"flowsom_clusters\",\n",
    "    ],  # we need output_cluster_layer and output_meta_cluster_layer --> these will both be labels layers\n",
    "    output_layer_metaclusters=[\n",
    "        \"flowsom_metaclusters\",\n",
    "    ],\n",
    "    n_clusters=20,\n",
    "    random_state=111,\n",
    "    chunks=512,\n",
    "    client=client,\n",
    "    model=batch_model,\n",
    "    num_batches=10,\n",
    "    xdim=10,\n",
    "    ydim=10,\n",
    "    z_score=False,\n",
    "    z_cap=3,\n",
    "    persist_intermediate=True,\n",
    "    overwrite=True,\n",
    ")"
   ]
  },
  {
   "cell_type": "code",
   "execution_count": null,
   "metadata": {},
   "outputs": [],
   "source": [
    "sdata = hp.tb.cluster_intensity(\n",
    "    sdata,\n",
    "    mapping=mapping,\n",
    "    img_layer=[\"REAscreen_IO_CRC_image_flowsom_preprocessed\"],\n",
    "    labels_layer=[\"flowsom_clusters\"],\n",
    "    to_coordinate_system=[\"global\"],\n",
    "    output_layer=\"counts_clusters\",\n",
    "    overwrite=True,\n",
    ")"
   ]
  },
  {
   "cell_type": "code",
   "execution_count": null,
   "metadata": {},
   "outputs": [],
   "source": [
    "from spatialdata import read_zarr\n",
    "\n",
    "hp.pl.pixel_clusters(\n",
    "    sdata,\n",
    "    labels_layer=\"flowsom_clusters\",\n",
    "    figsize=(10, 10),\n",
    "    to_coordinate_system=\"global\",\n",
    "    render_labels_kwargs={\"alpha\": 1, \"to_coordinate_system\": \"global\"  },\n",
    "    coordinate_systems=\"global\", # passed to .pl.show()\n",
    ")\n",
    "\n",
    "hp.pl.pixel_clusters(\n",
    "    sdata,\n",
    "    labels_layer=\"flowsom_metaclusters\",\n",
    "    figsize=(10, 10),\n",
    "    to_coordinate_system=\"global\",\n",
    "    render_labels_kwargs={\"alpha\": 1},\n",
    "    coordinate_systems=\"global\", # passed to .pl.show()\n",
    ")"
   ]
  },
  {
   "cell_type": "code",
   "execution_count": null,
   "metadata": {},
   "outputs": [],
   "source": [
    "for _metaclusters in [True, False]:\n",
    "    hp.pl.pixel_clusters_heatmap(\n",
    "        sdata,\n",
    "        table_layer=\"counts_clusters\",\n",
    "        figsize=(40, 16),\n",
    "        fig_kwargs={\"dpi\": 300},\n",
    "        linewidths=0.001,\n",
    "        metaclusters=_metaclusters,\n",
    "        z_score=True,\n",
    "    )"
   ]
  },
  {
   "cell_type": "code",
   "execution_count": null,
   "metadata": {},
   "outputs": [],
   "source": [
    "# cluster 2 -> Actin, Calponin\n",
    "# cluster 3 -> CD3, CD20, CD45RA\n",
    "# cluster 20 -> CD45RA, Cytokeratin14, Cytokeratin5, CytokeratinHMW\n",
    "# cluster 16 -> Cytokeratin8, Cytokeratin20"
   ]
  },
  {
   "cell_type": "code",
   "execution_count": null,
   "metadata": {},
   "outputs": [],
   "source": [
    "from napari_spatialdata import Interactive\n",
    "\n",
    "Interactive( sdata )"
   ]
  },
  {
   "cell_type": "code",
   "execution_count": null,
   "metadata": {},
   "outputs": [],
   "source": []
  },
  {
   "cell_type": "code",
   "execution_count": null,
   "metadata": {},
   "outputs": [],
   "source": []
  },
  {
   "cell_type": "code",
   "execution_count": null,
   "metadata": {},
   "outputs": [],
   "source": []
  }
 ],
 "metadata": {
  "kernelspec": {
   "display_name": "training_env_14_4_25",
   "language": "python",
   "name": "python3"
  },
  "language_info": {
   "codemirror_mode": {
    "name": "ipython",
    "version": 3
   },
   "file_extension": ".py",
   "mimetype": "text/x-python",
   "name": "python",
   "nbconvert_exporter": "python",
   "pygments_lexer": "ipython3",
   "version": "3.11.12"
  }
 },
 "nbformat": 4,
 "nbformat_minor": 2
}
