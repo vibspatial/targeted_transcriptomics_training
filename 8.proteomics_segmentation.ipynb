{
 "cells": [
  {
   "cell_type": "code",
   "execution_count": 1,
   "metadata": {},
   "outputs": [],
   "source": [
    "%load_ext autoreload\n",
    "%autoreload 2"
   ]
  },
  {
   "cell_type": "code",
   "execution_count": null,
   "metadata": {},
   "outputs": [],
   "source": [
    "import harpy as hp"
   ]
  },
  {
   "cell_type": "markdown",
   "metadata": {},
   "source": [
    "#### Download the data"
   ]
  },
  {
   "cell_type": "code",
   "execution_count": 3,
   "metadata": {},
   "outputs": [],
   "source": [
    "from training_datasets import sdata_vectra\n",
    "\n",
    "path = None\n",
    "#path = \"/staging/leuven/stg_00143/spatial_data_training\"\n",
    "\n",
    "sdata = sdata_vectra(path=path, output=None) # on Windows, set path (e.g. to r\"c:\\tmp\")"
   ]
  },
  {
   "cell_type": "markdown",
   "metadata": {},
   "source": [
    "#### Create SpatialData object"
   ]
  },
  {
   "cell_type": "code",
   "execution_count": null,
   "metadata": {},
   "outputs": [],
   "source": [
    "import os\n",
    "import tempfile\n",
    "\n",
    "OUTPUT_DIR =  tempfile.gettempdir()\n",
    "#OUTPUT_DIR = \"/staging/leuven/stg_00143/spatial_data_training/output_dir\"\n",
    "\n",
    "sdata.write( os.path.join( OUTPUT_DIR, \"sdata_vectra.zarr\"), overwrite=True )\n",
    "\n",
    "# good practice to rechunk on disk\n",
    "sdata=hp.im.add_image_layer(\n",
    "    sdata,\n",
    "    arr=sdata[ \"image\" ].data.rechunk( 500 ),\n",
    "    output_layer=\"image\",\n",
    "    overwrite=True,\n",
    "      )"
   ]
  },
  {
   "cell_type": "code",
   "execution_count": null,
   "metadata": {},
   "outputs": [],
   "source": [
    "sdata.is_backed()"
   ]
  },
  {
   "cell_type": "markdown",
   "metadata": {},
   "source": [
    "#### Visualize"
   ]
  },
  {
   "cell_type": "code",
   "execution_count": null,
   "metadata": {},
   "outputs": [],
   "source": [
    "hp.pl.plot_shapes(\n",
    "    sdata,\n",
    "    img_layer=\"image\",\n",
    "    figsize=( 8*3,8*3 ),\n",
    "    channel=None,\n",
    "      )"
   ]
  },
  {
   "cell_type": "markdown",
   "metadata": {},
   "source": [
    "Plot histogram"
   ]
  },
  {
   "cell_type": "code",
   "execution_count": null,
   "metadata": {},
   "outputs": [],
   "source": [
    "import matplotlib.ticker as ticker\n",
    "\n",
    "ax=hp.pl.histogram(\n",
    "    sdata,\n",
    "    img_layer=\"image\",\n",
    "    channel=0,\n",
    "    bins=100,\n",
    "    fig_kwargs={ \"figsize\":(3,3,) },\n",
    "    )\n",
    "\n",
    "ax.yaxis.set_major_formatter(ticker.ScalarFormatter(useMathText=True))\n",
    "ax.ticklabel_format(axis='y', style='sci', scilimits=(0, 0))\n"
   ]
  },
  {
   "cell_type": "markdown",
   "metadata": {},
   "source": [
    "#### Segment using InstanSeg."
   ]
  },
  {
   "cell_type": "markdown",
   "metadata": {},
   "source": [
    "Download an `instanseg` model.\n",
    "\n",
    "Make sure to install `instanseg`:\n",
    "\n",
    "`pip install git+https://github.com/instanseg/instanseg.git@main`"
   ]
  },
  {
   "cell_type": "code",
   "execution_count": null,
   "metadata": {},
   "outputs": [],
   "source": [
    "import os\n",
    "import requests\n",
    "import zipfile\n",
    "\n",
    "def download_and_unzip(url, extract_to):\n",
    "    try:\n",
    "        os.makedirs(extract_to, exist_ok=False)\n",
    "    except FileExistsError:\n",
    "        print(\"Model already downloaded.\")\n",
    "        return\n",
    "    local_zip_path = os.path.join(extract_to, 'downloaded.zip')\n",
    "    print(\"Downloading...\")\n",
    "    response = requests.get(url, stream=True)\n",
    "    response.raise_for_status()\n",
    "\n",
    "    with open(local_zip_path, 'wb') as f:\n",
    "        for chunk in response.iter_content(chunk_size=8192):\n",
    "            f.write(chunk)\n",
    "\n",
    "    print(\"Unzipping...\")\n",
    "    with zipfile.ZipFile(local_zip_path, 'r') as zip_ref:\n",
    "        zip_ref.extractall(extract_to)\n",
    "    os.remove(local_zip_path)\n",
    "    print(f\"Done! Files extracted to: {extract_to}\")\n",
    "\n",
    "url = \"https://github.com/instanseg/instanseg/releases/download/instanseg_models_v0.1.0/fluorescence_nuclei_and_cells.zip\"\n",
    "target_path = os.path.join(OUTPUT_DIR, \"fluorescence_nuclei_and_cells\" )\n",
    "download_and_unzip(url, target_path)"
   ]
  },
  {
   "cell_type": "code",
   "execution_count": null,
   "metadata": {},
   "outputs": [],
   "source": [
    "import os\n",
    "\n",
    "import torch\n",
    "from instanseg import InstanSeg\n",
    "\n",
    "path_model = os.path.join( target_path, \"instanseg.pt\" )\n",
    "\n",
    "instanseg_fluorescence= torch.load( path_model, weights_only=False )\n",
    "instanseg_fluorescence=InstanSeg( model_type=instanseg_fluorescence, device=\"cpu\" )"
   ]
  },
  {
   "cell_type": "code",
   "execution_count": null,
   "metadata": {},
   "outputs": [],
   "source": [
    "from dask.distributed import Client, LocalCluster\n",
    "from instanseg import InstanSeg\n",
    "\n",
    "workers=4\n",
    "threads=1\n",
    "\n",
    "if workers is not None and threads is not None:\n",
    "    cluster = LocalCluster(\n",
    "        n_workers=workers,\n",
    "        threads_per_worker=threads,\n",
    "        memory_limit=\"500GB\",  # prevent spilling to disk\n",
    "    )\n",
    "\n",
    "    client = Client(cluster)\n",
    "\n",
    "print( client.dashboard_link )"
   ]
  },
  {
   "cell_type": "code",
   "execution_count": null,
   "metadata": {},
   "outputs": [],
   "source": [
    "sdata[ \"image\" ].data"
   ]
  },
  {
   "cell_type": "code",
   "execution_count": null,
   "metadata": {},
   "outputs": [],
   "source": [
    "import harpy as hp\n",
    "\n",
    "# takes 1m on mac m2\n",
    "\n",
    "sdata = hp.im.segment(\n",
    "    sdata,\n",
    "    img_layer=\"image\",\n",
    "    output_labels_layer=[\"labels_nuclei_instanseg\", \"labels_cells_instanseg\"],\n",
    "    output_shapes_layer=None,\n",
    "    labels_layer_align=\"labels_cells_instanseg\",\n",
    "    depth=50,\n",
    "    chunks=None,\n",
    "    model=hp.im.instanseg_callable,\n",
    "    # parameters passed to hp.im.instanseg_callable\n",
    "    output=\"all_outputs\",\n",
    "    device=\"cpu\",\n",
    "    instanseg_model=path_model,  # load it in every worker, because torchscript model is not serializable\n",
    "    iou=True,\n",
    "    trim=False,\n",
    "    overwrite=True,\n",
    ")"
   ]
  },
  {
   "cell_type": "code",
   "execution_count": null,
   "metadata": {},
   "outputs": [],
   "source": [
    "sdata_small = sdata.query.bounding_box(\n",
    "    min_coordinate=[200, 200], max_coordinate=[500, 500], axes=(\"x\", \"y\"), target_coordinate_system=\"global\"\n",
    ")\n",
    "sdata_small.pl.render_images(\"image\", channel=6).pl.render_labels(\"labels_cells_instanseg\", fill_alpha=0.5 ).pl.show( title=\"cells\" )\n",
    "sdata_small.pl.render_images(\"image\", channel=6).pl.render_labels(\"labels_nuclei_instanseg\", fill_alpha=0.5  ).pl.show( title=\"nuclei\" ) # although colors are different, labels are aligned."
   ]
  },
  {
   "cell_type": "markdown",
   "metadata": {},
   "source": [
    "Cell segmentation does not seem great if we use instanseg mode to `all_outputs`.\n",
    "Better option is to segment cells and nuclei separately, and then align the cell and nuclei masks."
   ]
  },
  {
   "cell_type": "code",
   "execution_count": 15,
   "metadata": {},
   "outputs": [],
   "source": [
    "#from napari_spatialdata import Interactive\n",
    "\n",
    "#Interactive( sdata )"
   ]
  },
  {
   "cell_type": "code",
   "execution_count": null,
   "metadata": {},
   "outputs": [],
   "source": [
    "import harpy as hp\n",
    "\n",
    "sdata = hp.im.segment(\n",
    "    sdata,\n",
    "    img_layer=\"image\",\n",
    "    output_labels_layer=[\"labels_cells_instanseg\"],\n",
    "    output_shapes_layer=[\"shapes_cells_instanseg\"],\n",
    "    labels_layer_align=None,\n",
    "    depth=50,\n",
    "    model=hp.im.instanseg_callable,\n",
    "    # parameters passed to hp.im.instanseg_callable\n",
    "    output=\"cells\",\n",
    "    device=\"cpu\",\n",
    "    instanseg_model=path_model,  # load it in every worker, because torchscript model is not serializable\n",
    "    iou=True,\n",
    "    trim=False,\n",
    "    overwrite=True,\n",
    ")"
   ]
  },
  {
   "cell_type": "code",
   "execution_count": null,
   "metadata": {},
   "outputs": [],
   "source": [
    "import harpy as hp\n",
    "\n",
    "sdata = hp.im.segment(\n",
    "    sdata,\n",
    "    img_layer=\"image\",\n",
    "    output_labels_layer=[\"labels_nuclei_instanseg\"],\n",
    "    output_shapes_layer=[\"shapes_nuclei_instanseg\"],\n",
    "    labels_layer_align=None,\n",
    "    depth=50,\n",
    "    chunks=( 500,500 ),\n",
    "    model=hp.im.instanseg_callable,\n",
    "    # parameters passed to hp.im.instanseg_callable\n",
    "    output=\"nuclei\",\n",
    "    device=\"cpu\",\n",
    "    instanseg_model=path_model,  # load it in every worker, because torchscript model is not serializable\n",
    "    iou=True,\n",
    "    trim=False,\n",
    "    overwrite=True,\n",
    ")"
   ]
  },
  {
   "cell_type": "code",
   "execution_count": null,
   "metadata": {},
   "outputs": [],
   "source": [
    "sdata_small = sdata.query.bounding_box(\n",
    "    min_coordinate=[200, 200], max_coordinate=[500, 500], axes=(\"x\", \"y\"), target_coordinate_system=\"global\"\n",
    ")\n",
    "sdata_small.pl.render_images(\"image\", channel=6).pl.render_labels(\"labels_cells_instanseg\", fill_alpha=0.5  ).pl.show( title=\"cells\" )\n",
    "sdata_small.pl.render_images(\"image\", channel=6).pl.render_labels(\"labels_nuclei_instanseg\", fill_alpha=0.5  ).pl.show( title=\"nuclei\" ) # although colors are different, labels are aligned."
   ]
  },
  {
   "cell_type": "markdown",
   "metadata": {},
   "source": [
    "Align the obtained cell and nuclei masks."
   ]
  },
  {
   "cell_type": "code",
   "execution_count": null,
   "metadata": {},
   "outputs": [],
   "source": [
    "sdata"
   ]
  },
  {
   "cell_type": "code",
   "execution_count": null,
   "metadata": {},
   "outputs": [],
   "source": [
    "sdata=hp.im.align_labels_layers( \n",
    "    sdata,\n",
    "    labels_layer_1=\"labels_nuclei_instanseg\",\n",
    "    labels_layer_2=\"labels_cells_instanseg\",\n",
    "    output_labels_layer=\"labels_nuclei_instanseg_aligned\",\n",
    "    output_shapes_layer=\"shapes_nuclei_instanseg_aligned\",\n",
    "    chunks=None,\n",
    "    depth=50,\n",
    "    overwrite=True,\n",
    " )"
   ]
  },
  {
   "cell_type": "markdown",
   "metadata": {},
   "source": [
    "Sanity check, to see if alignment went well."
   ]
  },
  {
   "cell_type": "code",
   "execution_count": null,
   "metadata": {},
   "outputs": [],
   "source": [
    "hp.pl.sanity(\n",
    "    sdata,\n",
    "    img_layer=\"image\",\n",
    "    shapes_layer=\"shapes_cells_instanseg\",\n",
    "    points_layer=None,\n",
    "    crd = [ 250, 350, 250, 350 ],\n",
    "    plot_cell_number=True,\n",
    "    figsize=(8,8),\n",
    "      )\n",
    "\n",
    "hp.pl.sanity(\n",
    "    sdata,\n",
    "    img_layer=\"image\",\n",
    "    shapes_layer=\"shapes_nuclei_instanseg_aligned\",\n",
    "    points_layer=None,\n",
    "    crd = [ 250, 350, 250, 350 ],\n",
    "    plot_cell_number=True,\n",
    "    figsize=(8,8)\n",
    "      )\n",
    "\n",
    "hp.pl.sanity(\n",
    "    sdata,\n",
    "    img_layer=\"image\",\n",
    "    shapes_layer=\"shapes_nuclei_instanseg\",\n",
    "    points_layer=None,\n",
    "    crd = [ 250, 350, 250, 350 ],\n",
    "    plot_cell_number=True,\n",
    "    figsize=(8,8)\n",
    "      )"
   ]
  },
  {
   "cell_type": "code",
   "execution_count": 22,
   "metadata": {},
   "outputs": [],
   "source": [
    "#from napari_spatialdata import Interactive\n",
    "\n",
    "#Interactive( sdata )"
   ]
  },
  {
   "cell_type": "code",
   "execution_count": null,
   "metadata": {},
   "outputs": [],
   "source": [
    "sdata_small = sdata.query.bounding_box(\n",
    "    min_coordinate=[200, 200],\n",
    "    max_coordinate=[500, 500],\n",
    "    axes=(\"x\", \"y\"),\n",
    "    target_coordinate_system=\"global\",\n",
    ")\n",
    "sdata_small.pl.render_images(\"image\", channel=6).pl.render_labels(\"labels_cells_instanseg\", fill_alpha=0.5  ).pl.show( title=\"cells\" )\n",
    "sdata_small.pl.render_images(\"image\", channel=6).pl.render_labels(\"labels_nuclei_instanseg_aligned\", fill_alpha=0.5  ).pl.show( title=\"nuclei\" ) # although colors are different, labels are aligned."
   ]
  },
  {
   "cell_type": "markdown",
   "metadata": {},
   "source": [
    "#### Create the AnnData table:"
   ]
  },
  {
   "cell_type": "markdown",
   "metadata": {},
   "source": [
    "Allocate intensity for cells."
   ]
  },
  {
   "cell_type": "code",
   "execution_count": null,
   "metadata": {},
   "outputs": [],
   "source": [
    "sdata=hp.tb.allocate_intensity(\n",
    "    sdata,\n",
    "    labels_layer=\"labels_cells_instanseg\",\n",
    "    output_layer=\"table_intensities_cells\",\n",
    "    channels=[ 0,1,2,3,4,5,7],  # do not include DAPI\n",
    "    mode=\"mean\",\n",
    "    obs_stats=[\"count\", \"var\", \"kurtosis\"],\n",
    "    calculate_center_of_mass=True,\n",
    "    overwrite=True,\n",
    "    )"
   ]
  },
  {
   "cell_type": "code",
   "execution_count": null,
   "metadata": {},
   "outputs": [],
   "source": [
    "sdata[ \"table_intensities_cells\" ]"
   ]
  },
  {
   "cell_type": "code",
   "execution_count": null,
   "metadata": {},
   "outputs": [],
   "source": [
    "sdata[ \"table_intensities_cells\" ].to_df().head()"
   ]
  },
  {
   "cell_type": "code",
   "execution_count": null,
   "metadata": {},
   "outputs": [],
   "source": [
    "sdata[ \"table_intensities_cells\" ].obs.head()"
   ]
  },
  {
   "cell_type": "markdown",
   "metadata": {},
   "source": [
    "Allocate intensity for nuclei"
   ]
  },
  {
   "cell_type": "code",
   "execution_count": null,
   "metadata": {},
   "outputs": [],
   "source": [
    "sdata=hp.tb.allocate_intensity(\n",
    "    sdata,\n",
    "    labels_layer=\"labels_nuclei_instanseg_aligned\",\n",
    "    output_layer=\"table_intensities_nuclei\",\n",
    "    channels=[ 0,1,2,3,4,5,7],  # do not include DAPI\n",
    "    mode=\"mean\",\n",
    "    obs_stats=[\"count\", \"var\", \"kurtosis\"],\n",
    "    calculate_center_of_mass=True,\n",
    "    overwrite=True,\n",
    "    )"
   ]
  },
  {
   "cell_type": "code",
   "execution_count": null,
   "metadata": {},
   "outputs": [],
   "source": [
    "sdata[ \"table_intensities_nuclei\" ].to_df().head()"
   ]
  },
  {
   "cell_type": "code",
   "execution_count": null,
   "metadata": {},
   "outputs": [],
   "source": [
    "sdata[ \"table_intensities_nuclei\" ].obs.head()"
   ]
  },
  {
   "cell_type": "code",
   "execution_count": null,
   "metadata": {},
   "outputs": [],
   "source": [
    "hp.pl.plot_shapes(\n",
    "    sdata,\n",
    "    img_layer=\"image\",\n",
    "    shapes_layer=\"shapes_cells_instanseg\",\n",
    "    table_layer=\"table_intensities_cells\",\n",
    "    column=\"var_5\",\n",
    "    channel=5,\n",
    "    crd = [ 200, 500, 200, 500 ],\n",
    "    figsize=(5,5),\n",
    "    alpha=0.4,\n",
    "      )"
   ]
  },
  {
   "cell_type": "code",
   "execution_count": null,
   "metadata": {},
   "outputs": [],
   "source": [
    "import numpy as np\n",
    "\n",
    "image=sdata[ \"image\" ].data[ 5 ].compute() \n",
    "mask=sdata[ \"labels_cells_instanseg\" ].data.compute() == 8059  # cell with high variance\n",
    "\n",
    "np.var(image[ mask ])"
   ]
  },
  {
   "cell_type": "code",
   "execution_count": null,
   "metadata": {},
   "outputs": [],
   "source": [
    "import matplotlib.pyplot as plt\n",
    "\n",
    "plt.figure(figsize=(5, 5))\n",
    "ax = plt.gca()\n",
    "\n",
    "color = \"var_5\"\n",
    "\n",
    "sdata_small = sdata.query.bounding_box(\n",
    "    min_coordinate=[200, 200], max_coordinate=[500, 500], axes=(\"x\", \"y\"), target_coordinate_system=\"global\"\n",
    ")\n",
    "\n",
    "sdata_small.pl.render_images( \"image\", channel=5 ).pl.render_labels(\"labels_cells_instanseg\", color=color, method=\"datashader\", fill_alpha=0.3, outline_alpha=0.1).pl.show(\n",
    "    coordinate_systems=\"global\", ax=ax\n",
    ")"
   ]
  },
  {
   "cell_type": "markdown",
   "metadata": {},
   "source": [
    "### Segment using Cellpose:"
   ]
  },
  {
   "cell_type": "code",
   "execution_count": null,
   "metadata": {},
   "outputs": [],
   "source": [
    "import matplotlib.pyplot as plt\n",
    "\n",
    "hp.pl.plot_shapes(\n",
    "    sdata,\n",
    "    img_layer=\"image\",\n",
    "    shapes_layer=None,\n",
    "    channel=[ 6, 5, 1, 4 ],\n",
    "    figsize=(5*4,5*4)\n",
    "      )"
   ]
  },
  {
   "cell_type": "code",
   "execution_count": null,
   "metadata": {},
   "outputs": [],
   "source": [
    "# takes 1m 30 on mac OS m2\n",
    "\n",
    "arr=sdata[ \"image\" ].data[ 6 ][ None,... ]\n",
    "sdata=hp.im.add_image_layer(\n",
    "    sdata,\n",
    "    arr=arr,\n",
    "    output_layer=\"image_c6\",\n",
    "    overwrite=True,\n",
    "      )\n",
    "\n",
    "print( \"Segmenting channel 6.\" )\n",
    "\n",
    "sdata = hp.im.segment(\n",
    "    sdata,\n",
    "    img_layer=\"image_c6\",\n",
    "    model=hp.im.cellpose_callable,\n",
    "    device=\"cpu\",\n",
    "    model_type=\"nuclei\",\n",
    "    output_labels_layer=\"labels_cells_c6\",\n",
    "    output_shapes_layer=\"shapes_cells_c6\",\n",
    "    diameter=15,\n",
    "    depth=50,\n",
    "    channels=[0, 0],\n",
    "    overwrite=True,\n",
    ")\n",
    "\n",
    "print( \"Segmenting channel 5.\" )\n",
    "\n",
    "arr=sdata[ \"image\" ].data[ 5 ][ None,... ]\n",
    "sdata=hp.im.add_image_layer(\n",
    "    sdata,\n",
    "    arr=arr,\n",
    "    output_layer=\"image_c5\",\n",
    "    overwrite=True,\n",
    "      )\n",
    "\n",
    "sdata = hp.im.segment(\n",
    "    sdata,\n",
    "    img_layer=\"image_c5\",\n",
    "    model=hp.im.cellpose_callable,\n",
    "    device=\"cpu\",\n",
    "    model_type=\"cyto3\",\n",
    "    output_labels_layer=\"labels_cells_c5\",\n",
    "    output_shapes_layer=\"shapes_cells_c5\",\n",
    "    diameter=30,\n",
    "    depth=50,\n",
    "    channels=[0, 0],\n",
    "    overwrite=True,\n",
    ")\n",
    "\n",
    "print( \"Segmenting channel 1.\" )\n",
    "\n",
    "arr=sdata[ \"image\" ].data[ 1 ][ None,... ]\n",
    "sdata=hp.im.add_image_layer(\n",
    "    sdata,\n",
    "    arr=arr,\n",
    "    output_layer=\"image_c1\",\n",
    "    overwrite=True,\n",
    "      )\n",
    "\n",
    "sdata = hp.im.segment(\n",
    "    sdata,\n",
    "    img_layer=\"image_c1\",\n",
    "    model=hp.im.cellpose_callable,\n",
    "    device=\"cpu\",\n",
    "    model_type=\"cyto3\",\n",
    "    output_labels_layer=\"labels_cells_c1\",\n",
    "    output_shapes_layer=\"shapes_cells_c1\",\n",
    "    diameter=30,\n",
    "    depth=50,\n",
    "    channels=[0, 0],\n",
    "    overwrite=True,\n",
    ")\n",
    "\n",
    "print( \"Segmenting channel 4.\" )\n",
    "\n",
    "arr=sdata[ \"image\" ].data[ 4 ][ None,... ]\n",
    "sdata=hp.im.add_image_layer(\n",
    "    sdata,\n",
    "    arr=arr,\n",
    "    output_layer=\"image_c4\",\n",
    "    overwrite=True,\n",
    "      )\n",
    "\n",
    "sdata = hp.im.segment(\n",
    "    sdata,\n",
    "    img_layer=\"image_c4\",\n",
    "    model=hp.im.cellpose_callable,\n",
    "    device=\"cpu\",\n",
    "    model_type=\"cyto3\",\n",
    "    output_labels_layer=\"labels_cells_c4\",\n",
    "    output_shapes_layer=\"shapes_cells_c4\",\n",
    "    diameter=30,\n",
    "    depth=50,\n",
    "    channels=[0, 0],\n",
    "    overwrite=True,\n",
    ")"
   ]
  },
  {
   "cell_type": "code",
   "execution_count": null,
   "metadata": {},
   "outputs": [],
   "source": [
    "for i in [ 6,5,1,4 ]:\n",
    "\n",
    "  hp.pl.plot_shapes(\n",
    "      sdata,\n",
    "      img_layer=\"image\",\n",
    "      shapes_layer=f\"shapes_cells_c{i}\",\n",
    "      channel=i,\n",
    "      figsize=( 5,5 ),\n",
    "        )"
   ]
  },
  {
   "cell_type": "markdown",
   "metadata": {},
   "source": [
    "#### Merge the segmentation masks:"
   ]
  },
  {
   "cell_type": "code",
   "execution_count": null,
   "metadata": {},
   "outputs": [],
   "source": [
    "sdata=hp.im.merge_labels_layers(\n",
    "    sdata,\n",
    "    labels_layer_1=\"labels_cells_c5\",\n",
    "    labels_layer_2=\"labels_cells_c1\",\n",
    "    output_labels_layer=\"labels_cells_merged\",\n",
    "    output_shapes_layer=\"shapes_cells_merged\",\n",
    "    overwrite=True,\n",
    "        )\n",
    "\n",
    "sdata=hp.im.merge_labels_layers(\n",
    "    sdata,\n",
    "    labels_layer_1=\"labels_cells_merged\",\n",
    "    labels_layer_2=\"labels_cells_c4\",\n",
    "    output_labels_layer=\"labels_cells_merged\", # we overwrite\n",
    "    output_shapes_layer=\"shapes_cells_merged\",\n",
    "    overwrite=True,\n",
    "        )\n",
    "\n",
    "hp.pl.plot_shapes(\n",
    "    sdata,\n",
    "    img_layer=\"image\",\n",
    "    channel=1,\n",
    "    shapes_layer=\"shapes_cells_merged\",\n",
    "    figsize=(5,5)\n",
    "      )"
   ]
  },
  {
   "cell_type": "code",
   "execution_count": null,
   "metadata": {},
   "outputs": [],
   "source": [
    "# what about nuclei?\n",
    "hp.pl.plot_shapes(\n",
    "    sdata,\n",
    "    img_layer=\"image\",\n",
    "    shapes_layer=\"shapes_cells_c6\",\n",
    "    channel=6,\n",
    "    figsize=( 5,5 ),\n",
    "      )"
   ]
  },
  {
   "cell_type": "code",
   "execution_count": null,
   "metadata": {},
   "outputs": [],
   "source": [
    "sdata=hp.im.expand_labels_layer(\n",
    "    sdata,\n",
    "    labels_layer=\"labels_cells_c6\",\n",
    "    distance=10,\n",
    "    output_labels_layer=\"labels_cells_c6_expanded\",\n",
    "    output_shapes_layer=\"shapes_cells_c6_expanded\",\n",
    "    overwrite=True,\n",
    "        )"
   ]
  },
  {
   "cell_type": "code",
   "execution_count": null,
   "metadata": {},
   "outputs": [],
   "source": [
    "hp.pl.plot_shapes(\n",
    "    sdata,\n",
    "    img_layer=\"image\",\n",
    "    shapes_layer=\"shapes_cells_c6_expanded\",\n",
    "    channel=6,\n",
    "    figsize=( 5,5 ),\n",
    "      )"
   ]
  },
  {
   "cell_type": "code",
   "execution_count": null,
   "metadata": {},
   "outputs": [],
   "source": [
    "# now merge them\n",
    "sdata=hp.im.merge_labels_layers_nuclei(\n",
    "    sdata,\n",
    "    labels_layer=\"labels_cells_merged\",\n",
    "    labels_layer_nuclei=\"labels_cells_c6\", # nuclei\n",
    "    labels_layer_nuclei_expanded=\"labels_cells_c6_expanded\", # nuclei expanded\n",
    "    output_labels_layer=\"labels_cells_merged\",\n",
    "    output_shapes_layer=\"shapes_cells_merged\",\n",
    "    overwrite=True,\n",
    ")"
   ]
  },
  {
   "cell_type": "code",
   "execution_count": null,
   "metadata": {},
   "outputs": [],
   "source": [
    "hp.pl.plot_shapes(\n",
    "    sdata,\n",
    "    img_layer=\"image\",\n",
    "    shapes_layer=\"shapes_cells_merged\",\n",
    "    channel=6,\n",
    "    figsize=( 10,10 ),\n",
    "      )"
   ]
  },
  {
   "cell_type": "code",
   "execution_count": null,
   "metadata": {},
   "outputs": [],
   "source": [
    "hp.pl.plot_shapes(\n",
    "    sdata,\n",
    "    img_layer=\"image\",\n",
    "    shapes_layer=\"shapes_cells_instanseg\",\n",
    "    channel=6,\n",
    "    figsize=( 10,10 ),\n",
    "      )"
   ]
  },
  {
   "cell_type": "markdown",
   "metadata": {},
   "source": [
    "#### Create the AnnData table:"
   ]
  },
  {
   "cell_type": "code",
   "execution_count": null,
   "metadata": {},
   "outputs": [],
   "source": [
    "sdata=hp.tb.allocate_intensity(\n",
    "    sdata,\n",
    "    img_layer=\"image\",\n",
    "    channels=[ 0,1,2,3,4,5,7],  # do not include DAPI\n",
    "    labels_layer=\"labels_cells_merged\",\n",
    "    output_layer=\"table_intensities_cells_merged\",\n",
    "    mode=\"mean\",\n",
    "    obs_stats=[\"count\", \"var\", \"kurtosis\"],\n",
    "    calculate_center_of_mass=True,\n",
    "    overwrite=True,\n",
    "    )"
   ]
  },
  {
   "cell_type": "code",
   "execution_count": null,
   "metadata": {},
   "outputs": [],
   "source": [
    "sdata[ \"table_intensities_cells_merged\" ].obs.head()"
   ]
  },
  {
   "cell_type": "markdown",
   "metadata": {},
   "source": [
    "Exercise:\n",
    "\n",
    "Visualize the data. Use the `harpy` functions `hp.pl.plot_shapes` to visualize `var_5`.\n",
    "\n",
    "\n",
    "<details>\n",
    "<summary>Click to reveal the solution</summary>\n",
    "\n",
    "```python\n",
    "\n",
    "hp.pl.plot_shapes(\n",
    "    sdata,\n",
    "    img_layer=\"image\",\n",
    "    shapes_layer=\"shapes_cells_merged\",\n",
    "    table_layer=\"table_intensities_cells_merged\",\n",
    "    column=\"var_5\",\n",
    "    channel=5,\n",
    "    crd = [ 200, 500, 200, 500 ],\n",
    "    figsize=(5,5),\n",
    "    alpha=0.4,\n",
    "      )"
   ]
  },
  {
   "cell_type": "markdown",
   "metadata": {},
   "source": [
    "#### Leiden clustering"
   ]
  },
  {
   "cell_type": "code",
   "execution_count": null,
   "metadata": {},
   "outputs": [],
   "source": [
    "import scanpy as sc\n",
    "\n",
    "# Leiden clustering\n",
    "sdata = hp.tb.leiden(\n",
    "    sdata,\n",
    "    labels_layer=\"labels_cells_merged\",\n",
    "    table_layer=\"table_intensities_cells_merged\",\n",
    "    output_layer=\"table_intensities_cells_merged_leiden\",\n",
    "    calculate_umap=True,\n",
    "    calculate_neighbors=True,\n",
    "    n_pcs=17, # The number of principal components to use when calculating neighbors.\n",
    "    n_neighbors=35, # The number of neighbors to consider when calculating neighbors.\n",
    "    resolution=0.4,\n",
    "    rank_genes=True,\n",
    "    key_added=\"leiden\",\n",
    "    overwrite=True,\n",
    ")\n",
    "\n",
    "# Plot UMAP\n",
    "sc.pl.umap(sdata.tables[\"table_intensities_cells_merged_leiden\"], color=[\"leiden\"], show=True)"
   ]
  },
  {
   "cell_type": "code",
   "execution_count": null,
   "metadata": {},
   "outputs": [],
   "source": [
    "sdata.tables[\"table_intensities_cells_merged\"]"
   ]
  },
  {
   "cell_type": "code",
   "execution_count": null,
   "metadata": {},
   "outputs": [],
   "source": [
    "hp.pl.plot_shapes( \n",
    "    sdata,\n",
    "    img_layer=\"image\",\n",
    "    table_layer=\"table_intensities_cells_merged_leiden\",\n",
    "    shapes_layer=\"shapes_cells_merged\",\n",
    "    column=\"leiden\",\n",
    "    channel=6,\n",
    "    linewidth=0.2,\n",
    "    alpha=0.7,\n",
    "    figsize=( 8,8 ),\n",
    " )"
   ]
  },
  {
   "cell_type": "code",
   "execution_count": null,
   "metadata": {},
   "outputs": [],
   "source": [
    "sc.pl.rank_genes_groups(\n",
    "    sdata.tables[\"table_intensities_cells_merged_leiden\"],\n",
    "    n_genes=7,\n",
    "    sharey=False,\n",
    "    show=True,\n",
    "    )"
   ]
  },
  {
   "cell_type": "code",
   "execution_count": null,
   "metadata": {},
   "outputs": [],
   "source": [
    "sdata[ \"table_intensities_cells_merged_leiden\" ]"
   ]
  },
  {
   "cell_type": "code",
   "execution_count": null,
   "metadata": {},
   "outputs": [],
   "source": [
    "# channel 1 is found in the leiden clusters\n",
    "# channel 7 also\n",
    "# channel 5 clearly pops up"
   ]
  },
  {
   "cell_type": "markdown",
   "metadata": {},
   "source": [
    "#### Spatial neighbors using Squidpy"
   ]
  },
  {
   "cell_type": "code",
   "execution_count": null,
   "metadata": {},
   "outputs": [],
   "source": [
    "import squidpy as sq\n",
    "import numpy as np\n",
    "\n",
    "adata = sdata[ \"table_intensities_cells_merged_leiden\" ]\n",
    "\n",
    "cluster_key = \"leiden\"\n",
    "\n",
    "sq.gr.spatial_neighbors(adata, spatial_key=\"spatial\", copy=False,)\n",
    "sq.gr.nhood_enrichment(adata, cluster_key=cluster_key, seed=0, copy=False,)\n",
    "\n",
    "adata.uns[f\"{cluster_key}_nhood_enrichment\"][\"zscore\"] = np.nan_to_num(\n",
    "    adata.uns[f\"{cluster_key}_nhood_enrichment\"][\"zscore\"]\n",
    ")\n",
    "sq.pl.nhood_enrichment(adata, cluster_key=cluster_key, method=\"ward\", mode=\"zscore\", figsize=(8, 8))"
   ]
  }
 ],
 "metadata": {
  "kernelspec": {
   "display_name": "harpy",
   "language": "python",
   "name": "python3"
  },
  "language_info": {
   "codemirror_mode": {
    "name": "ipython",
    "version": 3
   },
   "file_extension": ".py",
   "mimetype": "text/x-python",
   "name": "python",
   "nbconvert_exporter": "python",
   "pygments_lexer": "ipython3",
   "version": "3.11.12"
  }
 },
 "nbformat": 4,
 "nbformat_minor": 2
}
