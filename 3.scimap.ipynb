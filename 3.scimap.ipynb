{
 "cells": [
  {
   "cell_type": "markdown",
   "metadata": {},
   "source": [
    "# Scimap neighborhood analysis"
   ]
  },
  {
   "cell_type": "markdown",
   "metadata": {},
   "source": [
    "## Prerequisites\n",
    "scimap environment (see https://scimap.xyz/Getting%20Started/)"
   ]
  },
  {
   "cell_type": "markdown",
   "metadata": {},
   "source": [
    "### Import packages"
   ]
  },
  {
   "cell_type": "code",
   "execution_count": null,
   "metadata": {},
   "outputs": [],
   "source": [
    "import os\n",
    "import scimap as sm\n",
    "import anndata as ad\n",
    "import tempfile\n",
    "import pandas as pd"
   ]
  },
  {
   "cell_type": "markdown",
   "metadata": {},
   "source": [
    "### Read Anndata"
   ]
  },
  {
   "cell_type": "code",
   "execution_count": null,
   "metadata": {},
   "outputs": [],
   "source": [
    "OUTPUT_DIR = tempfile.gettempdir()\n",
    "adata_path = os.path.join(OUTPUT_DIR, 'adata.h5ad')\n",
    "\n",
    "adata = ad.read_h5ad(adata_path)\n",
    "adata"
   ]
  },
  {
   "cell_type": "markdown",
   "metadata": {},
   "source": [
    "### Scimap neighborhood analysis"
   ]
  },
  {
   "cell_type": "code",
   "execution_count": null,
   "metadata": {},
   "outputs": [],
   "source": [
    "cell_type_column = 'annotation'\n",
    "radius = 150 # radius in pixels\n",
    "\n",
    "# Get spatial coordinates and add to adata.obs\n",
    "spatial_coords = adata.obsm[\"spatial\"]\n",
    "spatial_coords_df = pd.DataFrame(spatial_coords, columns=[\"x\", \"y\"], index=adata.obs.index)\n",
    "adata.obs[[\"x\", \"y\"]] = spatial_coords_df\n",
    "\n",
    "# Identify neighbors\n",
    "adata = sm.tl.spatial_count(\n",
    "    adata, \n",
    "    x_coordinate='x',\n",
    "    y_coordinate='y',\n",
    "    z_coordinate=None,\n",
    "    phenotype=cell_type_column, \n",
    "    method='radius', \n",
    "    radius=radius, \n",
    "    imageid='fov_labels',\n",
    "    label='spatial_count'\n",
    ")\n",
    "\n",
    "# Cluster results into neighborhoods\n",
    "k = 6 # Number of clusters to form\n",
    "adata = sm.tl.spatial_cluster(\n",
    "    adata, \n",
    "    df_name='spatial_count', \n",
    "    method='kmeans', \n",
    "    k=k, \n",
    "    label=f'neigh_kmeans_{k}'\n",
    ")\n",
    "\n",
    "# Plot neighborhoods spatially\n",
    "sm.pl.spatial_scatterPlot(\n",
    "    adata, \n",
    "    colorBy=f'neigh_kmeans_{k}', \n",
    "    topLayer=None, \n",
    "    x_coordinate='x',\n",
    "    y_coordinate='y',\n",
    "    imageid='region', \n",
    "    s=5,\n",
    "    alpha=1, \n",
    "    dpi=300, \n",
    "    figsize=(5.8, 5), \n",
    ")"
   ]
  },
  {
   "cell_type": "code",
   "execution_count": null,
   "metadata": {},
   "outputs": [],
   "source": [
    "from matplotlib.colors import ListedColormap\n",
    "\n",
    "colors_33 = [\n",
    "    \"#d95f02\", \"#7570b3\", \"#e7298a\", \"#66a61e\", \"#e6ab02\", \"#a6761d\",\n",
    "    \"#666666\", \"#8c564b\", \"#c49c94\", \"#e377c2\", \"#7f7f7f\", \"#bcbd22\",\n",
    "    \"#e41a1c\", \"#377eb8\", \"#4daf4a\", \"#984ea3\", \"#ff7f00\", \"#ffff33\",\n",
    "    \"#a65628\", \"#f781bf\", \"#999999\", \"#66c2a5\", \"#fc8d62\", \"#8da0cb\",\n",
    "    \"#e78ac3\", \"#a6d854\", \"#ffd92f\", \"#e5c494\", \"#b3b3b3\", \"#1b9e77\",\n",
    "    \"#17becf\", \"#aec7e8\", \"#ffbb78\"\n",
    "]\n",
    "cmap_33 = ListedColormap(colors_33)\n",
    "\n",
    "sm.pl.stacked_barplot(\n",
    "    adata, \n",
    "    x_axis=f'neigh_kmeans_{k}', \n",
    "    y_axis='annotation', \n",
    "    matplotlib_cmap=cmap_33)"
   ]
  }
 ],
 "metadata": {
  "kernelspec": {
   "display_name": "scimap",
   "language": "python",
   "name": "python3"
  },
  "language_info": {
   "codemirror_mode": {
    "name": "ipython",
    "version": 3
   },
   "file_extension": ".py",
   "mimetype": "text/x-python",
   "name": "python",
   "nbconvert_exporter": "python",
   "pygments_lexer": "ipython3",
   "version": "3.10.18"
  }
 },
 "nbformat": 4,
 "nbformat_minor": 2
}
