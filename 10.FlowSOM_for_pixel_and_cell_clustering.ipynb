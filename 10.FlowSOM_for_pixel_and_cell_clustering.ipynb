{
 "cells": [
  {
   "cell_type": "markdown",
   "metadata": {},
   "source": [
    "# Run FlowSOM for pixel and cell clustering"
   ]
  },
  {
   "cell_type": "code",
   "execution_count": null,
   "metadata": {},
   "outputs": [],
   "source": [
    "import harpy as hp\n",
    "from harpy.datasets import pixie_example\n",
    "from harpy.utils._keys import ClusteringKey"
   ]
  },
  {
   "cell_type": "markdown",
   "metadata": {},
   "source": [
    "## 1. Load example dataset"
   ]
  },
  {
   "cell_type": "code",
   "execution_count": null,
   "metadata": {},
   "outputs": [],
   "source": [
    "sdata = pixie_example([\"fov0\", \"fov1\"])\n",
    "sdata"
   ]
  },
  {
   "cell_type": "code",
   "execution_count": 3,
   "metadata": {},
   "outputs": [],
   "source": [
    "channels = [\n",
    "    \"CD3\",\n",
    "    \"CD4\",\n",
    "    \"CD8\",\n",
    "    \"CD14\",\n",
    "    \"CD20\",\n",
    "    \"CD31\",\n",
    "    \"CD45\",\n",
    "    \"CD68\",\n",
    "    \"CD163\",\n",
    "    \"CK17\",\n",
    "    \"Collagen1\",\n",
    "    \"Fibronectin\",\n",
    "    \"ECAD\",\n",
    "    \"HLADR\",\n",
    "    \"SMA\",\n",
    "    \"Vim\",\n",
    "]"
   ]
  },
  {
   "cell_type": "code",
   "execution_count": null,
   "metadata": {},
   "outputs": [],
   "source": [
    "hp.pl.plot_image(sdata, img_layer=\"raw_image_fov0\", to_coordinate_system=\"fov0\", channel=\"CD3\", figsize=(4, 4))"
   ]
  },
  {
   "cell_type": "code",
   "execution_count": null,
   "metadata": {},
   "outputs": [],
   "source": [
    "hp.pl.histogram(\n",
    "    sdata,\n",
    "    img_layer=\"raw_image_fov0\",\n",
    "    channel=\"CD3\",\n",
    "    bins=100,\n",
    "    fig_kwargs={\n",
    "        \"figsize\": (4, 4),\n",
    "    },\n",
    ")"
   ]
  },
  {
   "cell_type": "markdown",
   "metadata": {},
   "source": [
    "## 2. Preprocess"
   ]
  },
  {
   "cell_type": "code",
   "execution_count": null,
   "metadata": {},
   "outputs": [],
   "source": [
    "sdata = hp.im.pixel_clustering_preprocess(\n",
    "    sdata,\n",
    "    img_layer=[\"raw_image_fov0\", \"raw_image_fov1\"],\n",
    "    output_layer=[\"raw_image_fov0_processed\", \"raw_image_fov1_processed\"],\n",
    "    channels=channels,\n",
    "    chunks=2048,\n",
    "    persist_intermediate=True,  # set to False if you have multiple images, and if they are large.\n",
    "    overwrite=True,\n",
    "    sigma=2.0,\n",
    ")"
   ]
  },
  {
   "cell_type": "code",
   "execution_count": null,
   "metadata": {},
   "outputs": [],
   "source": [
    "hp.pl.plot_image(\n",
    "    sdata, img_layer=\"raw_image_fov0_processed\", to_coordinate_system=\"fov0\", channel=\"CD3\", figsize=(4, 4)\n",
    ")"
   ]
  },
  {
   "cell_type": "code",
   "execution_count": null,
   "metadata": {},
   "outputs": [],
   "source": [
    "hp.pl.histogram(\n",
    "    sdata,\n",
    "    img_layer=\"raw_image_fov0_processed\",\n",
    "    channel=\"CD3\",\n",
    "    bins=100,\n",
    "    fig_kwargs={\n",
    "        \"figsize\": (4, 4),\n",
    "    },\n",
    ")"
   ]
  },
  {
   "cell_type": "markdown",
   "metadata": {},
   "source": [
    "## 3. Pixel clustering"
   ]
  },
  {
   "cell_type": "code",
   "execution_count": null,
   "metadata": {},
   "outputs": [],
   "source": [
    "import flowsom as fs\n",
    "from dask.distributed import Client, LocalCluster\n",
    "\n",
    "work_with_client = False\n",
    "\n",
    "if work_with_client:\n",
    "    # client example\n",
    "    cluster = LocalCluster(\n",
    "        n_workers=1,\n",
    "        threads_per_worker=10,\n",
    "    )\n",
    "\n",
    "    client = Client(cluster)\n",
    "else:\n",
    "    client = None\n",
    "\n",
    "batch_model = fs.models.BatchFlowSOMEstimator\n",
    "\n",
    "sdata, fsom, mapping = hp.im.flowsom(\n",
    "    sdata,\n",
    "    img_layer=[\"raw_image_fov0_processed\", \"raw_image_fov1_processed\"],\n",
    "    output_layer_clusters=[\n",
    "        \"raw_image_fov0_flowsom_clusters\",\n",
    "        \"raw_image_fov1_flowsom_clusters\",\n",
    "    ],  # we need output_cluster_layer and output_meta_cluster_layer --> these will both be labels layers\n",
    "    output_layer_metaclusters=[\n",
    "        \"raw_image_fov0_flowsom_metaclusters\",\n",
    "        \"raw_image_fov1_flowsom_metaclusters\",\n",
    "    ],\n",
    "    n_clusters=20,\n",
    "    random_state=111,\n",
    "    chunks=512,\n",
    "    client=client,\n",
    "    model=batch_model,\n",
    "    num_batches=10,\n",
    "    xdim=10,\n",
    "    ydim=10,\n",
    "    z_score=True,\n",
    "    z_cap=3,\n",
    "    persist_intermediate=True,\n",
    "    overwrite=True,\n",
    ")"
   ]
  },
  {
   "cell_type": "code",
   "execution_count": null,
   "metadata": {},
   "outputs": [],
   "source": [
    "sdata = hp.tb.cluster_intensity(\n",
    "    sdata,\n",
    "    mapping=mapping,\n",
    "    img_layer=[\"raw_image_fov0_processed\", \"raw_image_fov1_processed\"],\n",
    "    labels_layer=[\"raw_image_fov0_flowsom_clusters\", \"raw_image_fov1_flowsom_clusters\"],\n",
    "    to_coordinate_system=[\"fov0\", \"fov1\"],\n",
    "    output_layer=\"counts_clusters\",\n",
    "    overwrite=True,\n",
    ")"
   ]
  },
  {
   "cell_type": "markdown",
   "metadata": {},
   "source": [
    "## 4. Visualization of pixel clusters and metaclusters"
   ]
  },
  {
   "cell_type": "code",
   "execution_count": null,
   "metadata": {},
   "outputs": [],
   "source": [
    "hp.pl.pixel_clusters(\n",
    "    sdata,\n",
    "    labels_layer=\"raw_image_fov0_flowsom_clusters\",\n",
    "    figsize=(10, 10),\n",
    "    to_coordinate_system=\"fov0\",\n",
    "    render_labels_kwargs={\"alpha\": 1},\n",
    ")\n",
    "\n",
    "hp.pl.pixel_clusters(\n",
    "    sdata,\n",
    "    labels_layer=\"raw_image_fov0_flowsom_metaclusters\",\n",
    "    figsize=(10, 10),\n",
    "    to_coordinate_system=\"fov0\",\n",
    "    render_labels_kwargs={\"alpha\": 1},\n",
    ")"
   ]
  },
  {
   "cell_type": "markdown",
   "metadata": {},
   "source": [
    "## 5. Heatmap of channel intensity per cluster and metacluster"
   ]
  },
  {
   "cell_type": "code",
   "execution_count": null,
   "metadata": {},
   "outputs": [],
   "source": [
    "for _metaclusters in [True, False]:\n",
    "    hp.pl.pixel_clusters_heatmap(\n",
    "        sdata,\n",
    "        table_layer=\"counts_clusters\",\n",
    "        figsize=(25, 8),\n",
    "        fig_kwargs={\"dpi\": 100},\n",
    "        linewidths=0.001,\n",
    "        metaclusters=_metaclusters,\n",
    "        z_score=True,\n",
    "    )"
   ]
  },
  {
   "cell_type": "markdown",
   "metadata": {},
   "source": [
    "## 6. Spatial pixel neighbors"
   ]
  },
  {
   "cell_type": "code",
   "execution_count": null,
   "metadata": {},
   "outputs": [],
   "source": [
    "import numpy as np\n",
    "import squidpy as sq\n",
    "\n",
    "key_added = \"cluster_id\"\n",
    "\n",
    "adata = hp.tb.spatial_pixel_neighbors(\n",
    "    sdata,\n",
    "    labels_layer=\"raw_image_fov0_flowsom_metaclusters\",\n",
    "    key_added=key_added,\n",
    "    mode=\"most_frequent\",\n",
    "    grid_type=\"hexagon\",\n",
    "    size=20,\n",
    "    subset=None,\n",
    ")\n",
    "\n",
    "adata.uns[f\"{key_added}_nhood_enrichment\"][\"zscore\"] = np.nan_to_num(\n",
    "    adata.uns[f\"{key_added}_nhood_enrichment\"][\"zscore\"]\n",
    ")\n",
    "sq.pl.nhood_enrichment(adata, cluster_key=key_added, method=\"ward\", mode=\"zscore\", figsize=(8, 8))"
   ]
  },
  {
   "cell_type": "markdown",
   "metadata": {},
   "source": [
    "## 7. Cell clustering"
   ]
  },
  {
   "cell_type": "code",
   "execution_count": null,
   "metadata": {},
   "outputs": [],
   "source": [
    "batch_model = fs.models.BatchFlowSOMEstimator\n",
    "\n",
    "sdata, fsom = hp.tb.flowsom(\n",
    "    sdata,\n",
    "    labels_layer_cells=[\"label_whole_fov0\", \"label_whole_fov1\"],\n",
    "    labels_layer_clusters=[\n",
    "        \"raw_image_fov0_flowsom_metaclusters\",\n",
    "        \"raw_image_fov1_flowsom_metaclusters\",\n",
    "    ],  # here you could also choose \"ark_pixel_som_cluster\"\n",
    "    output_layer=\"table_cell_clustering_flowsom\",\n",
    "    chunks=512,\n",
    "    model=batch_model,\n",
    "    num_batches=10,\n",
    "    random_state=100,\n",
    "    overwrite=True,\n",
    ")"
   ]
  },
  {
   "cell_type": "code",
   "execution_count": null,
   "metadata": {},
   "outputs": [],
   "source": [
    "sdata.pl.render_labels(\"label_whole_fov0\", table_name=\"table_cell_clustering_flowsom\", color=\"metaclustering\").pl.show(\n",
    "    figsize=(5, 5)\n",
    ")"
   ]
  },
  {
   "cell_type": "code",
   "execution_count": null,
   "metadata": {},
   "outputs": [],
   "source": [
    "# \"table_cell_clustering_flowsom\" is annotated by segmentation masks, so they can also be visualised using napari-spatialdata\n",
    "sdata[\"table_cell_clustering_flowsom\"].uns[\"spatialdata_attrs\"]\n",
    "\n",
    "# from napari_spatialdata import Interactive\n",
    "\n",
    "# Interactive(sdata)"
   ]
  },
  {
   "cell_type": "markdown",
   "metadata": {},
   "source": [
    "## Optional export to a .csv format that can be used for visualization using the ark analysis [gui](https://github.com/angelolab/ark-analysis/blob/main/templates/2_Pixie_Cluster_Pixels.ipynb)"
   ]
  },
  {
   "cell_type": "code",
   "execution_count": null,
   "metadata": {},
   "outputs": [],
   "source": [
    "# weighted channel average for visualization -> calculate this on the flowsom clustered matrix\n",
    "sdata = hp.tb.weighted_channel_expression(\n",
    "    sdata,\n",
    "    table_layer_cell_clustering=\"table_cell_clustering_flowsom\",\n",
    "    table_layer_pixel_cluster_intensity=\"counts_clusters\",\n",
    "    output_layer=\"table_cell_clustering_flowsom\",\n",
    "    clustering_key=ClusteringKey._METACLUSTERING_KEY,\n",
    "    overwrite=True,\n",
    ")"
   ]
  },
  {
   "cell_type": "code",
   "execution_count": null,
   "metadata": {},
   "outputs": [],
   "source": [
    "from harpy.table.cell_clustering._utils import _export_to_ark_format as _export_to_ark_format_cells\n",
    "from harpy.table.pixel_clustering._cluster_intensity import _export_to_ark_format as _export_to_ark_format_pixels\n",
    "\n",
    "df = _export_to_ark_format_pixels(adata=sdata[\"counts_clusters\"], output=None)\n",
    "(\n",
    "    df_cell_som_cluster_count_avg,\n",
    "    df_cell_som_cluster_channel_avg,\n",
    "    df_cell_meta_cluster_channel_avg,\n",
    ") = _export_to_ark_format_cells(sdata, table_layer=\"table_cell_clustering_flowsom\", output=None)\n",
    "df.head()"
   ]
  },
  {
   "cell_type": "code",
   "execution_count": null,
   "metadata": {},
   "outputs": [],
   "source": [
    "df_cell_meta_cluster_channel_avg.head()"
   ]
  }
 ],
 "metadata": {
  "kernelspec": {
   "display_name": "training_env_14_4_25",
   "language": "python",
   "name": "python3"
  },
  "language_info": {
   "codemirror_mode": {
    "name": "ipython",
    "version": 3
   },
   "file_extension": ".py",
   "mimetype": "text/x-python",
   "name": "python",
   "nbconvert_exporter": "python",
   "pygments_lexer": "ipython3",
   "version": "3.11.12"
  }
 },
 "nbformat": 4,
 "nbformat_minor": 2
}
