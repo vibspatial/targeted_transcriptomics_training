{
 "cells": [
  {
   "cell_type": "code",
   "execution_count": null,
   "metadata": {},
   "outputs": [],
   "source": [
    "import harpy as hp"
   ]
  },
  {
   "cell_type": "markdown",
   "metadata": {},
   "source": [
    "If `sopa` not yet installed, run the following in an active conda environment:\n",
    "\n",
    "`pip install sopa`"
   ]
  },
  {
   "cell_type": "code",
   "execution_count": null,
   "metadata": {},
   "outputs": [],
   "source": [
    "from datasets import sdata_xenium\n",
    "\n",
    "sdata=sdata_xenium(path = None,  output=None ) # sdata_resolve( output=None )  # on Windows, set path (e.g. to r\"c:\\tmp\")\n",
    "sdata"
   ]
  },
  {
   "cell_type": "code",
   "execution_count": null,
   "metadata": {},
   "outputs": [],
   "source": [
    "img_layer = \"clahe\"\n",
    "labels_layer = \"segmentation_mask\"\n",
    "table_layer = \"table_transcriptomics_clustered\"\n",
    "points_layer = \"transcripts_global\" # \"transcripts\""
   ]
  },
  {
   "cell_type": "code",
   "execution_count": null,
   "metadata": {},
   "outputs": [],
   "source": [
    "from harpy.utils._keys import _REGION_KEY, _INSTANCE_KEY\n",
    "\n",
    "assert labels_layer in sdata[ table_layer ].obs[ _REGION_KEY ].cat.categories.to_list()"
   ]
  },
  {
   "cell_type": "code",
   "execution_count": null,
   "metadata": {},
   "outputs": [],
   "source": [
    "from spatialdata.transformations import get_transformation\n",
    "\n",
    "transformations = get_transformation( sdata[ labels_layer ], get_all=True )\n",
    "# vectorize the labels layer that annotates the table\n",
    "hp.sh.vectorize( sdata, labels_layer=labels_layer, output_layer=\"__shapes__\", overwrite=True )\n",
    "\n",
    "sdata[ \"__shapes__\" ]=sdata[ \"__shapes__\" ].copy()\n",
    "\n",
    "# subset with the region key first\n",
    "adata = sdata[ table_layer ][ sdata[ table_layer ].obs[ _REGION_KEY ] == labels_layer]\n",
    "assert all( adata.obs[ _INSTANCE_KEY ].isin( sdata[ \"__shapes__\" ].index.astype( int ))), \"There are elements in table layer that could not be found in shapes layer.\"\n",
    "sdata[ \"__shapes__\" ].index=sdata[ \"__shapes__\" ].index.astype( int )\n",
    "# subset the shapes layer with the instance key, and make sure they are in the same order\n",
    "sdata[ \"__shapes__\" ]=sdata[ \"__shapes__\" ].loc[ adata.obs[ _INSTANCE_KEY ].values ]"
   ]
  },
  {
   "cell_type": "code",
   "execution_count": null,
   "metadata": {},
   "outputs": [],
   "source": [
    "from harpy.image.segmentation.segmentation_models._baysor import _ensure_polygon\n",
    "from shapely.validation import make_valid\n",
    "\n",
    "def _make_valid(gdf):\n",
    "    gdf.geometry = gdf.geometry.map(lambda cell: _ensure_polygon(make_valid(cell)))\n",
    "    assert all( ~gdf.geometry.isna() ) # check that all polygons are valid\n",
    "    return gdf\n",
    "\n",
    "sdata[ \"__shapes__\" ]=_make_valid( sdata[\"__shapes__\" ] )\n",
    "assert sdata[ \"__shapes__\" ].shape[0] == adata.shape[0]  # should have same shape, and have same order"
   ]
  },
  {
   "cell_type": "code",
   "execution_count": null,
   "metadata": {},
   "outputs": [],
   "source": [
    "import os\n",
    "import uuid\n",
    "import sopa\n",
    "import tempfile\n",
    "\n",
    "from harpy.utils._keys import _GENES_KEY\n",
    "\n",
    "OUTPUT_DIR =  tempfile.gettempdir()\n",
    "\n",
    "xenium_explorer_output_path = os.path.join( OUTPUT_DIR, f\"xenium_{uuid.uuid4()}.explorer\" )\n",
    "\n",
    "sopa.io.write(\n",
    "    xenium_explorer_output_path,\n",
    "    sdata,\n",
    "    image_key=img_layer,\n",
    "    points_key=points_layer,\n",
    "    shapes_key=\"__shapes__\" ,\n",
    "    gene_column=_GENES_KEY,\n",
    "    pixel_size = 0.2125,\n",
    "    )"
   ]
  },
  {
   "cell_type": "code",
   "execution_count": null,
   "metadata": {},
   "outputs": [],
   "source": [
    "import numpy as np\n",
    "\n",
    "adata.obs['new_column'] = np.random.randint(0, 12, size=len(adata.obs))\n",
    "adata.obs[ 'new_column' ]=adata.obs[ 'new_column' ].astype( \"category\" )"
   ]
  },
  {
   "cell_type": "code",
   "execution_count": null,
   "metadata": {},
   "outputs": [],
   "source": [
    "sopa.io.write_cell_categories( xenium_explorer_output_path, adata, is_dir=True )"
   ]
  },
  {
   "cell_type": "code",
   "execution_count": null,
   "metadata": {},
   "outputs": [],
   "source": [
    "import scanpy as sc\n",
    "\n",
    "sc.pl.umap(sdata.tables[table_layer], color=[\"leiden\"], show=True)\n",
    "hp.pl.plot_shapes(\n",
    "    sdata,\n",
    "    img_layer=\"clahe\",\n",
    "    table_layer=table_layer,\n",
    "    column=\"leiden\",\n",
    "    shapes_layer=\"__shapes__\",\n",
    "    alpha=1,\n",
    "    linewidth=0,\n",
    "    channel=\"DAPI\",\n",
    ")"
   ]
  },
  {
   "cell_type": "code",
   "execution_count": null,
   "metadata": {},
   "outputs": [],
   "source": [
    "import scanpy as sc\n",
    "\n",
    "sdata.tables[ table_layer ].obs[ \"new_column\" ] = adata.obs[ \"new_column\" ]\n",
    "\n",
    "sc.pl.umap(sdata.tables[table_layer], color=[\"new_column\"], show=True)\n",
    "hp.pl.plot_shapes(\n",
    "    sdata,\n",
    "    img_layer=\"clahe\",\n",
    "    table_layer=table_layer,\n",
    "    column=\"new_column\",\n",
    "    shapes_layer=\"__shapes__\",\n",
    "    alpha=1,\n",
    "    linewidth=0,\n",
    "    channel=\"DAPI\",\n",
    ")"
   ]
  },
  {
   "cell_type": "code",
   "execution_count": null,
   "metadata": {},
   "outputs": [],
   "source": [
    "sdata.tables[ table_layer ].obs[ sdata.tables[ table_layer ].obs[ \"cell_ID\" ] == 312]"
   ]
  },
  {
   "cell_type": "code",
   "execution_count": null,
   "metadata": {},
   "outputs": [],
   "source": [
    "from napari_spatialdata import Interactive\n",
    "\n",
    "# for new version of napari-spatialdata, need to remove the colors first\n",
    "#del sdata[ table_layer ].uns[ \"new_column_colors\" ]\n",
    "#Interactive( sdata )"
   ]
  }
 ],
 "metadata": {
  "kernelspec": {
   "display_name": "training_env_11_12",
   "language": "python",
   "name": "python3"
  },
  "language_info": {
   "codemirror_mode": {
    "name": "ipython",
    "version": 3
   },
   "file_extension": ".py",
   "mimetype": "text/x-python",
   "name": "python",
   "nbconvert_exporter": "python",
   "pygments_lexer": "ipython3",
   "version": "3.10.8"
  }
 },
 "nbformat": 4,
 "nbformat_minor": 2
}
