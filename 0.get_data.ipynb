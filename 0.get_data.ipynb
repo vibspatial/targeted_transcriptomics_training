{
 "cells": [
  {
   "cell_type": "markdown",
   "metadata": {},
   "source": [
    "# Download datasets"
   ]
  },
  {
   "cell_type": "code",
   "execution_count": 6,
   "metadata": {},
   "outputs": [],
   "source": [
    "import harpy as hp"
   ]
  },
  {
   "cell_type": "code",
   "execution_count": 7,
   "metadata": {},
   "outputs": [],
   "source": [
    "# If path is set to None, example data will be downloaded in the default cache folder of your os. Set this to a custom path to change this behaviour.\n",
    "path = None # on Windows, set path (e.g. to r\"c:\\tmp\")\n",
    "#path = \"/staging/leuven/stg_00143/spatial_data_training\" # on VSC"
   ]
  },
  {
   "cell_type": "markdown",
   "metadata": {},
   "source": [
    "## 1. Resolve"
   ]
  },
  {
   "cell_type": "code",
   "execution_count": null,
   "metadata": {},
   "outputs": [],
   "source": [
    "from training_datasets import sdata_resolve\n",
    "\n",
    "sdata = sdata_resolve(path=path, output=None)\n",
    "\n",
    "# NOTE: This needs approx. 1.5 GB of disk space. This will be used in the 5_explore_sdata.ipynb notebook."
   ]
  },
  {
   "cell_type": "code",
   "execution_count": null,
   "metadata": {},
   "outputs": [],
   "source": [
    "from harpy.datasets.registry import get_registry\n",
    "\n",
    "registry = get_registry(path=path) # on Windows, set path (e.g. to r\"c:\\tmp\")\n",
    "path_image = registry.fetch(\"transcriptomics/resolve/mouse/20272_slide1_A1-1_DAPI.tiff\")\n",
    "path_coordinates = registry.fetch(\"transcriptomics/resolve/mouse/20272_slide1_A1-1_results.txt\")\n",
    "\n",
    "# NOTE: This needs approx. 0.5 GB of disk space. This will be used in the 1.sparrow_pipeline.ipynb notebook."
   ]
  },
  {
   "cell_type": "markdown",
   "metadata": {},
   "source": [
    "## 2. Xenium"
   ]
  },
  {
   "cell_type": "code",
   "execution_count": null,
   "metadata": {},
   "outputs": [],
   "source": [
    "import os\n",
    "import pooch\n",
    "from harpy.datasets.registry import get_registry\n",
    "\n",
    "registry = get_registry(path=path) # on Windows, set path (e.g. to r\"c:\\tmp\")\n",
    "path_unzipped = registry.fetch(\n",
    "    \"transcriptomics/xenium/Xenium_V1_humanLung_Cancer_FFPE/Xenium_V1_humanLung_Cancer_FFPE_outs.zip\",\n",
    "    processor=pooch.Unzip(extract_dir=\".\"),\n",
    ")\n",
    "_ = registry.fetch(\n",
    "    \"transcriptomics/xenium/Xenium_V1_humanLung_Cancer_FFPE/Xenium_V1_humanLung_Cancer_FFPE_he_image.ome.tif\"\n",
    ")\n",
    "_ = registry.fetch(\n",
    "    \"transcriptomics/xenium/Xenium_V1_humanLung_Cancer_FFPE/Xenium_V1_humanLung_Cancer_FFPE_he_imagealignment.csv\"\n",
    ")\n",
    "input_path = os.path.commonpath(path_unzipped)\n",
    "\n",
    "# NOTE: This needs approx. 16 GB of disk space. This will be used in the 2_sparrow_pipeline_xenium.ipynb notebook."
   ]
  },
  {
   "cell_type": "code",
   "execution_count": null,
   "metadata": {},
   "outputs": [],
   "source": [
    "# OPTIONAL (takes up a lot of disk space)\n",
    "\n",
    "from training_datasets import sdata_xenium\n",
    "\n",
    "sdata = sdata_xenium(path=path, output=None)\n",
    "\n",
    "# NOTE: This needs approx. an additional 19 GB of disk space. This will be used in the 3_xenium_explorer.ipynb notebook."
   ]
  }
 ],
 "metadata": {
  "kernelspec": {
   "display_name": "training_env_11_12",
   "language": "python",
   "name": "python3"
  },
  "language_info": {
   "codemirror_mode": {
    "name": "ipython",
    "version": 3
   },
   "file_extension": ".py",
   "mimetype": "text/x-python",
   "name": "python",
   "nbconvert_exporter": "python",
   "pygments_lexer": "ipython3",
   "version": "3.11.11"
  }
 },
 "nbformat": 4,
 "nbformat_minor": 2
}
