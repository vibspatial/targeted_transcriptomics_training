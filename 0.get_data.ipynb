{
 "cells": [
  {
   "cell_type": "code",
   "execution_count": 1,
   "metadata": {},
   "outputs": [
    {
     "name": "stderr",
     "output_type": "stream",
     "text": [
      "/Users/arnedf/miniconda3/envs/training_env/lib/python3.10/site-packages/zarr/creation.py:300: UserWarning: ignoring keyword argument 'read_only'\n",
      "  warn(f\"ignoring keyword argument {k!r}\")\n"
     ]
    }
   ],
   "source": [
    "from datasets import sdata_resolve\n",
    "\n",
    "sdata=sdata_resolve( output=None )"
   ]
  }
 ],
 "metadata": {
  "kernelspec": {
   "display_name": "training_env",
   "language": "python",
   "name": "python3"
  },
  "language_info": {
   "codemirror_mode": {
    "name": "ipython",
    "version": 3
   },
   "file_extension": ".py",
   "mimetype": "text/x-python",
   "name": "python",
   "nbconvert_exporter": "python",
   "pygments_lexer": "ipython3",
   "version": "3.10.8"
  }
 },
 "nbformat": 4,
 "nbformat_minor": 2
}
