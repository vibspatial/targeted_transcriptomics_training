{
 "cells": [
  {
   "cell_type": "code",
   "execution_count": null,
   "metadata": {},
   "outputs": [],
   "source": [
    "import sparrow as sp"
   ]
  },
  {
   "cell_type": "code",
   "execution_count": null,
   "metadata": {},
   "outputs": [],
   "source": [
    "from datasets import sdata_resolve\n",
    "\n",
    "path = None # on Windows if this fails, set path (e.g. to symlink of the default cache of os)\n",
    "\n",
    "sdata=sdata_resolve( path=path, output=None )"
   ]
  },
  {
   "cell_type": "code",
   "execution_count": null,
   "metadata": {},
   "outputs": [],
   "source": [
    "from sparrow.datasets.registry import get_registry\n",
    "\n",
    "# change this path. It is the directory where the spatialdata .zarr will be saved.\n",
    "\n",
    "registry=get_registry(path = path ) # on Windows, set path (e.g. to symlink of default cache of os)\n",
    "path_image = registry.fetch( \"transcriptomics/resolve/mouse/20272_slide1_A1-1_DAPI.tiff\" )\n",
    "path_coordinates = registry.fetch(\"transcriptomics/resolve/mouse/20272_slide1_A1-1_results.txt\")"
   ]
  },
  {
   "cell_type": "code",
   "execution_count": null,
   "metadata": {},
   "outputs": [],
   "source": [
    "import os\n",
    "import pooch\n",
    "from sparrow.datasets.registry import get_registry\n",
    "\n",
    "registry = get_registry( path=path ) # on Windows, set path (e.g. to symlink of default cache of os)\n",
    "path_unzipped = registry.fetch(\n",
    "    \"transcriptomics/xenium/Xenium_V1_humanLung_Cancer_FFPE/Xenium_V1_humanLung_Cancer_FFPE_outs.zip\",\n",
    "    processor=pooch.Unzip(extract_dir=\".\"),\n",
    ")\n",
    "_ = registry.fetch(\n",
    "    \"transcriptomics/xenium/Xenium_V1_humanLung_Cancer_FFPE/Xenium_V1_humanLung_Cancer_FFPE_he_image.ome.tif\"\n",
    ")\n",
    "_ = registry.fetch(\n",
    "    \"transcriptomics/xenium/Xenium_V1_humanLung_Cancer_FFPE/Xenium_V1_humanLung_Cancer_FFPE_he_imagealignment.csv\"\n",
    ")\n",
    "input_path = os.path.commonpath(path_unzipped)"
   ]
  },
  {
   "cell_type": "code",
   "execution_count": null,
   "metadata": {},
   "outputs": [],
   "source": [
    "# optional\n",
    "\n",
    "from datasets import sdata_xenium\n",
    "\n",
    "sdata=sdata_xenium(path = path,  output=None )"
   ]
  }
 ],
 "metadata": {
  "kernelspec": {
   "display_name": "training_env",
   "language": "python",
   "name": "python3"
  },
  "language_info": {
   "codemirror_mode": {
    "name": "ipython",
    "version": 3
   },
   "file_extension": ".py",
   "mimetype": "text/x-python",
   "name": "python",
   "nbconvert_exporter": "python",
   "pygments_lexer": "ipython3",
   "version": "3.10.8"
  }
 },
 "nbformat": 4,
 "nbformat_minor": 2
}
