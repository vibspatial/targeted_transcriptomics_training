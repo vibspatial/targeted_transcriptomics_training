{
 "cells": [
  {
   "cell_type": "markdown",
   "metadata": {},
   "source": [
    "# Download datasets"
   ]
  },
  {
   "cell_type": "code",
   "execution_count": 3,
   "metadata": {},
   "outputs": [],
   "source": [
    "import sparrow as sp"
   ]
  },
  {
   "cell_type": "code",
   "execution_count": null,
   "metadata": {},
   "outputs": [],
   "source": [
    "# If path is set to None, example data will be downloaded in the default cache folder of your os. Set this to a custom path to change this behaviour.\n",
    "path = None # On Windows, if this fails, set path (e.g. to symlink of the default cache of os)"
   ]
  },
  {
   "cell_type": "markdown",
   "metadata": {},
   "source": [
    "## 1. Resolve"
   ]
  },
  {
   "cell_type": "code",
   "execution_count": null,
   "metadata": {},
   "outputs": [
    {
     "name": "stderr",
     "output_type": "stream",
     "text": [
      "Downloading file 'transcriptomics/resolve/mouse/sdata_resolve_spatial_training.zarr.zip' from 'https://objectstor.vib.be/spatial-hackathon-public/sparrow/public_datasets/transcriptomics/resolve/mouse/sdata_resolve_spatial_training.zarr.zip' to 'D:\\Data\\0.0.1'.\n",
      "Unzipping contents of 'D:\\Data\\0.0.1\\transcriptomics\\resolve\\mouse\\sdata_resolve_spatial_training.zarr.zip' to 'D:\\Data\\0.0.1\\transcriptomics\\resolve\\mouse\\sdata_resolve_spatial_training.zarr.zip.unzip'\n",
      "c:\\Users\\julienm\\miniconda3\\envs\\training_env\\lib\\site-packages\\zarr\\creation.py:300: UserWarning: ignoring keyword argument 'read_only'\n",
      "  warn(f\"ignoring keyword argument {k!r}\")\n"
     ]
    }
   ],
   "source": [
    "from datasets import sdata_resolve\n",
    "\n",
    "sdata = sdata_resolve(path=path, output=None) \n",
    "\n",
    "# NOTE: This needs approx. 1.5 GB of disk space. This will be used in the 5_explore_sdata.ipynb notebook."
   ]
  },
  {
   "cell_type": "code",
   "execution_count": null,
   "metadata": {},
   "outputs": [
    {
     "name": "stderr",
     "output_type": "stream",
     "text": [
      "Downloading file 'transcriptomics/resolve/mouse/20272_slide1_A1-1_DAPI.tiff' from 'https://objectstor.vib.be/spatial-hackathon-public/sparrow/public_datasets/transcriptomics/resolve/mouse/20272_slide1_A1-1_DAPI.tiff' to 'D:\\Data\\0.0.1'.\n",
      "Downloading file 'transcriptomics/resolve/mouse/20272_slide1_A1-1_results.txt' from 'https://objectstor.vib.be/spatial-hackathon-public/sparrow/public_datasets/transcriptomics/resolve/mouse/20272_slide1_A1-1_results.txt' to 'D:\\Data\\0.0.1'.\n"
     ]
    }
   ],
   "source": [
    "from sparrow.datasets.registry import get_registry\n",
    "\n",
    "registry = get_registry(path=path) # On Windows, set path (e.g. to symlink of default cache of os)\n",
    "path_image = registry.fetch(\"transcriptomics/resolve/mouse/20272_slide1_A1-1_DAPI.tiff\")\n",
    "path_coordinates = registry.fetch(\"transcriptomics/resolve/mouse/20272_slide1_A1-1_results.txt\")\n",
    "\n",
    "# NOTE: This needs approx. 0.5 GB of disk space. This will be used in the 1.sparrow_pipeline.ipynb notebook."
   ]
  },
  {
   "cell_type": "markdown",
   "metadata": {},
   "source": [
    "## 2. Xenium"
   ]
  },
  {
   "cell_type": "code",
   "execution_count": null,
   "metadata": {},
   "outputs": [
    {
     "name": "stderr",
     "output_type": "stream",
     "text": [
      "Downloading file 'transcriptomics/xenium/Xenium_V1_humanLung_Cancer_FFPE/Xenium_V1_humanLung_Cancer_FFPE_outs.zip' from 'https://objectstor.vib.be/spatial-hackathon-public/sparrow/public_datasets/transcriptomics/xenium/Xenium_V1_humanLung_Cancer_FFPE/Xenium_V1_humanLung_Cancer_FFPE_outs.zip' to 'D:\\Data\\0.0.1'.\n",
      "Unzipping contents of 'D:\\Data\\0.0.1\\transcriptomics\\xenium\\Xenium_V1_humanLung_Cancer_FFPE\\Xenium_V1_humanLung_Cancer_FFPE_outs.zip' to 'D:\\Data\\0.0.1\\transcriptomics\\xenium\\Xenium_V1_humanLung_Cancer_FFPE\\.'\n",
      "Downloading file 'transcriptomics/xenium/Xenium_V1_humanLung_Cancer_FFPE/Xenium_V1_humanLung_Cancer_FFPE_he_image.ome.tif' from 'https://objectstor.vib.be/spatial-hackathon-public/sparrow/public_datasets/transcriptomics/xenium/Xenium_V1_humanLung_Cancer_FFPE/Xenium_V1_humanLung_Cancer_FFPE_he_image.ome.tif' to 'D:\\Data\\0.0.1'.\n",
      "Downloading file 'transcriptomics/xenium/Xenium_V1_humanLung_Cancer_FFPE/Xenium_V1_humanLung_Cancer_FFPE_he_imagealignment.csv' from 'https://objectstor.vib.be/spatial-hackathon-public/sparrow/public_datasets/transcriptomics/xenium/Xenium_V1_humanLung_Cancer_FFPE/Xenium_V1_humanLung_Cancer_FFPE_he_imagealignment.csv' to 'D:\\Data\\0.0.1'.\n"
     ]
    }
   ],
   "source": [
    "import os\n",
    "import pooch\n",
    "from sparrow.datasets.registry import get_registry\n",
    "\n",
    "registry = get_registry(path=path) # On Windows, set path (e.g. to symlink of default cache of os)\n",
    "path_unzipped = registry.fetch(\n",
    "    \"transcriptomics/xenium/Xenium_V1_humanLung_Cancer_FFPE/Xenium_V1_humanLung_Cancer_FFPE_outs.zip\",\n",
    "    processor=pooch.Unzip(extract_dir=\".\"),\n",
    ")\n",
    "_ = registry.fetch(\n",
    "    \"transcriptomics/xenium/Xenium_V1_humanLung_Cancer_FFPE/Xenium_V1_humanLung_Cancer_FFPE_he_image.ome.tif\"\n",
    ")\n",
    "_ = registry.fetch(\n",
    "    \"transcriptomics/xenium/Xenium_V1_humanLung_Cancer_FFPE/Xenium_V1_humanLung_Cancer_FFPE_he_imagealignment.csv\"\n",
    ")\n",
    "input_path = os.path.commonpath(path_unzipped)\n",
    "\n",
    "# NOTE: This needs approx. 16 GB of disk space. This will be used in the 2_sparrow_pipeline_xenium.ipynb notebook."
   ]
  },
  {
   "cell_type": "code",
   "execution_count": null,
   "metadata": {},
   "outputs": [
    {
     "name": "stderr",
     "output_type": "stream",
     "text": [
      "Downloading file 'transcriptomics/xenium/Xenium_V1_humanLung_Cancer_FFPE/sdata.zarr.zip' from 'https://objectstor.vib.be/spatial-hackathon-public/sparrow/public_datasets/transcriptomics/xenium/Xenium_V1_humanLung_Cancer_FFPE/sdata.zarr.zip' to 'D:\\Data\\0.0.1'.\n",
      "Unzipping contents of 'D:\\Data\\0.0.1\\transcriptomics\\xenium\\Xenium_V1_humanLung_Cancer_FFPE\\sdata.zarr.zip' to 'D:\\Data\\0.0.1\\transcriptomics\\xenium\\Xenium_V1_humanLung_Cancer_FFPE\\sdata.zarr.zip.unzip'\n",
      "c:\\Users\\julienm\\miniconda3\\envs\\training_env\\lib\\site-packages\\zarr\\creation.py:300: UserWarning: ignoring keyword argument 'read_only'\n",
      "  warn(f\"ignoring keyword argument {k!r}\")\n",
      "c:\\Users\\julienm\\miniconda3\\envs\\training_env\\lib\\site-packages\\zarr\\creation.py:300: UserWarning: ignoring keyword argument 'read_only'\n",
      "  warn(f\"ignoring keyword argument {k!r}\")\n",
      "c:\\Users\\julienm\\miniconda3\\envs\\training_env\\lib\\site-packages\\zarr\\creation.py:300: UserWarning: ignoring keyword argument 'read_only'\n",
      "  warn(f\"ignoring keyword argument {k!r}\")\n",
      "c:\\Users\\julienm\\miniconda3\\envs\\training_env\\lib\\site-packages\\zarr\\creation.py:300: UserWarning: ignoring keyword argument 'read_only'\n",
      "  warn(f\"ignoring keyword argument {k!r}\")\n",
      "c:\\Users\\julienm\\miniconda3\\envs\\training_env\\lib\\site-packages\\zarr\\creation.py:300: UserWarning: ignoring keyword argument 'read_only'\n",
      "  warn(f\"ignoring keyword argument {k!r}\")\n",
      "c:\\Users\\julienm\\miniconda3\\envs\\training_env\\lib\\site-packages\\zarr\\creation.py:300: UserWarning: ignoring keyword argument 'read_only'\n",
      "  warn(f\"ignoring keyword argument {k!r}\")\n",
      "c:\\Users\\julienm\\miniconda3\\envs\\training_env\\lib\\site-packages\\zarr\\creation.py:300: UserWarning: ignoring keyword argument 'read_only'\n",
      "  warn(f\"ignoring keyword argument {k!r}\")\n",
      "c:\\Users\\julienm\\miniconda3\\envs\\training_env\\lib\\site-packages\\zarr\\creation.py:300: UserWarning: ignoring keyword argument 'read_only'\n",
      "  warn(f\"ignoring keyword argument {k!r}\")\n",
      "c:\\Users\\julienm\\miniconda3\\envs\\training_env\\lib\\site-packages\\anndata\\_core\\aligned_df.py:68: ImplicitModificationWarning: Transforming to str index.\n",
      "  warnings.warn(\"Transforming to str index.\", ImplicitModificationWarning)\n"
     ]
    }
   ],
   "source": [
    "# OPTIONAL (takes up a lot of disk space)\n",
    "\n",
    "from datasets import sdata_xenium\n",
    "\n",
    "sdata = sdata_xenium(path=path, output=None)\n",
    "\n",
    "# NOTE: This needs approx. an additional 19 GB of disk space. This will be used in the 3_xenium_explorer.ipynb notebook."
   ]
  }
 ],
 "metadata": {
  "kernelspec": {
   "display_name": "training_env",
   "language": "python",
   "name": "python3"
  },
  "language_info": {
   "codemirror_mode": {
    "name": "ipython",
    "version": 3
   },
   "file_extension": ".py",
   "mimetype": "text/x-python",
   "name": "python",
   "nbconvert_exporter": "python",
   "pygments_lexer": "ipython3",
   "version": "3.10.8"
  }
 },
 "nbformat": 4,
 "nbformat_minor": 2
}
