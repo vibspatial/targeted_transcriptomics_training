{
 "cells": [
  {
   "cell_type": "markdown",
   "metadata": {},
   "source": [
    "# Download datasets"
   ]
  },
  {
   "cell_type": "code",
   "execution_count": 1,
   "metadata": {},
   "outputs": [],
   "source": [
    "import harpy as hp"
   ]
  },
  {
   "cell_type": "code",
   "execution_count": null,
   "metadata": {},
   "outputs": [],
   "source": [
    "# If path is set to None, example data will be downloaded in the default cache folder of your os. Set this to a custom path to change this behaviour.\n",
    "path = None\n",
    "# path = r\"c:\\tmp\" # Recommended on Windows\n",
    "# path = \"/staging/leuven/stg_00143/spatial_data_training\" # on VSC"
   ]
  },
  {
   "cell_type": "markdown",
   "metadata": {},
   "source": [
    "## 1. Resolve data for 1.explore_sdata.ipynb"
   ]
  },
  {
   "cell_type": "code",
   "execution_count": 5,
   "metadata": {},
   "outputs": [
    {
     "name": "stderr",
     "output_type": "stream",
     "text": [
      "c:\\Users\\julien.mortier\\conda-envs\\harpy\\lib\\site-packages\\zarr\\creation.py:614: UserWarning: ignoring keyword argument 'read_only'\n",
      "  compressor, fill_value = _kwargs_compat(compressor, fill_value, kwargs)\n"
     ]
    }
   ],
   "source": [
    "from training_datasets import sdata_resolve\n",
    "\n",
    "sdata = sdata_resolve(path=path, output=None)\n",
    "\n",
    "# NOTE: This needs approx. 1.5 GB of disk space."
   ]
  },
  {
   "cell_type": "markdown",
   "metadata": {},
   "source": [
    "## 2. Resolve data for 2.sparrow_pipeline.ipynb"
   ]
  },
  {
   "cell_type": "code",
   "execution_count": 6,
   "metadata": {},
   "outputs": [
    {
     "name": "stderr",
     "output_type": "stream",
     "text": [
      "Downloading file 'transcriptomics/resolve/mouse/20272_slide1_A1-1_DAPI.tiff' from 'https://objectstor.vib.be/spatial-hackathon-public/sparrow/public_datasets/transcriptomics/resolve/mouse/20272_slide1_A1-1_DAPI.tiff' to 'c:\\tmp\\0.0.1'.\n",
      "Downloading file 'transcriptomics/resolve/mouse/20272_slide1_A1-1_results.txt' from 'https://objectstor.vib.be/spatial-hackathon-public/sparrow/public_datasets/transcriptomics/resolve/mouse/20272_slide1_A1-1_results.txt' to 'c:\\tmp\\0.0.1'.\n"
     ]
    }
   ],
   "source": [
    "from harpy.datasets.registry import get_registry\n",
    "\n",
    "registry = get_registry(path=path)\n",
    "path_image = registry.fetch(\"transcriptomics/resolve/mouse/20272_slide1_A1-1_DAPI.tiff\")\n",
    "path_coordinates = registry.fetch(\"transcriptomics/resolve/mouse/20272_slide1_A1-1_results.txt\")\n",
    "\n",
    "# NOTE: This needs approx. 0.5 GB of disk space."
   ]
  },
  {
   "cell_type": "markdown",
   "metadata": {},
   "source": [
    "## 3. Xenium data for 4.sparrow_pipeline_xenium.ipynb"
   ]
  },
  {
   "cell_type": "code",
   "execution_count": null,
   "metadata": {},
   "outputs": [
    {
     "name": "stderr",
     "output_type": "stream",
     "text": [
      "Downloading file 'transcriptomics/xenium/Xenium_V1_humanLung_Cancer_FFPE/Xenium_V1_humanLung_Cancer_FFPE_outs.zip' from 'https://objectstor.vib.be/spatial-hackathon-public/sparrow/public_datasets/transcriptomics/xenium/Xenium_V1_humanLung_Cancer_FFPE/Xenium_V1_humanLung_Cancer_FFPE_outs.zip' to 'c:\\tmp\\0.0.1'.\n"
     ]
    }
   ],
   "source": [
    "import os\n",
    "import pooch\n",
    "from harpy.datasets.registry import get_registry\n",
    "\n",
    "registry = get_registry(path=path)\n",
    "path_unzipped = registry.fetch(\n",
    "    \"transcriptomics/xenium/Xenium_V1_humanLung_Cancer_FFPE/Xenium_V1_humanLung_Cancer_FFPE_outs.zip\",\n",
    "    processor=pooch.Unzip(extract_dir=\".\"),\n",
    ")\n",
    "_ = registry.fetch(\n",
    "    \"transcriptomics/xenium/Xenium_V1_humanLung_Cancer_FFPE/Xenium_V1_humanLung_Cancer_FFPE_he_image.ome.tif\"\n",
    ")\n",
    "_ = registry.fetch(\n",
    "    \"transcriptomics/xenium/Xenium_V1_humanLung_Cancer_FFPE/Xenium_V1_humanLung_Cancer_FFPE_he_imagealignment.csv\"\n",
    ")\n",
    "input_path = os.path.commonpath(path_unzipped)\n",
    "\n",
    "# NOTE: This needs approx. 16 GB of disk space."
   ]
  }
 ],
 "metadata": {
  "kernelspec": {
   "display_name": "harpy",
   "language": "python",
   "name": "python3"
  },
  "language_info": {
   "codemirror_mode": {
    "name": "ipython",
    "version": 3
   },
   "file_extension": ".py",
   "mimetype": "text/x-python",
   "name": "python",
   "nbconvert_exporter": "python",
   "pygments_lexer": "ipython3",
   "version": "3.10.8"
  }
 },
 "nbformat": 4,
 "nbformat_minor": 2
}
